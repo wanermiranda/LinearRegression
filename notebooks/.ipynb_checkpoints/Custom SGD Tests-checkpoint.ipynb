{
 "cells": [
  {
   "cell_type": "code",
   "execution_count": 1,
   "metadata": {},
   "outputs": [],
   "source": [
    "import sys\n",
    "sys.path\n",
    "sys.path.append('../')\n",
    "\n",
    "from diamonds import customSGD, normal_equation"
   ]
  },
  {
   "cell_type": "code",
   "execution_count": 2,
   "metadata": {
    "scrolled": true
   },
   "outputs": [
    {
     "name": "stdout",
     "output_type": "stream",
     "text": [
      "X values \n",
      "[[1. 4. 7.]\n",
      " [1. 2. 6.]]\n",
      "Iter 0 theta: [1.02  0.05  0.125]\n",
      "RMSE error: 1.5076\n",
      "Iter 1 theta: [1.030175 0.0694   0.185575]\n",
      "RMSE error: 1.2881\n",
      "Iter 2 theta: [1.03572887 0.07443975 0.21586425]\n",
      "RMSE error: 1.2297\n",
      "Iter 3 theta: [1.03910722 0.07275106 0.23191162]\n",
      "RMSE error: 1.2118\n",
      "Iter 4 theta: [1.04145936 0.06792041 0.241257  ]\n",
      "RMSE error: 1.2031\n",
      "Iter 5 theta: [1.04332545 0.06163319 0.24744383]\n",
      "RMSE error: 1.1966\n",
      "Iter 6 theta: [1.04495935 0.05468134 0.25213741]\n",
      "RMSE error: 1.1905\n",
      "Iter 7 theta: [1.04648038 0.04743694 0.25612039]\n",
      "RMSE error: 1.1846\n",
      "Iter 8 theta: [1.04794465 0.04007476 0.25976061]\n",
      "RMSE error: 1.1787\n",
      "Iter 9 theta: [1.04937852 0.03267682 0.263231  ]\n",
      "RMSE error: 1.1729\n",
      "Iter 10 theta: [1.05079441 0.02528159 0.26661285]\n",
      "RMSE error: 1.1671\n",
      "Iter 11 theta: [1.05219818 0.01790703 0.26994444]\n",
      "RMSE error: 1.1613\n",
      "Iter 12 theta: [1.0535926  0.01056149 0.27324376]\n",
      "RMSE error: 1.1555\n",
      "Iter 13 theta: [1.05497899 0.00324881 0.27651935]\n",
      "RMSE error: 1.1498\n",
      "Iter 14 theta: [ 1.05635798 -0.00402931  0.27977523]\n",
      "RMSE error: 1.1441\n",
      "Iter 15 theta: [ 1.05772989 -0.01127216  0.28301335]\n",
      "RMSE error: 1.1384\n",
      "Iter 16 theta: [ 1.05909488 -0.01847951  0.28623467]\n",
      "RMSE error: 1.1328\n",
      "Iter 17 theta: [ 1.06045307 -0.02565134  0.28943967]\n",
      "RMSE error: 1.1272\n",
      "Iter 18 theta: [ 1.0618045  -0.03278773  0.29262863]\n",
      "RMSE error: 1.1216\n",
      "Iter 19 theta: [ 1.06314923 -0.03988882  0.29580172]\n",
      "RMSE error: 1.1161\n",
      "Iter 20 theta: [ 1.06448729 -0.04695476  0.29895905]\n",
      "RMSE error: 1.1105\n",
      "Iter 21 theta: [ 1.06581872 -0.05398571  0.30210073]\n",
      "RMSE error: 1.1050\n",
      "Iter 22 theta: [ 1.06714355 -0.06098185  0.30522685]\n",
      "RMSE error: 1.0996\n",
      "Iter 23 theta: [ 1.06846183 -0.06794334  0.30833748]\n",
      "RMSE error: 1.0941\n",
      "Iter 24 theta: [ 1.06977358 -0.07487036  0.3114327 ]\n",
      "RMSE error: 1.0887\n",
      "Iter 25 theta: [ 1.07107882 -0.08176307  0.31451259]\n",
      "RMSE error: 1.0833\n",
      "Iter 26 theta: [ 1.07237761 -0.08862164  0.31757723]\n",
      "RMSE error: 1.0779\n",
      "Iter 27 theta: [ 1.07366996 -0.09544625  0.32062669]\n",
      "RMSE error: 1.0726\n",
      "Iter 28 theta: [ 1.07495592 -0.10223706  0.32366105]\n",
      "RMSE error: 1.0673\n",
      "Iter 29 theta: [ 1.0762355  -0.10899425  0.32668038]\n",
      "RMSE error: 1.0620\n",
      "Iter 30 theta: [ 1.07750875 -0.11571796  0.32968476]\n",
      "RMSE error: 1.0567\n",
      "Iter 31 theta: [ 1.07877569 -0.12240838  0.33267426]\n",
      "RMSE error: 1.0515\n",
      "Iter 32 theta: [ 1.08003636 -0.12906567  0.33564896]\n",
      "RMSE error: 1.0463\n",
      "Iter 33 theta: [ 1.08129078 -0.13568998  0.33860892]\n",
      "RMSE error: 1.0411\n",
      "Iter 34 theta: [ 1.08253899 -0.14228149  0.34155422]\n",
      "RMSE error: 1.0360\n",
      "Iter 35 theta: [ 1.08378102 -0.14884036  0.34448494]\n",
      "RMSE error: 1.0308\n",
      "Iter 36 theta: [ 1.0850169  -0.15536674  0.34740115]\n",
      "RMSE error: 1.0257\n",
      "Iter 37 theta: [ 1.08624666 -0.1618608   0.35030291]\n",
      "RMSE error: 1.0207\n",
      "Iter 38 theta: [ 1.08747033 -0.1683227   0.3531903 ]\n",
      "RMSE error: 1.0156\n",
      "Iter 39 theta: [ 1.08868794 -0.1747526   0.35606339]\n",
      "RMSE error: 1.0106\n",
      "Iter 40 theta: [ 1.08989952 -0.18115066  0.35892225]\n",
      "RMSE error: 1.0056\n",
      "Iter 41 theta: [ 1.09110509 -0.18751703  0.36176696]\n",
      "RMSE error: 1.0006\n",
      "Iter 42 theta: [ 1.0923047  -0.19385187  0.36459758]\n",
      "RMSE error: 0.9956\n",
      "Iter 43 theta: [ 1.09349837 -0.20015534  0.36741418]\n",
      "RMSE error: 0.9907\n",
      "Iter 44 theta: [ 1.09468612 -0.20642759  0.37021682]\n",
      "RMSE error: 0.9858\n",
      "Iter 45 theta: [ 1.095868   -0.21266878  0.37300559]\n",
      "RMSE error: 0.9809\n",
      "Iter 46 theta: [ 1.09704402 -0.21887906  0.37578055]\n",
      "RMSE error: 0.9761\n",
      "Iter 47 theta: [ 1.09821421 -0.22505859  0.37854177]\n",
      "RMSE error: 0.9712\n",
      "Iter 48 theta: [ 1.09937861 -0.23120751  0.38128931]\n",
      "RMSE error: 0.9664\n",
      "Iter 49 theta: [ 1.10053725 -0.23732598  0.38402325]\n",
      "RMSE error: 0.9616\n",
      "Predicted: [2.83939605 2.93002477]\n",
      "Expected: [2. 4.]\n"
     ]
    }
   ],
   "source": [
    "customSGD.grad_mse_step_test()"
   ]
  },
  {
   "cell_type": "code",
   "execution_count": 3,
   "metadata": {
    "scrolled": false
   },
   "outputs": [],
   "source": [
    "customSGD.SGD_test()"
   ]
  },
  {
   "cell_type": "code",
   "execution_count": 4,
   "metadata": {},
   "outputs": [
    {
     "name": "stdout",
     "output_type": "stream",
     "text": [
      "RMSE error: 0.4985\n",
      "MSE: 0.249\n",
      "MAE: 0.398\n",
      "R2: 1.000\n"
     ]
    }
   ],
   "source": [
    "normal_equation.normal_equation_test()"
   ]
  },
  {
   "cell_type": "code",
   "execution_count": 5,
   "metadata": {},
   "outputs": [
    {
     "name": "stdout",
     "output_type": "stream",
     "text": [
      "0 100 (100, 3) (100,) 1 100 0\n",
      "[ 0  1  2  3  4  5  6  7  8  9 10 11 12 13 14 15 16 17 18 19 20 21 22 23\n",
      " 24 25 26 27 28 29 30 31 32 33 34 35 36 37 38 39 40 41 42 43 44 45 46 47\n",
      " 48 49 50 51 52 53 54 55 56 57 58 59 60 61 62 63 64 65 66 67 68 69 70 71\n",
      " 72 73 74 75 76 77 78 79 80 81 82 83 84 85 86 87 88 89 90 91 92 93 94 95\n",
      " 96 97 98 99]\n",
      "1 105 (5, 3) (5,) 2 100 0\n",
      "[100 101 102 103 104]\n",
      "2 205 (100, 3) (100,) 1 100 1\n",
      "[ 0  1  2  3  4  5  6  7  8  9 10 11 12 13 14 15 16 17 18 19 20 21 22 23\n",
      " 24 25 26 27 28 29 30 31 32 33 34 35 36 37 38 39 40 41 42 43 44 45 46 47\n",
      " 48 49 50 51 52 53 54 55 56 57 58 59 60 61 62 63 64 65 66 67 68 69 70 71\n",
      " 72 73 74 75 76 77 78 79 80 81 82 83 84 85 86 87 88 89 90 91 92 93 94 95\n",
      " 96 97 98 99]\n"
     ]
    }
   ],
   "source": [
    "customSGD.get_batch_test()"
   ]
  },
  {
   "cell_type": "code",
   "execution_count": 6,
   "metadata": {},
   "outputs": [
    {
     "name": "stdout",
     "output_type": "stream",
     "text": [
      "0 1 (1, 3) (1,) 1 1 0\n",
      "[0]\n",
      "1 2 (1, 3) (1,) 2 1 0\n",
      "[1]\n",
      "2 2 (0, 3) (0,) 3 1 0\n",
      "[]\n",
      "3 3 (1, 3) (1,) 1 1 1\n",
      "[0]\n"
     ]
    }
   ],
   "source": [
    "import numpy as np\n",
    "count = 2\n",
    "X = np.ones((count, 3))\n",
    "y = np.array(range(0, count))\n",
    "b_it = 0\n",
    "b_sz = 1\n",
    "epoch = 0\n",
    "it = 0\n",
    "sz = 0\n",
    "while epoch < 1:\n",
    "    X_, y_, b_it, epoch = customSGD.get_batch(X, y, b_it, b_sz, epoch)\n",
    "    sz += X_.shape[0]\n",
    "    print(it, sz, X_.shape, y_.shape, b_it, b_sz, epoch)\n",
    "    print(y_)\n",
    "    it += 1"
   ]
  },
  {
   "cell_type": "code",
   "execution_count": null,
   "metadata": {},
   "outputs": [],
   "source": []
  }
 ],
 "metadata": {
  "kernelspec": {
   "display_name": "Python 3",
   "language": "python",
   "name": "python3"
  },
  "language_info": {
   "codemirror_mode": {
    "name": "ipython",
    "version": 3
   },
   "file_extension": ".py",
   "mimetype": "text/x-python",
   "name": "python",
   "nbconvert_exporter": "python",
   "pygments_lexer": "ipython3",
   "version": "3.5.2"
  }
 },
 "nbformat": 4,
 "nbformat_minor": 2
}
