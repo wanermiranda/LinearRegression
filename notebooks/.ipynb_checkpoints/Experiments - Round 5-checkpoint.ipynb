{
 "cells": [
  {
   "cell_type": "code",
   "execution_count": 1,
   "metadata": {},
   "outputs": [
    {
     "name": "stderr",
     "output_type": "stream",
     "text": [
      "/root/.local/lib/python3.5/site-packages/sklearn/ensemble/weight_boosting.py:29: DeprecationWarning: numpy.core.umath_tests is an internal NumPy module and should not be imported. It will be removed in a future NumPy release.\n",
      "  from numpy.core.umath_tests import inner1d\n"
     ]
    }
   ],
   "source": [
    "import sys\n",
    "import sys\n",
    "sys.path\n",
    "sys.path.append('../')\n",
    "import warnings\n",
    "warnings.filterwarnings(\"ignore\", category=DeprecationWarning) \n",
    "\n",
    "import matplotlib.pyplot as plt \n",
    "\n",
    "import numpy as np\n",
    "from diamonds import experiments, normal_equation, customSGD\n"
   ]
  },
  {
   "cell_type": "markdown",
   "metadata": {},
   "source": [
    "## Discution 1\n",
    "  - The final experiment in which we run our custom predictor against the reserved test set.\n"
   ]
  },
  {
   "cell_type": "code",
   "execution_count": 2,
   "metadata": {},
   "outputs": [],
   "source": [
    "train = experiments.load_train_data()"
   ]
  },
  {
   "cell_type": "code",
   "execution_count": 3,
   "metadata": {},
   "outputs": [],
   "source": [
    "test = experiments.load_test_data()"
   ]
  },
  {
   "cell_type": "code",
   "execution_count": 4,
   "metadata": {},
   "outputs": [],
   "source": [
    "base_params = {'lr':0.1,\n",
    "'max_iter':500000,\n",
    "'lr_optimizer':'invscaling',\n",
    "'print_interval':2000}"
   ]
  },
  {
   "cell_type": "code",
   "execution_count": 5,
   "metadata": {
    "scrolled": false
   },
   "outputs": [
    {
     "name": "stdout",
     "output_type": "stream",
     "text": [
      "Evaluating ...\n",
      "Number of samples: 18738\n",
      "Number of parameters: 13\n",
      "It: 1 Batch: 1 Epoch 0 Error: 24.11468178 lr: 0.10000000 \n",
      "It: 2000 Batch: 1 Epoch 1999 Error: 0.02044990 lr: 0.01495349 \n",
      "It: 4000 Batch: 1 Epoch 3999 Error: 0.01345868 lr: 0.01257433 \n",
      "It: 6000 Batch: 1 Epoch 5999 Error: 0.01066443 lr: 0.01136219 \n",
      "It: 8000 Batch: 1 Epoch 7999 Error: 0.00939084 lr: 0.01057371 \n",
      "It: 10000 Batch: 1 Epoch 9999 Error: 0.00876530 lr: 0.01000000 \n",
      "It: 12000 Batch: 1 Epoch 11999 Error: 0.00844175 lr: 0.00955443 \n",
      "It: 14000 Batch: 1 Epoch 13999 Error: 0.00826751 lr: 0.00919323 \n",
      "It: 16000 Batch: 1 Epoch 15999 Error: 0.00817036 lr: 0.00889140 \n",
      "It: 18000 Batch: 1 Epoch 17999 Error: 0.00811437 lr: 0.00863340 \n",
      "It: 20000 Batch: 1 Epoch 19999 Error: 0.00808099 lr: 0.00840896 \n",
      "It: 22000 Batch: 1 Epoch 21999 Error: 0.00806031 lr: 0.00821097 \n",
      "It: 24000 Batch: 1 Epoch 23999 Error: 0.00804690 lr: 0.00803428 \n",
      "It: 26000 Batch: 1 Epoch 25999 Error: 0.00803776 lr: 0.00787511 \n",
      "It: 28000 Batch: 1 Epoch 27999 Error: 0.00803115 lr: 0.00773055 \n",
      "It: 30000 Batch: 1 Epoch 29999 Error: 0.00802607 lr: 0.00759836 \n",
      "It: 32000 Batch: 1 Epoch 31999 Error: 0.00802194 lr: 0.00747674 \n",
      "It: 34000 Batch: 1 Epoch 33999 Error: 0.00801842 lr: 0.00736428 \n",
      "It: 36000 Batch: 1 Epoch 35999 Error: 0.00801528 lr: 0.00725980 \n",
      "It: 38000 Batch: 1 Epoch 37999 Error: 0.00801239 lr: 0.00716233 \n",
      "It: 40000 Batch: 1 Epoch 39999 Error: 0.00800969 lr: 0.00707107 \n",
      "It: 42000 Batch: 1 Epoch 41999 Error: 0.00800712 lr: 0.00698534 \n",
      "It: 44000 Batch: 1 Epoch 43999 Error: 0.00800464 lr: 0.00690457 \n",
      "It: 46000 Batch: 1 Epoch 45999 Error: 0.00800224 lr: 0.00682827 \n",
      "It: 48000 Batch: 1 Epoch 47999 Error: 0.00799990 lr: 0.00675600 \n",
      "It: 50000 Batch: 1 Epoch 49999 Error: 0.00799761 lr: 0.00668740 \n",
      "It: 52000 Batch: 1 Epoch 51999 Error: 0.00799536 lr: 0.00662215 \n",
      "It: 54000 Batch: 1 Epoch 53999 Error: 0.00799316 lr: 0.00655997 \n",
      "It: 56000 Batch: 1 Epoch 55999 Error: 0.00799100 lr: 0.00650059 \n",
      "It: 58000 Batch: 1 Epoch 57999 Error: 0.00798887 lr: 0.00644381 \n",
      "It: 60000 Batch: 1 Epoch 59999 Error: 0.00798677 lr: 0.00638943 \n",
      "It: 62000 Batch: 1 Epoch 61999 Error: 0.00798470 lr: 0.00633727 \n",
      "It: 64000 Batch: 1 Epoch 63999 Error: 0.00798267 lr: 0.00628717 \n",
      "It: 66000 Batch: 1 Epoch 65999 Error: 0.00798066 lr: 0.00623899 \n",
      "It: 68000 Batch: 1 Epoch 67999 Error: 0.00797868 lr: 0.00619260 \n",
      "It: 70000 Batch: 1 Epoch 69999 Error: 0.00797672 lr: 0.00614788 \n",
      "It: 72000 Batch: 1 Epoch 71999 Error: 0.00797479 lr: 0.00610474 \n",
      "It: 74000 Batch: 1 Epoch 73999 Error: 0.00797289 lr: 0.00606306 \n",
      "It: 76000 Batch: 1 Epoch 75999 Error: 0.00797100 lr: 0.00602277 \n",
      "It: 78000 Batch: 1 Epoch 77999 Error: 0.00796914 lr: 0.00598379 \n",
      "It: 80000 Batch: 1 Epoch 79999 Error: 0.00796731 lr: 0.00594604 \n",
      "It: 82000 Batch: 1 Epoch 81999 Error: 0.00796549 lr: 0.00590944 \n",
      "It: 84000 Batch: 1 Epoch 83999 Error: 0.00796370 lr: 0.00587395 \n",
      "It: 86000 Batch: 1 Epoch 85999 Error: 0.00796192 lr: 0.00583950 \n",
      "It: 88000 Batch: 1 Epoch 87999 Error: 0.00796017 lr: 0.00580603 \n",
      "It: 90000 Batch: 1 Epoch 89999 Error: 0.00795843 lr: 0.00577350 \n",
      "It: 92000 Batch: 1 Epoch 91999 Error: 0.00795671 lr: 0.00574187 \n",
      "It: 94000 Batch: 1 Epoch 93999 Error: 0.00795501 lr: 0.00571108 \n",
      "It: 96000 Batch: 1 Epoch 95999 Error: 0.00795333 lr: 0.00568110 \n",
      "It: 98000 Batch: 1 Epoch 97999 Error: 0.00795167 lr: 0.00565189 \n",
      "It: 100000 Batch: 1 Epoch 99999 Error: 0.00795002 lr: 0.00562341 \n",
      "It: 102000 Batch: 1 Epoch 101999 Error: 0.00794839 lr: 0.00559564 \n",
      "It: 104000 Batch: 1 Epoch 103999 Error: 0.00794678 lr: 0.00556854 \n",
      "It: 106000 Batch: 1 Epoch 105999 Error: 0.00794518 lr: 0.00554209 \n",
      "It: 108000 Batch: 1 Epoch 107999 Error: 0.00794360 lr: 0.00551625 \n",
      "It: 110000 Batch: 1 Epoch 109999 Error: 0.00794203 lr: 0.00549100 \n",
      "It: 112000 Batch: 1 Epoch 111999 Error: 0.00794047 lr: 0.00546633 \n",
      "It: 114000 Batch: 1 Epoch 113999 Error: 0.00793893 lr: 0.00544219 \n",
      "It: 116000 Batch: 1 Epoch 115999 Error: 0.00793741 lr: 0.00541858 \n",
      "It: 118000 Batch: 1 Epoch 117999 Error: 0.00793590 lr: 0.00539547 \n",
      "It: 120000 Batch: 1 Epoch 119999 Error: 0.00793440 lr: 0.00537285 \n",
      "It: 122000 Batch: 1 Epoch 121999 Error: 0.00793292 lr: 0.00535069 \n",
      "It: 124000 Batch: 1 Epoch 123999 Error: 0.00793145 lr: 0.00532899 \n",
      "It: 126000 Batch: 1 Epoch 125999 Error: 0.00792999 lr: 0.00530771 \n",
      "It: 128000 Batch: 1 Epoch 127999 Error: 0.00792854 lr: 0.00528686 \n",
      "It: 130000 Batch: 1 Epoch 129999 Error: 0.00792711 lr: 0.00526640 \n",
      "It: 132000 Batch: 1 Epoch 131999 Error: 0.00792569 lr: 0.00524634 \n",
      "It: 134000 Batch: 1 Epoch 133999 Error: 0.00792428 lr: 0.00522665 \n",
      "It: 136000 Batch: 1 Epoch 135999 Error: 0.00792288 lr: 0.00520733 \n",
      "It: 138000 Batch: 1 Epoch 137999 Error: 0.00792149 lr: 0.00518836 \n",
      "It: 140000 Batch: 1 Epoch 139999 Error: 0.00792012 lr: 0.00516973 \n",
      "It: 142000 Batch: 1 Epoch 141999 Error: 0.00791875 lr: 0.00515143 \n",
      "It: 144000 Batch: 1 Epoch 143999 Error: 0.00791740 lr: 0.00513345 \n",
      "It: 146000 Batch: 1 Epoch 145999 Error: 0.00791606 lr: 0.00511578 \n",
      "It: 148000 Batch: 1 Epoch 147999 Error: 0.00791472 lr: 0.00509841 \n",
      "It: 150000 Batch: 1 Epoch 149999 Error: 0.00791340 lr: 0.00508133 \n",
      "It: 152000 Batch: 1 Epoch 151999 Error: 0.00791209 lr: 0.00506453 \n",
      "It: 154000 Batch: 1 Epoch 153999 Error: 0.00791079 lr: 0.00504801 \n",
      "It: 156000 Batch: 1 Epoch 155999 Error: 0.00790950 lr: 0.00503175 \n",
      "It: 158000 Batch: 1 Epoch 157999 Error: 0.00790821 lr: 0.00501575 \n",
      "It: 160000 Batch: 1 Epoch 159999 Error: 0.00790694 lr: 0.00500000 \n",
      "It: 162000 Batch: 1 Epoch 161999 Error: 0.00790568 lr: 0.00498450 \n",
      "It: 164000 Batch: 1 Epoch 163999 Error: 0.00790442 lr: 0.00496923 \n",
      "It: 166000 Batch: 1 Epoch 165999 Error: 0.00790318 lr: 0.00495419 \n",
      "It: 168000 Batch: 1 Epoch 167999 Error: 0.00790194 lr: 0.00493938 \n",
      "It: 170000 Batch: 1 Epoch 169999 Error: 0.00790071 lr: 0.00492479 \n",
      "It: 172000 Batch: 1 Epoch 171999 Error: 0.00789950 lr: 0.00491041 \n",
      "It: 174000 Batch: 1 Epoch 173999 Error: 0.00789829 lr: 0.00489624 \n",
      "It: 176000 Batch: 1 Epoch 175999 Error: 0.00789708 lr: 0.00488227 \n",
      "It: 178000 Batch: 1 Epoch 177999 Error: 0.00789589 lr: 0.00486850 \n",
      "It: 180000 Batch: 1 Epoch 179999 Error: 0.00789470 lr: 0.00485492 \n",
      "It: 182000 Batch: 1 Epoch 181999 Error: 0.00789353 lr: 0.00484152 \n",
      "It: 184000 Batch: 1 Epoch 183999 Error: 0.00789236 lr: 0.00482831 \n",
      "It: 186000 Batch: 1 Epoch 185999 Error: 0.00789120 lr: 0.00481528 \n",
      "It: 188000 Batch: 1 Epoch 187999 Error: 0.00789004 lr: 0.00480242 \n",
      "It: 190000 Batch: 1 Epoch 189999 Error: 0.00788890 lr: 0.00478974 \n",
      "It: 192000 Batch: 1 Epoch 191999 Error: 0.00788776 lr: 0.00477721 \n",
      "It: 194000 Batch: 1 Epoch 193999 Error: 0.00788663 lr: 0.00476485 \n",
      "It: 196000 Batch: 1 Epoch 195999 Error: 0.00788550 lr: 0.00475265 \n",
      "It: 198000 Batch: 1 Epoch 197999 Error: 0.00788439 lr: 0.00474060 \n",
      "It: 200000 Batch: 1 Epoch 199999 Error: 0.00788328 lr: 0.00472871 \n",
      "Finished \n",
      " It: 200000 Batch: 1 Epoch 199999 Train Loss: 0.00788328 lr: 0.00472871 \n",
      "RMSE : 973.2592\n",
      "MSE: 947233.4202\n",
      "MAE: 469.9870\n",
      "R2: 0.9408\n"
     ]
    },
    {
     "data": {
      "image/png": "[encoded data removed]",
      "text/plain": [
       "<Figure size 432x288 with 1 Axes>"
      ]
     },
     "metadata": {
      "needs_background": "light"
     },
     "output_type": "display_data"
    },
    {
     "data": {
      "image/png": "[encoded data removed]",
      "text/plain": [
       "<Figure size 432x288 with 1 Axes>"
      ]
     },
     "metadata": {
      "needs_background": "light"
     },
     "output_type": "display_data"
    },
    {
     "data": {
      "image/png": "[encoded data removed]",
      "text/plain": [
       "<Figure size 432x288 with 1 Axes>"
      ]
     },
     "metadata": {
      "needs_background": "light"
     },
     "output_type": "display_data"
    }
   ],
   "source": [
    "experiments.fit_evaluate_customSGD(train.copy(), test.copy(), params=base_params, log_y=True, scale=True)"
   ]
  },
  {
   "cell_type": "code",
   "execution_count": null,
   "metadata": {},
   "outputs": [],
   "source": []
  }
 ],
 "metadata": {
  "kernelspec": {
   "display_name": "Python 3",
   "language": "python",
   "name": "python3"
  },
  "language_info": {
   "codemirror_mode": {
    "name": "ipython",
    "version": 3
   },
   "file_extension": ".py",
   "mimetype": "text/x-python",
   "name": "python",
   "nbconvert_exporter": "python",
   "pygments_lexer": "ipython3",
   "version": "3.5.2"
  }
 },
 "nbformat": 4,
 "nbformat_minor": 2
}
