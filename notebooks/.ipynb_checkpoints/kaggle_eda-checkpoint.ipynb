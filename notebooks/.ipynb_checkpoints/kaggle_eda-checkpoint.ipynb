{
 "cells": [
  {
   "cell_type": "code",
   "execution_count": 1,
   "metadata": {
    "_cell_guid": "b1076dfc-b9ad-4769-8c92-a6c4dae69d19",
    "_uuid": "8f2839f25d086af736a60e9eeb907d3b93b6e0e5"
   },
   "outputs": [
    {
     "name": "stdout",
     "output_type": "stream",
     "text": [
      "['test.pkl', 'diamonds.csv', 'train.pkl']\n"
     ]
    }
   ],
   "source": [
    "# This Python 3 environment comes with many helpful analytics libraries installed\n",
    "# It is defined by the kaggle/python docker image: https://github.com/kaggle/docker-python\n",
    "# For example, here's several helpful packages to load in \n",
    "\n",
    "import numpy as np # linear algebra\n",
    "import pandas as pd # data processing, CSV file I/O (e.g. pd.read_csv)\n",
    "from pandas.api.types import CategoricalDtype\n",
    "# Input data files are available in the \"../input/\" directory.\n",
    "# For example, running this (by clicking run or pressing Shift+Enter) will list the files in the input directory\n",
    "from sklearn import model_selection, ensemble, metrics, linear_model\n",
    "import matplotlib.pyplot as plt\n",
    "from sklearn.preprocessing import *\n",
    "import os\n",
    "base_dir = '../data'\n",
    "print(os.listdir(base_dir))\n",
    "\n",
    "\n",
    "# Any results you write to the current directory are saved as output.https://www.kaggle.com/wanermiranda/linear-regression-ml-tp1?scriptVersionId=5240484"
   ]
  },
  {
   "cell_type": "code",
   "execution_count": 2,
   "metadata": {
    "_cell_guid": "79c7e3d0-c299-4dcb-8224-4455121ee9b0",
    "_uuid": "d629ff2d2480ee46fbb7e2d37f6b5fab8052498a"
   },
   "outputs": [
    {
     "data": {
      "text/html": [
       "<div>\n",
       "<style scoped>\n",
       "    .dataframe tbody tr th:only-of-type {\n",
       "        vertical-align: middle;\n",
       "    }\n",
       "\n",
       "    .dataframe tbody tr th {\n",
       "        vertical-align: top;\n",
       "    }\n",
       "\n",
       "    .dataframe thead th {\n",
       "        text-align: right;\n",
       "    }\n",
       "</style>\n",
       "<table border=\"1\" class=\"dataframe\">\n",
       "  <thead>\n",
       "    <tr style=\"text-align: right;\">\n",
       "      <th></th>\n",
       "      <th>carat</th>\n",
       "      <th>cut</th>\n",
       "      <th>color</th>\n",
       "      <th>clarity</th>\n",
       "      <th>depth</th>\n",
       "      <th>table</th>\n",
       "      <th>price</th>\n",
       "      <th>x</th>\n",
       "      <th>y</th>\n",
       "      <th>z</th>\n",
       "    </tr>\n",
       "  </thead>\n",
       "  <tbody>\n",
       "    <tr>\n",
       "      <th>1</th>\n",
       "      <td>0.23</td>\n",
       "      <td>Ideal</td>\n",
       "      <td>E</td>\n",
       "      <td>SI2</td>\n",
       "      <td>61.5</td>\n",
       "      <td>55.0</td>\n",
       "      <td>326</td>\n",
       "      <td>3.95</td>\n",
       "      <td>3.98</td>\n",
       "      <td>2.43</td>\n",
       "    </tr>\n",
       "    <tr>\n",
       "      <th>2</th>\n",
       "      <td>0.21</td>\n",
       "      <td>Premium</td>\n",
       "      <td>E</td>\n",
       "      <td>SI1</td>\n",
       "      <td>59.8</td>\n",
       "      <td>61.0</td>\n",
       "      <td>326</td>\n",
       "      <td>3.89</td>\n",
       "      <td>3.84</td>\n",
       "      <td>2.31</td>\n",
       "    </tr>\n",
       "    <tr>\n",
       "      <th>3</th>\n",
       "      <td>0.23</td>\n",
       "      <td>Good</td>\n",
       "      <td>E</td>\n",
       "      <td>VS1</td>\n",
       "      <td>56.9</td>\n",
       "      <td>65.0</td>\n",
       "      <td>327</td>\n",
       "      <td>4.05</td>\n",
       "      <td>4.07</td>\n",
       "      <td>2.31</td>\n",
       "    </tr>\n",
       "    <tr>\n",
       "      <th>4</th>\n",
       "      <td>0.29</td>\n",
       "      <td>Premium</td>\n",
       "      <td>I</td>\n",
       "      <td>VS2</td>\n",
       "      <td>62.4</td>\n",
       "      <td>58.0</td>\n",
       "      <td>334</td>\n",
       "      <td>4.20</td>\n",
       "      <td>4.23</td>\n",
       "      <td>2.63</td>\n",
       "    </tr>\n",
       "    <tr>\n",
       "      <th>5</th>\n",
       "      <td>0.31</td>\n",
       "      <td>Good</td>\n",
       "      <td>J</td>\n",
       "      <td>SI2</td>\n",
       "      <td>63.3</td>\n",
       "      <td>58.0</td>\n",
       "      <td>335</td>\n",
       "      <td>4.34</td>\n",
       "      <td>4.35</td>\n",
       "      <td>2.75</td>\n",
       "    </tr>\n",
       "    <tr>\n",
       "      <th>6</th>\n",
       "      <td>0.24</td>\n",
       "      <td>Very Good</td>\n",
       "      <td>J</td>\n",
       "      <td>VVS2</td>\n",
       "      <td>62.8</td>\n",
       "      <td>57.0</td>\n",
       "      <td>336</td>\n",
       "      <td>3.94</td>\n",
       "      <td>3.96</td>\n",
       "      <td>2.48</td>\n",
       "    </tr>\n",
       "    <tr>\n",
       "      <th>7</th>\n",
       "      <td>0.24</td>\n",
       "      <td>Very Good</td>\n",
       "      <td>I</td>\n",
       "      <td>VVS1</td>\n",
       "      <td>62.3</td>\n",
       "      <td>57.0</td>\n",
       "      <td>336</td>\n",
       "      <td>3.95</td>\n",
       "      <td>3.98</td>\n",
       "      <td>2.47</td>\n",
       "    </tr>\n",
       "    <tr>\n",
       "      <th>8</th>\n",
       "      <td>0.26</td>\n",
       "      <td>Very Good</td>\n",
       "      <td>H</td>\n",
       "      <td>SI1</td>\n",
       "      <td>61.9</td>\n",
       "      <td>55.0</td>\n",
       "      <td>337</td>\n",
       "      <td>4.07</td>\n",
       "      <td>4.11</td>\n",
       "      <td>2.53</td>\n",
       "    </tr>\n",
       "    <tr>\n",
       "      <th>9</th>\n",
       "      <td>0.22</td>\n",
       "      <td>Fair</td>\n",
       "      <td>E</td>\n",
       "      <td>VS2</td>\n",
       "      <td>65.1</td>\n",
       "      <td>61.0</td>\n",
       "      <td>337</td>\n",
       "      <td>3.87</td>\n",
       "      <td>3.78</td>\n",
       "      <td>2.49</td>\n",
       "    </tr>\n",
       "    <tr>\n",
       "      <th>10</th>\n",
       "      <td>0.23</td>\n",
       "      <td>Very Good</td>\n",
       "      <td>H</td>\n",
       "      <td>VS1</td>\n",
       "      <td>59.4</td>\n",
       "      <td>61.0</td>\n",
       "      <td>338</td>\n",
       "      <td>4.00</td>\n",
       "      <td>4.05</td>\n",
       "      <td>2.39</td>\n",
       "    </tr>\n",
       "  </tbody>\n",
       "</table>\n",
       "</div>"
      ],
      "text/plain": [
       "    carat        cut color clarity  depth  table  price     x     y     z\n",
       "1    0.23      Ideal     E     SI2   61.5   55.0    326  3.95  3.98  2.43\n",
       "2    0.21    Premium     E     SI1   59.8   61.0    326  3.89  3.84  2.31\n",
       "3    0.23       Good     E     VS1   56.9   65.0    327  4.05  4.07  2.31\n",
       "4    0.29    Premium     I     VS2   62.4   58.0    334  4.20  4.23  2.63\n",
       "5    0.31       Good     J     SI2   63.3   58.0    335  4.34  4.35  2.75\n",
       "6    0.24  Very Good     J    VVS2   62.8   57.0    336  3.94  3.96  2.48\n",
       "7    0.24  Very Good     I    VVS1   62.3   57.0    336  3.95  3.98  2.47\n",
       "8    0.26  Very Good     H     SI1   61.9   55.0    337  4.07  4.11  2.53\n",
       "9    0.22       Fair     E     VS2   65.1   61.0    337  3.87  3.78  2.49\n",
       "10   0.23  Very Good     H     VS1   59.4   61.0    338  4.00  4.05  2.39"
      ]
     },
     "execution_count": 2,
     "metadata": {},
     "output_type": "execute_result"
    }
   ],
   "source": [
    "df_diamonds = pd.read_csv('%s/diamonds.csv'%(base_dir), index_col='Unnamed: 0')\n",
    "df_diamonds.head(10)"
   ]
  },
  {
   "cell_type": "markdown",
   "metadata": {
    "_uuid": "877abad593a3e39cd4e76d7dbad18288dae62e08"
   },
   "source": [
    "## Numeric Features \n",
    "* Carat: weight of the diamond\n",
    "* depth: depth %  The height of a diamond, measured from the culet to the table, divided by its average girdle diameter\n",
    "* table: table % The width of the diamond's table expressed as a percentage of its average diameter\n",
    "* price: the price of the diamond\n",
    "* xlength: mm\n",
    "* ywidth: mm\n",
    "* zdepth: mm"
   ]
  },
  {
   "cell_type": "code",
   "execution_count": 3,
   "metadata": {
    "_uuid": "98385ec227afd7a3f5ff08073ffc07795d54785e",
    "scrolled": true
   },
   "outputs": [
    {
     "data": {
      "text/html": [
       "<div>\n",
       "<style scoped>\n",
       "    .dataframe tbody tr th:only-of-type {\n",
       "        vertical-align: middle;\n",
       "    }\n",
       "\n",
       "    .dataframe tbody tr th {\n",
       "        vertical-align: top;\n",
       "    }\n",
       "\n",
       "    .dataframe thead th {\n",
       "        text-align: right;\n",
       "    }\n",
       "</style>\n",
       "<table border=\"1\" class=\"dataframe\">\n",
       "  <thead>\n",
       "    <tr style=\"text-align: right;\">\n",
       "      <th></th>\n",
       "      <th>carat</th>\n",
       "      <th>depth</th>\n",
       "      <th>table</th>\n",
       "      <th>price</th>\n",
       "      <th>x</th>\n",
       "      <th>y</th>\n",
       "      <th>z</th>\n",
       "    </tr>\n",
       "  </thead>\n",
       "  <tbody>\n",
       "    <tr>\n",
       "      <th>count</th>\n",
       "      <td>53940.000000</td>\n",
       "      <td>53940.000000</td>\n",
       "      <td>53940.000000</td>\n",
       "      <td>53940.000000</td>\n",
       "      <td>53940.000000</td>\n",
       "      <td>53940.000000</td>\n",
       "      <td>53940.000000</td>\n",
       "    </tr>\n",
       "    <tr>\n",
       "      <th>mean</th>\n",
       "      <td>0.797940</td>\n",
       "      <td>61.749405</td>\n",
       "      <td>57.457184</td>\n",
       "      <td>3932.799722</td>\n",
       "      <td>5.731157</td>\n",
       "      <td>5.734526</td>\n",
       "      <td>3.538734</td>\n",
       "    </tr>\n",
       "    <tr>\n",
       "      <th>std</th>\n",
       "      <td>0.474011</td>\n",
       "      <td>1.432621</td>\n",
       "      <td>2.234491</td>\n",
       "      <td>3989.439738</td>\n",
       "      <td>1.121761</td>\n",
       "      <td>1.142135</td>\n",
       "      <td>0.705699</td>\n",
       "    </tr>\n",
       "    <tr>\n",
       "      <th>min</th>\n",
       "      <td>0.200000</td>\n",
       "      <td>43.000000</td>\n",
       "      <td>43.000000</td>\n",
       "      <td>326.000000</td>\n",
       "      <td>0.000000</td>\n",
       "      <td>0.000000</td>\n",
       "      <td>0.000000</td>\n",
       "    </tr>\n",
       "    <tr>\n",
       "      <th>25%</th>\n",
       "      <td>0.400000</td>\n",
       "      <td>61.000000</td>\n",
       "      <td>56.000000</td>\n",
       "      <td>950.000000</td>\n",
       "      <td>4.710000</td>\n",
       "      <td>4.720000</td>\n",
       "      <td>2.910000</td>\n",
       "    </tr>\n",
       "    <tr>\n",
       "      <th>50%</th>\n",
       "      <td>0.700000</td>\n",
       "      <td>61.800000</td>\n",
       "      <td>57.000000</td>\n",
       "      <td>2401.000000</td>\n",
       "      <td>5.700000</td>\n",
       "      <td>5.710000</td>\n",
       "      <td>3.530000</td>\n",
       "    </tr>\n",
       "    <tr>\n",
       "      <th>75%</th>\n",
       "      <td>1.040000</td>\n",
       "      <td>62.500000</td>\n",
       "      <td>59.000000</td>\n",
       "      <td>5324.250000</td>\n",
       "      <td>6.540000</td>\n",
       "      <td>6.540000</td>\n",
       "      <td>4.040000</td>\n",
       "    </tr>\n",
       "    <tr>\n",
       "      <th>max</th>\n",
       "      <td>5.010000</td>\n",
       "      <td>79.000000</td>\n",
       "      <td>95.000000</td>\n",
       "      <td>18823.000000</td>\n",
       "      <td>10.740000</td>\n",
       "      <td>58.900000</td>\n",
       "      <td>31.800000</td>\n",
       "    </tr>\n",
       "  </tbody>\n",
       "</table>\n",
       "</div>"
      ],
      "text/plain": [
       "              carat         depth         table         price             x  \\\n",
       "count  53940.000000  53940.000000  53940.000000  53940.000000  53940.000000   \n",
       "mean       0.797940     61.749405     57.457184   3932.799722      5.731157   \n",
       "std        0.474011      1.432621      2.234491   3989.439738      1.121761   \n",
       "min        0.200000     43.000000     43.000000    326.000000      0.000000   \n",
       "25%        0.400000     61.000000     56.000000    950.000000      4.710000   \n",
       "50%        0.700000     61.800000     57.000000   2401.000000      5.700000   \n",
       "75%        1.040000     62.500000     59.000000   5324.250000      6.540000   \n",
       "max        5.010000     79.000000     95.000000  18823.000000     10.740000   \n",
       "\n",
       "                  y             z  \n",
       "count  53940.000000  53940.000000  \n",
       "mean       5.734526      3.538734  \n",
       "std        1.142135      0.705699  \n",
       "min        0.000000      0.000000  \n",
       "25%        4.720000      2.910000  \n",
       "50%        5.710000      3.530000  \n",
       "75%        6.540000      4.040000  \n",
       "max       58.900000     31.800000  "
      ]
     },
     "execution_count": 3,
     "metadata": {},
     "output_type": "execute_result"
    }
   ],
   "source": [
    "df_diamonds.describe()"
   ]
  },
  {
   "cell_type": "markdown",
   "metadata": {
    "_uuid": "5ee6d1d43b7eff5db4be04ee0c292367c50d160d"
   },
   "source": [
    "## cut \n",
    "Describe cut quality of the diamond. Quality in increasing order Fair, Good, Very Good, Premium, Ideal"
   ]
  },
  {
   "cell_type": "code",
   "execution_count": 4,
   "metadata": {
    "_uuid": "787f5714a8636051ff3874ec45c7f7c10c060b75",
    "scrolled": true
   },
   "outputs": [
    {
     "name": "stdout",
     "output_type": "stream",
     "text": [
      "[Ideal, Premium, Good, Very Good, Fair]\n",
      "Categories (5, object): [Fair < Good < Very Good < Premium < Ideal]\n"
     ]
    },
    {
     "data": {
      "text/plain": [
       "count     53940\n",
       "unique        5\n",
       "top       Ideal\n",
       "freq      21551\n",
       "Name: cut, dtype: object"
      ]
     },
     "execution_count": 4,
     "metadata": {},
     "output_type": "execute_result"
    }
   ],
   "source": [
    "cuts_ordered = ['Fair',\n",
    "                'Good',\n",
    "                'Very Good',\n",
    "                'Premium',\n",
    "                'Ideal']\n",
    "df_diamonds['cut'] = df_diamonds['cut'].astype(CategoricalDtype(cuts_ordered, ordered=True))\n",
    "print(df_diamonds['cut'].unique())\n",
    "df_diamonds['cut'].describe()"
   ]
  },
  {
   "cell_type": "markdown",
   "metadata": {
    "_uuid": "4210c64cd66c7200e888b8198781070dc99c6542"
   },
   "source": [
    "## color\n",
    "mColor of the diamond, with D being the best and J the worst"
   ]
  },
  {
   "cell_type": "code",
   "execution_count": 5,
   "metadata": {
    "_uuid": "027047bb1b67635c3487c2d01a92603dc8abfc3a"
   },
   "outputs": [
    {
     "name": "stdout",
     "output_type": "stream",
     "text": [
      "[E, I, J, H, F, G, D]\n",
      "Categories (7, object): [J < I < H < G < F < E < D]\n"
     ]
    },
    {
     "data": {
      "text/plain": [
       "count     53940\n",
       "unique        7\n",
       "top           G\n",
       "freq      11292\n",
       "Name: color, dtype: object"
      ]
     },
     "execution_count": 5,
     "metadata": {},
     "output_type": "execute_result"
    }
   ],
   "source": [
    "colors_ordered = [  'J',\n",
    "                    'I',\n",
    "                    'H',\n",
    "                    'G',\n",
    "                    'F',\n",
    "                    'E',\n",
    "                    'D']\n",
    "df_diamonds['color'] = df_diamonds['color'].astype(CategoricalDtype(colors_ordered, ordered=True))\n",
    "print(df_diamonds['color'].unique())\n",
    "df_diamonds['color'].describe()"
   ]
  },
  {
   "cell_type": "markdown",
   "metadata": {
    "_uuid": "f3a28f822e662d4a4bfd60408d2547e62e670047"
   },
   "source": [
    "## clarity\n",
    "How obvious inclusions are within the diamond:(in order from best to worst, FL = flawless, I3= level 3 inclusions) FL,IF, VVS1, VVS2, VS1, VS2, SI1, SI2, I1, I2, I3"
   ]
  },
  {
   "cell_type": "code",
   "execution_count": 6,
   "metadata": {
    "_uuid": "3b1bfb5329e161298d386c5310c1a78cb46974fa"
   },
   "outputs": [
    {
     "name": "stdout",
     "output_type": "stream",
     "text": [
      "[SI2, SI1, VS1, VS2, VVS2, VVS1, I1, IF]\n",
      "Categories (8, object): [VS1 < VS2 < SI2 < I1 < SI1 < VVS1 < VVS2 < IF]\n"
     ]
    },
    {
     "data": {
      "text/plain": [
       "count     53940\n",
       "unique        8\n",
       "top         SI1\n",
       "freq      13065\n",
       "Name: clarity, dtype: object"
      ]
     },
     "execution_count": 6,
     "metadata": {},
     "output_type": "execute_result"
    }
   ],
   "source": [
    "clarity_codes = {'I3',\n",
    "'I2',\n",
    "'I1',\n",
    "'SI2',\n",
    "'SI1',\n",
    "'VS2',\n",
    "'VS1',\n",
    "'VVS2',\n",
    "'VVS1',\n",
    "'IF',\n",
    "'FL'}\n",
    "df_diamonds['clarity'] = df_diamonds['clarity'].astype(CategoricalDtype(clarity_codes, ordered=True))\n",
    "print(df_diamonds['clarity'].unique())\n",
    "df_diamonds['clarity'].describe()"
   ]
  },
  {
   "cell_type": "markdown",
   "metadata": {
    "_uuid": "ff600d5845d90675104880a893d97727c81e990e"
   },
   "source": [
    "## Cleaning the Data\n",
    "There are some zero dimensions for the diamonds, since that must be noise or mistype, we are cleaning it.\n"
   ]
  },
  {
   "cell_type": "code",
   "execution_count": 7,
   "metadata": {
    "_uuid": "12857a643f144df6f855a07a82e6c80a4d7720bd"
   },
   "outputs": [],
   "source": [
    "df_diamonds = df_diamonds.drop(df_diamonds.loc[df_diamonds.x <= 0].index)\n",
    "df_diamonds = df_diamonds.drop(df_diamonds.loc[df_diamonds.y <= 0].index)\n",
    "df_diamonds = df_diamonds.drop(df_diamonds.loc[df_diamonds.z <= 0].index)"
   ]
  },
  {
   "cell_type": "markdown",
   "metadata": {
    "_uuid": "23d38491d85c45459fe2b582f1b460c9dfa76891"
   },
   "source": [
    "## Handcraft features\n",
    "Since the measures for the diamond follow a 3d shape, we are considering here some handcraft features. \n",
    "Volume for the diamond = reflecting its size and weight. \n",
    "Ratio between the X, Y and Z.\n"
   ]
  },
  {
   "cell_type": "code",
   "execution_count": 8,
   "metadata": {
    "_uuid": "f14e6c21aa6070199e551fcaab1bd3e248591ad7"
   },
   "outputs": [
    {
     "data": {
      "text/html": [
       "<div>\n",
       "<style scoped>\n",
       "    .dataframe tbody tr th:only-of-type {\n",
       "        vertical-align: middle;\n",
       "    }\n",
       "\n",
       "    .dataframe tbody tr th {\n",
       "        vertical-align: top;\n",
       "    }\n",
       "\n",
       "    .dataframe thead th {\n",
       "        text-align: right;\n",
       "    }\n",
       "</style>\n",
       "<table border=\"1\" class=\"dataframe\">\n",
       "  <thead>\n",
       "    <tr style=\"text-align: right;\">\n",
       "      <th></th>\n",
       "      <th>carat</th>\n",
       "      <th>cut</th>\n",
       "      <th>color</th>\n",
       "      <th>clarity</th>\n",
       "      <th>depth</th>\n",
       "      <th>table</th>\n",
       "      <th>price</th>\n",
       "      <th>x</th>\n",
       "      <th>y</th>\n",
       "      <th>z</th>\n",
       "      <th>volume</th>\n",
       "      <th>ratio</th>\n",
       "    </tr>\n",
       "  </thead>\n",
       "  <tbody>\n",
       "    <tr>\n",
       "      <th>1</th>\n",
       "      <td>0.23</td>\n",
       "      <td>Ideal</td>\n",
       "      <td>E</td>\n",
       "      <td>SI2</td>\n",
       "      <td>61.5</td>\n",
       "      <td>55.0</td>\n",
       "      <td>326</td>\n",
       "      <td>3.95</td>\n",
       "      <td>3.98</td>\n",
       "      <td>2.43</td>\n",
       "      <td>38.202030</td>\n",
       "      <td>1.625514</td>\n",
       "    </tr>\n",
       "    <tr>\n",
       "      <th>2</th>\n",
       "      <td>0.21</td>\n",
       "      <td>Premium</td>\n",
       "      <td>E</td>\n",
       "      <td>SI1</td>\n",
       "      <td>59.8</td>\n",
       "      <td>61.0</td>\n",
       "      <td>326</td>\n",
       "      <td>3.89</td>\n",
       "      <td>3.84</td>\n",
       "      <td>2.31</td>\n",
       "      <td>34.505856</td>\n",
       "      <td>1.683983</td>\n",
       "    </tr>\n",
       "    <tr>\n",
       "      <th>3</th>\n",
       "      <td>0.23</td>\n",
       "      <td>Good</td>\n",
       "      <td>E</td>\n",
       "      <td>VS1</td>\n",
       "      <td>56.9</td>\n",
       "      <td>65.0</td>\n",
       "      <td>327</td>\n",
       "      <td>4.05</td>\n",
       "      <td>4.07</td>\n",
       "      <td>2.31</td>\n",
       "      <td>38.076885</td>\n",
       "      <td>1.753247</td>\n",
       "    </tr>\n",
       "    <tr>\n",
       "      <th>4</th>\n",
       "      <td>0.29</td>\n",
       "      <td>Premium</td>\n",
       "      <td>I</td>\n",
       "      <td>VS2</td>\n",
       "      <td>62.4</td>\n",
       "      <td>58.0</td>\n",
       "      <td>334</td>\n",
       "      <td>4.20</td>\n",
       "      <td>4.23</td>\n",
       "      <td>2.63</td>\n",
       "      <td>46.724580</td>\n",
       "      <td>1.596958</td>\n",
       "    </tr>\n",
       "    <tr>\n",
       "      <th>5</th>\n",
       "      <td>0.31</td>\n",
       "      <td>Good</td>\n",
       "      <td>J</td>\n",
       "      <td>SI2</td>\n",
       "      <td>63.3</td>\n",
       "      <td>58.0</td>\n",
       "      <td>335</td>\n",
       "      <td>4.34</td>\n",
       "      <td>4.35</td>\n",
       "      <td>2.75</td>\n",
       "      <td>51.917250</td>\n",
       "      <td>1.578182</td>\n",
       "    </tr>\n",
       "    <tr>\n",
       "      <th>6</th>\n",
       "      <td>0.24</td>\n",
       "      <td>Very Good</td>\n",
       "      <td>J</td>\n",
       "      <td>VVS2</td>\n",
       "      <td>62.8</td>\n",
       "      <td>57.0</td>\n",
       "      <td>336</td>\n",
       "      <td>3.94</td>\n",
       "      <td>3.96</td>\n",
       "      <td>2.48</td>\n",
       "      <td>38.693952</td>\n",
       "      <td>1.588710</td>\n",
       "    </tr>\n",
       "    <tr>\n",
       "      <th>7</th>\n",
       "      <td>0.24</td>\n",
       "      <td>Very Good</td>\n",
       "      <td>I</td>\n",
       "      <td>VVS1</td>\n",
       "      <td>62.3</td>\n",
       "      <td>57.0</td>\n",
       "      <td>336</td>\n",
       "      <td>3.95</td>\n",
       "      <td>3.98</td>\n",
       "      <td>2.47</td>\n",
       "      <td>38.830870</td>\n",
       "      <td>1.599190</td>\n",
       "    </tr>\n",
       "    <tr>\n",
       "      <th>8</th>\n",
       "      <td>0.26</td>\n",
       "      <td>Very Good</td>\n",
       "      <td>H</td>\n",
       "      <td>SI1</td>\n",
       "      <td>61.9</td>\n",
       "      <td>55.0</td>\n",
       "      <td>337</td>\n",
       "      <td>4.07</td>\n",
       "      <td>4.11</td>\n",
       "      <td>2.53</td>\n",
       "      <td>42.321081</td>\n",
       "      <td>1.608696</td>\n",
       "    </tr>\n",
       "    <tr>\n",
       "      <th>9</th>\n",
       "      <td>0.22</td>\n",
       "      <td>Fair</td>\n",
       "      <td>E</td>\n",
       "      <td>VS2</td>\n",
       "      <td>65.1</td>\n",
       "      <td>61.0</td>\n",
       "      <td>337</td>\n",
       "      <td>3.87</td>\n",
       "      <td>3.78</td>\n",
       "      <td>2.49</td>\n",
       "      <td>36.425214</td>\n",
       "      <td>1.554217</td>\n",
       "    </tr>\n",
       "    <tr>\n",
       "      <th>10</th>\n",
       "      <td>0.23</td>\n",
       "      <td>Very Good</td>\n",
       "      <td>H</td>\n",
       "      <td>VS1</td>\n",
       "      <td>59.4</td>\n",
       "      <td>61.0</td>\n",
       "      <td>338</td>\n",
       "      <td>4.00</td>\n",
       "      <td>4.05</td>\n",
       "      <td>2.39</td>\n",
       "      <td>38.718000</td>\n",
       "      <td>1.673640</td>\n",
       "    </tr>\n",
       "  </tbody>\n",
       "</table>\n",
       "</div>"
      ],
      "text/plain": [
       "    carat        cut color clarity  depth  table  price     x     y     z  \\\n",
       "1    0.23      Ideal     E     SI2   61.5   55.0    326  3.95  3.98  2.43   \n",
       "2    0.21    Premium     E     SI1   59.8   61.0    326  3.89  3.84  2.31   \n",
       "3    0.23       Good     E     VS1   56.9   65.0    327  4.05  4.07  2.31   \n",
       "4    0.29    Premium     I     VS2   62.4   58.0    334  4.20  4.23  2.63   \n",
       "5    0.31       Good     J     SI2   63.3   58.0    335  4.34  4.35  2.75   \n",
       "6    0.24  Very Good     J    VVS2   62.8   57.0    336  3.94  3.96  2.48   \n",
       "7    0.24  Very Good     I    VVS1   62.3   57.0    336  3.95  3.98  2.47   \n",
       "8    0.26  Very Good     H     SI1   61.9   55.0    337  4.07  4.11  2.53   \n",
       "9    0.22       Fair     E     VS2   65.1   61.0    337  3.87  3.78  2.49   \n",
       "10   0.23  Very Good     H     VS1   59.4   61.0    338  4.00  4.05  2.39   \n",
       "\n",
       "       volume     ratio  \n",
       "1   38.202030  1.625514  \n",
       "2   34.505856  1.683983  \n",
       "3   38.076885  1.753247  \n",
       "4   46.724580  1.596958  \n",
       "5   51.917250  1.578182  \n",
       "6   38.693952  1.588710  \n",
       "7   38.830870  1.599190  \n",
       "8   42.321081  1.608696  \n",
       "9   36.425214  1.554217  \n",
       "10  38.718000  1.673640  "
      ]
     },
     "execution_count": 8,
     "metadata": {},
     "output_type": "execute_result"
    }
   ],
   "source": [
    "df_diamonds['volume'] = df_diamonds['x'] * df_diamonds['y'] * df_diamonds['z']\n",
    "df_diamonds['ratio'] = df_diamonds['x'] / df_diamonds['y']\n",
    "df_diamonds['ratio'] = df_diamonds['x'] / df_diamonds['z']\n",
    "df_diamonds.head(10)"
   ]
  },
  {
   "cell_type": "code",
   "execution_count": 9,
   "metadata": {
    "_uuid": "d9fd0904b92ed37e3febcd2fd79e1e56339de40b"
   },
   "outputs": [],
   "source": [
    "train, test_reserved = model_selection.train_test_split(df_diamonds, test_size=0.2, random_state=42)\n",
    "test_reserved.to_csv('test.csv')\n",
    "train.to_csv('train.csv')\n",
    "# test_reserved = pd.read_csv('test.csv', index_col='Unnamed: 0')\n",
    "# train = pd.read_csv('train.csv', index_col='Unnamed: 0')\n",
    "df_diamonds = train"
   ]
  },
  {
   "cell_type": "markdown",
   "metadata": {
    "_uuid": "40aa323183c465324b80d853e8078f98861d1cb6"
   },
   "source": [
    "# Distribution Overview\n",
    "The prices seems to follow a power law curve, as show bellow in the graph. "
   ]
  },
  {
   "cell_type": "code",
   "execution_count": 10,
   "metadata": {
    "_uuid": "631192439fb586987bb4b0dbe6ab86cab9688264"
   },
   "outputs": [
    {
     "data": {
      "text/plain": [
       "<matplotlib.axes._subplots.AxesSubplot at 0x7f036cea9450>"
      ]
     },
     "execution_count": 10,
     "metadata": {},
     "output_type": "execute_result"
    },
    {
     "data": {
      "image/png": "[encoded data removed]",
      "text/plain": [
       "<matplotlib.figure.Figure at 0x7f0323b94550>"
      ]
     },
     "metadata": {},
     "output_type": "display_data"
    }
   ],
   "source": [
    "df_diamonds['price'].hist(bins=100)"
   ]
  },
  {
   "cell_type": "code",
   "execution_count": 11,
   "metadata": {
    "_uuid": "cd3f5d223b0fd5d22c1f20efac39206928b9356e"
   },
   "outputs": [
    {
     "data": {
      "text/plain": [
       "count    43136.000000\n",
       "mean      3926.531459\n",
       "std       3983.079043\n",
       "min        326.000000\n",
       "25%        950.750000\n",
       "50%       2398.000000\n",
       "75%       5330.000000\n",
       "max      18806.000000\n",
       "Name: price, dtype: float64"
      ]
     },
     "execution_count": 11,
     "metadata": {},
     "output_type": "execute_result"
    }
   ],
   "source": [
    "df_diamonds['price'].describe()"
   ]
  },
  {
   "cell_type": "markdown",
   "metadata": {
    "_uuid": "633be5cf172d1162ebb0c25799d24dc9a93a21c2"
   },
   "source": [
    "## SGD Regression For Fun\n"
   ]
  },
  {
   "cell_type": "code",
   "execution_count": 12,
   "metadata": {
    "_uuid": "64f46dea7e0ad812b0a31fb32dad8e1b1033f4f4"
   },
   "outputs": [],
   "source": [
    "cat_columns = df_diamonds.select_dtypes(['category']).columns.values\n",
    "df_diamonds[cat_columns] = df_diamonds[cat_columns].apply(lambda x: x.cat.codes)\n",
    "\n"
   ]
  },
  {
   "cell_type": "markdown",
   "metadata": {
    "_uuid": "7a5882811ccd8819456a7eba412305d5c03b80e9"
   },
   "source": [
    "## Normalizing the Data\n",
    "Using the robust scaller **to not only use the mean normalization**, but also to be less vulnerable to outliers."
   ]
  },
  {
   "cell_type": "code",
   "execution_count": 13,
   "metadata": {
    "_uuid": "4e961645520c3d8c27f8975ba6e78a0dd2ca1d1a",
    "scrolled": true
   },
   "outputs": [],
   "source": [
    "X  = df_diamonds.copy()\n",
    "y = X.pop('price')\n",
    "scaler = RobustScaler()\n",
    "scaler.fit(X)\n",
    "X = scaler.transform(X)\n"
   ]
  },
  {
   "cell_type": "markdown",
   "metadata": {
    "_uuid": "ac3b7f88def624b3ff237cfbe2321091c8559886"
   },
   "source": [
    "## Regression\n",
    "Since there is no negative values in the prices we are using here the log(price) to maintain this domain during the regression train. \n",
    "We are also using a 5 cross fold validation to do the grid search. \n",
    "\n",
    "A validation set was extracted from the data as a simulation for the test set.\n"
   ]
  },
  {
   "cell_type": "code",
   "execution_count": 14,
   "metadata": {
    "_uuid": "5ec10ea5e85d3356e8594bedb4e5292dbae376b7"
   },
   "outputs": [],
   "source": [
    "from sklearn.model_selection import *\n",
    "\n",
    "X_train, X_val, y_train, y_val = model_selection.train_test_split(X, y, test_size=0.1, random_state=42)\n"
   ]
  },
  {
   "cell_type": "code",
   "execution_count": 24,
   "metadata": {
    "_uuid": "ed88474e913c58b94b3b7b70c6a99dd9769b2b83"
   },
   "outputs": [
    {
     "ename": "SyntaxError",
     "evalue": "invalid syntax (<ipython-input-24-07c30b67e261>, line 20)",
     "output_type": "error",
     "traceback": [
      "\u001b[0;36m  File \u001b[0;32m\"<ipython-input-24-07c30b67e261>\"\u001b[0;36m, line \u001b[0;32m20\u001b[0m\n\u001b[0;31m    regr = linear_model.SGDRegressor(**best_params_, verbose=True)\u001b[0m\n\u001b[0m                                                   ^\u001b[0m\n\u001b[0;31mSyntaxError\u001b[0m\u001b[0;31m:\u001b[0m invalid syntax\n"
     ]
    }
   ],
   "source": [
    "\n",
    "    \n",
    "params = {\n",
    "    'learning_rate':['invscaling', 'optimal'],\n",
    "    'eta0': [0.1, 0.05, 0.01], \n",
    "    'max_iter':[20000]\n",
    "}\n",
    "\n",
    "scoring = {\n",
    "    'NEG_MSE': 'neg_mean_squared_error',\n",
    "    'NEG_MAE': 'neg_mean_absolute_error',\n",
    "    'VARIANCE': 'r2'\n",
    "}\n",
    "\n",
    "best_params = {'eta0': [0.01], 'learning_rate': ['invscaling'], 'max_iter': [10000]}\n",
    "best_params_ = {'eta0': 0.01, 'learning_rate': 'invscaling', 'max_iter': 10000}\n",
    "\n",
    "## Removing the penalty because it could lead to throubles\n",
    "## when implementing the regression\n",
    "regr = linear_model.SGDRegressor(**best_params_, verbose=True) \n",
    "\n",
    "# regr_ = GridSearchCV(regr_, best_params, cv=2,\n",
    "#                        scoring=scoring, refit='VARIANCE',\n",
    "#                     n_jobs=-1,\n",
    "#                    verbose=True\n",
    "#                    )\n",
    "\n",
    "#regr = GridSearchCV(linear_model.SGDRegressor(),params,cv=3, scoring=scoring, refit='VARIANCE', n_jobs=-1, verbose=True)\n",
    "\n",
    "regr.fit(X_train, np.log(y_train))\n",
    "# results = regr.cv_results_\n"
   ]
  },
  {
   "cell_type": "code",
   "execution_count": null,
   "metadata": {
    "_uuid": "49d3838ff0763e3ef739ce6476d5acf274626b8d"
   },
   "outputs": [],
   "source": [
    "# regr.best_score_"
   ]
  },
  {
   "cell_type": "code",
   "execution_count": null,
   "metadata": {
    "_uuid": "b8fcfe10618eddce897beb586ab26b66c9f4a5bf"
   },
   "outputs": [],
   "source": [
    "# regr.best_params_"
   ]
  },
  {
   "cell_type": "code",
   "execution_count": null,
   "metadata": {
    "_uuid": "422a8684ca2e3a34f9e8f4e7796d337c3febafe7",
    "scrolled": false
   },
   "outputs": [],
   "source": [
    "# def GridSearch_table_plot(grid_clf, param_name,score,\n",
    "#                           num_results=15,                          \n",
    "#                           negative=True,\n",
    "#                           graph=True,\n",
    "#                           display_all_params=True):\n",
    "\n",
    "#     '''Display grid search results\n",
    "\n",
    "#     Arguments\n",
    "#     ---------\n",
    "\n",
    "#     grid_clf           the estimator resulting from a grid search\n",
    "#                        for example: grid_clf = GridSearchCV( ...\n",
    "\n",
    "#     param_name         a string with the name of the parameter being tested\n",
    "\n",
    "#     num_results        an integer indicating the number of results to display\n",
    "#                        Default: 15\n",
    "\n",
    "#     negative           boolean: should the sign of the score be reversed?\n",
    "#                        scoring = 'neg_log_loss', for instance\n",
    "#                        Default: True\n",
    "\n",
    "#     graph              boolean: should a graph be produced?\n",
    "#                        non-numeric parameters (True/False, None) don't graph well\n",
    "#                        Default: True\n",
    "\n",
    "#     display_all_params boolean: should we print out all of the parameters, not just the ones searched for?\n",
    "#                        Default: True\n",
    "\n",
    "#     Usage\n",
    "#     -----\n",
    "\n",
    "#     GridSearch_table_plot(grid_clf, \"min_samples_leaf\")\n",
    "\n",
    "#                           '''\n",
    "#     from matplotlib      import pyplot as plt\n",
    "#     from IPython.display import display\n",
    "#     import pandas as pd\n",
    "\n",
    "#     clf = grid_clf.best_estimator_\n",
    "#     clf_params = grid_clf.best_params_\n",
    "#     if negative:\n",
    "#         clf_score = -grid_clf.best_score_\n",
    "#     else:\n",
    "#         clf_score = grid_clf.best_score_\n",
    "#     clf_stdev = grid_clf.cv_results_['std_test_'+score][grid_clf.best_index_]\n",
    "#     cv_results = grid_clf.cv_results_\n",
    "\n",
    "#     print(\"best parameters: {}\".format(clf_params))\n",
    "#     print(\"best score:      {:0.5f} (+/-{:0.5f})\".format(clf_score, clf_stdev))\n",
    "#     if display_all_params:\n",
    "#         import pprint\n",
    "#         pprint.pprint(clf.get_params())\n",
    "\n",
    "#     # pick out the best results\n",
    "#     # =========================\n",
    "#     scores_df = pd.DataFrame(cv_results).sort_values(by='rank_test_'+score)\n",
    "\n",
    "#     best_row = scores_df.iloc[0, :]\n",
    "#     if negative:\n",
    "#         best_mean = -best_row['mean_test_'+score]\n",
    "#     else:\n",
    "#         best_mean = best_row['mean_test_'+score]\n",
    "#     best_stdev = best_row['std_test_'+score]\n",
    "#     best_param = best_row['param_' + param_name]\n",
    "\n",
    "#     # display the top 'num_results' results\n",
    "#     # =====================================\n",
    "#     display(pd.DataFrame(cv_results) \\\n",
    "#             .sort_values(by='rank_test_'+score).head(num_results))\n",
    "\n",
    "#     # plot the results\n",
    "#     # ================\n",
    "#     scores_df = scores_df.sort_values(by='param_' + param_name)\n",
    "\n",
    "#     if negative:\n",
    "#         means = -scores_df['mean_test_'+score]\n",
    "#     else:\n",
    "#         means = scores_df['mean_test_'+score]\n",
    "#     stds = scores_df['std_test_'+score]\n",
    "#     params = scores_df['param_' + param_name]\n",
    "\n",
    "    \n",
    "# GridSearch_table_plot(regr, param_name=\"eta0\", score='VARIANCE', negative=False)        "
   ]
  },
  {
   "cell_type": "code",
   "execution_count": null,
   "metadata": {
    "_uuid": "7a33c45874de8f198989d343f407320d24b4b674",
    "scrolled": true
   },
   "outputs": [],
   "source": [
    "# regr.best_estimator_"
   ]
  },
  {
   "cell_type": "code",
   "execution_count": null,
   "metadata": {
    "_uuid": "839e38e291f09bf8ea0bf46b1403121ac95804f9"
   },
   "outputs": [],
   "source": [
    "y_val.describe()"
   ]
  },
  {
   "cell_type": "code",
   "execution_count": null,
   "metadata": {
    "_uuid": "6d3ed27c572307c9ebf1a6172efef9e09ccfd4f6"
   },
   "outputs": [],
   "source": [
    "y_pred = np.exp(regr.predict(X_val))\n",
    "pd.Series(y_pred).describe()"
   ]
  },
  {
   "cell_type": "code",
   "execution_count": null,
   "metadata": {
    "_uuid": "0522010985023ed087796f90d5db4d0a43f3912b"
   },
   "outputs": [],
   "source": [
    "print(\"MSE: %.3f\" % metrics.mean_squared_error(y_val, y_pred))\n",
    "print(\"MAE: %.3f\" % metrics.mean_absolute_error(y_val, y_pred))\n",
    "print('R2: %.3f' % metrics.r2_score(y_val, y_pred))\n",
    "\n",
    "plt.hist(y_val, bins=100, color='blue', linewidth=3)\n",
    "plt.show()\n",
    "plt.hist(y_pred, bins=100, color='red', linewidth=3)\n",
    "plt.show()"
   ]
  },
  {
   "cell_type": "code",
   "execution_count": null,
   "metadata": {
    "_uuid": "36fd43759e56554db0c8e3f1b53df6aeea7d4c95"
   },
   "outputs": [],
   "source": [
    "df = pd.DataFrame({'real': y_val, 'pred': y_pred})\n",
    "ax = df.sort_values('real').plot.scatter('real', 'pred', figsize=(5, 5))\n",
    "_ = ax.plot([y.min(), y.max()], [y.min(), y.max()], 'k--', lw=3)"
   ]
  },
  {
   "cell_type": "code",
   "execution_count": null,
   "metadata": {
    "_uuid": "9dfc937025b0da986f7a5ad9dfe634d437ca00ea"
   },
   "outputs": [],
   "source": [
    "def oneHotEncoding(features,columnName):\n",
    "\tcurrentCol = features.columns.get_loc(columnName)\n",
    "\tuniqueFeatures = features[columnName].unique()\n",
    "\tprint(uniqueFeatures)\n",
    "\tfor f in range(len(uniqueFeatures)):\n",
    "\t\tfeatures.insert(loc=currentCol+f,column=columnName+str(f),value=0)\n",
    "\t\tfeatures[columnName+str(f)][features[columnName]==uniqueFeatures[f]] = 1\n",
    "\t\t\n",
    "\tfeatures.pop(columnName)\n",
    "\n",
    "def dummieCoding(features,columnName,orderedFeature):\n",
    "\tc = 0\n",
    "\tfor f in range(len(orderedFeature)):\n",
    "\t\tfeatures[columnName][features[columnName]==orderedFeature[f]] = 2**c\n",
    "\t\tc = c + 1"
   ]
  },
  {
   "cell_type": "code",
   "execution_count": null,
   "metadata": {
    "_uuid": "486ea6525308cc1ad2dc56654aad527014d2e860"
   },
   "outputs": [],
   "source": [
    "def SMSE(parameters,features,target,j):\n",
    "\tnpFeatures = features.values\n",
    "\th = (np.sum(np.multiply(parameters,npFeatures))-target) * npFeatures[j]\n",
    "\treturn h\n",
    "\n",
    "\n",
    "def SGD(alpha, iterations, features, target):\n",
    "\tfeatures.insert(0,\"theta0\",1)\n",
    "\tshape = features.shape\n",
    "\tnsamples = shape[0]\n",
    "\tprint(\"Number of samples: \"+str(nsamples))\n",
    "\tnparams = shape[1]\n",
    "\tprint(\"Number of parameters: \"+str(nparams))\n",
    "\n",
    "\tparameters = np.zeros(nparams)\n",
    "\tnew_parameters = np.zeros(nparams)\n",
    "\n",
    "\terror = 1\n",
    "\tepsilon = 0.0001\n",
    "\tit = 0\n",
    "\ti = 0\n",
    "\n",
    "\twhile ((error > epsilon) and (it < iterations) and (i < nsamples)):\n",
    "\t\tfor j in range(nparams):\n",
    "\t\t\tnew_parameters[j] = parameters[j] - alpha *             SMSE(parameters,features.ix[i],target.ix[i],j)\t\t\n",
    "\t\tit += 1\n",
    "\t\ti += 1\n",
    "\t\terror = math.sqrt(np.sum(np.power(np.subtract(new_parameters,parameters),2)))\n",
    "\t\tprint(parameters)\n",
    "\t\tprint(new_parameters)\n",
    "\t\tnp.copyto(parameters,new_parameters)\n",
    "\t\tprint(\"Epoch: \"+str(it))\n",
    "\t\tprint(\"Sample: \"+str(i))\n",
    "\t\tprint(\"Error: \"+str(error))\n",
    "\t\tprint(\"\\n\\n\")\n",
    "\n",
    "\tfeatures.pop(\"theta0\")\n",
    "\n",
    "\treturn parameters"
   ]
  },
  {
   "cell_type": "code",
   "execution_count": null,
   "metadata": {
    "_uuid": "e46a79d263d96f3c889255b1415fb1c8ba8f1467"
   },
   "outputs": [],
   "source": [
    "theta = np.array([1, 0, 1], dtype=np.double)\n",
    "theta_temp = np.array([0, 0, 0], dtype=np.double)\n",
    "y = np.array([5.,10.], dtype=np.double)\n",
    "X = np.array([[0.,1., 2.],[0.,2., 3.]], dtype=np.double)\n",
    "print (X)\n",
    "alpha = .01\n",
    "max_iter = 50"
   ]
  },
  {
   "cell_type": "code",
   "execution_count": null,
   "metadata": {
    "_uuid": "97e1db86446eae07a972b9eb0d81fa75aed544dd",
    "scrolled": true
   },
   "outputs": [],
   "source": [
    "def hyphotesis(theta, X):\n",
    "    return np.sum(theta.T * X, axis=1)\n",
    "    \n",
    "def MSE_theta(theta, X, y, alpha,j, h0, error):                \n",
    "        S = np.sum(np.matmul(error, X[:,j]))                \n",
    "        result = theta[j] - (alpha * (1. / len(y)) * S)        \n",
    "        return result\n",
    "\n",
    "for i in range(max_iter):\n",
    "    h0 = hyphotesis(theta, X)\n",
    "    error = (h0 - y)\n",
    "    for j in range(X.shape[1]):\n",
    "        theta_temp[j] = MSE_theta(theta, X, y, alpha, j, h0, error)    \n",
    "        \n",
    "    theta = theta_temp.copy()\n",
    "    print (theta)    \n",
    "\n",
    "hyphotesis(theta, X)"
   ]
  },
  {
   "cell_type": "code",
   "execution_count": null,
   "metadata": {
    "_uuid": "3d9e0c1753391fe050a75359d8be53ad9684bcdf"
   },
   "outputs": [],
   "source": [
    "import math\n",
    "\n",
    "import math\n",
    "\n",
    "\n",
    "def SGD_(alpha, max_iter, X, y):\n",
    "    \n",
    "    # Creating theta0 \n",
    "    X = np.insert(X, values=1, obj=0, axis=1)\n",
    "    \n",
    "    shape = X.shape\n",
    "    nsamples = shape[0]\n",
    "    print(\"Number of samples: \"+str(nsamples))\n",
    "    theta0 = np.zeros(nsamples)\n",
    "    nparams = shape[1]\n",
    "    print(\"Number of parameters: \"+str(nparams))\n",
    "\n",
    "\n",
    "    theta = np.random.uniform(size=nparams)\n",
    "    theta_temp = np.ones(nparams)\n",
    "\n",
    "    error = 1\n",
    "    epsilon = 0.001\n",
    "    it = 0\n",
    "    i = 0   \n",
    "    power_t = 0.25\n",
    "    t=1.0\n",
    "    \n",
    "    while ((error > epsilon) and (it < max_iter)):\n",
    "        h0 = hyphotesis(theta, X)\n",
    "        eta = alpha / pow(t, power_t)\n",
    "        error = (h0 - y)\n",
    "        for j in range(nparams):\n",
    "            theta_temp[j] = MSE_theta(theta, X, y, eta, j, h0, error)                \n",
    "        it += 1\n",
    "        i += 1\n",
    "        y_pred = hyphotesis(theta_temp, X)\n",
    "#         print (y,hyphotesis(theta_temp, X))\n",
    "        error =  ((y - y_pred) ** 2).mean() / 2 \n",
    "#         print(theta)\n",
    "#         print(theta_temp)\n",
    "\n",
    "        theta = theta_temp.copy()\n",
    "        \n",
    "        if (i % 100) == 0 or i == 1:\n",
    "            print(\"Epoch: %s Batch: %s Error: %.8f lr: %.8f \"%(it, i, error, eta))\n",
    "        t += 1            \n",
    "   \n",
    "    return theta\n",
    "def predict(theta, X):\n",
    "    X = np.insert(X, values=1, obj=0, axis=1)\n",
    "    return hyphotesis(theta_h, X)\n",
    "\n",
    "max_iter = 10000\n",
    "theta_h = SGD_(alpha, max_iter, X, y)\n",
    "print (y,predict(theta_h, X))\n"
   ]
  },
  {
   "cell_type": "code",
   "execution_count": null,
   "metadata": {
    "_uuid": "f12b2d1321c703975d08f97db37c9cb3677c458a",
    "scrolled": false
   },
   "outputs": [],
   "source": [
    "max_iter = 10000\n",
    "theta_h = SGD_(1., max_iter=max_iter, X=X_train, y=np.log(y_train.values))\n"
   ]
  },
  {
   "cell_type": "code",
   "execution_count": null,
   "metadata": {
    "_uuid": "36dc9621a15f9bf1aab6eb11600f31b5e379f252"
   },
   "outputs": [],
   "source": [
    "y_pred = np.exp(predict(theta_h, X_val))\n",
    "\n",
    "df = pd.DataFrame({'real': y_val, 'pred': y_pred})\n",
    "ax = df.sort_values('real').plot.scatter('real', 'pred', figsize=(5, 5))\n",
    "_ = ax.plot([y_val.min(), y_val.max()], [y_pred.min(), y_pred.max()], 'k--', lw=3)\n",
    "\n"
   ]
  },
  {
   "cell_type": "code",
   "execution_count": null,
   "metadata": {
    "_uuid": "95b777cdd28ea30d7ce6b722db63208000e0f00a"
   },
   "outputs": [],
   "source": [
    "np.mean((np.log(y_pred) - np.log(y_val.values))**2)"
   ]
  },
  {
   "cell_type": "code",
   "execution_count": null,
   "metadata": {
    "_uuid": "8445b674ec0ce22a184fa0f05f9bdde285c86775"
   },
   "outputs": [],
   "source": [
    "np.mean((y_pred - y_val.values)**2)"
   ]
  },
  {
   "cell_type": "code",
   "execution_count": null,
   "metadata": {
    "_uuid": "4b0979fdde25217dcf481a705d5ca2bf968ee67f"
   },
   "outputs": [],
   "source": [
    "print(\"MSE: %.3f\" % metrics.mean_squared_error(y_val, y_pred))\n",
    "print(\"MAE: %.3f\" % metrics.mean_absolute_error(y_val, y_pred))\n",
    "print('R2: %.3f' % metrics.r2_score(y_val, y_pred))\n",
    "\n",
    "plt.hist(y_val, bins=100, color='blue', linewidth=3)\n",
    "plt.show()\n",
    "plt.hist(y_pred, bins=100, color='red', linewidth=3)\n",
    "plt.show()"
   ]
  },
  {
   "cell_type": "code",
   "execution_count": null,
   "metadata": {
    "_uuid": "3b63be911e02ac50d52eb24e44d71785d9c75eb4"
   },
   "outputs": [],
   "source": []
  }
 ],
 "metadata": {
  "kernelspec": {
   "display_name": "Python 2",
   "language": "python",
   "name": "python2"
  },
  "language_info": {
   "codemirror_mode": {
    "name": "ipython",
    "version": 2
   },
   "file_extension": ".py",
   "mimetype": "text/x-python",
   "name": "python",
   "nbconvert_exporter": "python",
   "pygments_lexer": "ipython2",
   "version": "2.7.12"
  }
 },
 "nbformat": 4,
 "nbformat_minor": 1
}
