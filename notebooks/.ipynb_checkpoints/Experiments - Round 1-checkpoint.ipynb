{
 "cells": [
  {
   "cell_type": "code",
   "execution_count": 1,
   "metadata": {},
   "outputs": [
    {
     "name": "stderr",
     "output_type": "stream",
     "text": [
      "/root/.local/lib/python3.5/site-packages/sklearn/ensemble/weight_boosting.py:29: DeprecationWarning: numpy.core.umath_tests is an internal NumPy module and should not be imported. It will be removed in a future NumPy release.\n",
      "  from numpy.core.umath_tests import inner1d\n"
     ]
    }
   ],
   "source": [
    "import sys\n",
    "import sys\n",
    "sys.path\n",
    "sys.path.append('../')\n",
    "\n",
    "import numpy as np\n",
    "from diamonds import experiments, normal_equation\n",
    "\n",
    "import warnings\n",
    "warnings.filterwarnings(\"ignore\", category=DeprecationWarning) \n",
    "scoring = {\n",
    "    \t'Negative MSE': 'neg_mean_squared_error',\n",
    "    \t'Negative MAE': 'neg_mean_absolute_error',\n",
    "    \t'R2': 'r2'\n",
    "\t}\n",
    "\n",
    "syntect_features = ['volume', 'ratio_xy', 'ratio_xz']\n",
    "val_size = .001"
   ]
  },
  {
   "cell_type": "code",
   "execution_count": 2,
   "metadata": {},
   "outputs": [],
   "source": [
    "regr = None"
   ]
  },
  {
   "cell_type": "markdown",
   "metadata": {},
   "source": [
    "## Raw Features"
   ]
  },
  {
   "cell_type": "code",
   "execution_count": 3,
   "metadata": {},
   "outputs": [],
   "source": [
    "X = experiments.load_train_data()\n",
    "X.drop(['x','y','z'], axis=1, inplace= True)\n",
    "folds, (X_train, X_test, y_train, y_test) = experiments.gen_splits(X, scale=False, \n",
    "                                                             exclude_features=syntect_features)"
   ]
  },
  {
   "cell_type": "markdown",
   "metadata": {},
   "source": [
    "### Absolute Price"
   ]
  },
  {
   "cell_type": "code",
   "execution_count": 4,
   "metadata": {},
   "outputs": [
    {
     "name": "stdout",
     "output_type": "stream",
     "text": [
      "Evaluating 5\n",
      "Evaluating 5\n",
      "Evaluating 5\n",
      "Evaluating 5\n",
      "Evaluating 5\n",
      "RMSE: \t 1061.2014 +/- 6.9364\n",
      "MSE:  \t 1126196.5015 +/- 14739.5202\n",
      "MAE:  \t 761.0391 +/- 8.1552\n",
      "R2:   \t 0.8617 +/- 0.0024\n"
     ]
    }
   ],
   "source": [
    "experiments.kfold_evaluate(regr, folds, scoring)"
   ]
  },
  {
   "cell_type": "markdown",
   "metadata": {},
   "source": [
    "## Scaled Features"
   ]
  },
  {
   "cell_type": "code",
   "execution_count": 5,
   "metadata": {},
   "outputs": [],
   "source": [
    "X = experiments.load_train_data()\n",
    "folds, (X_train, X_test, y_train, y_test) = experiments.gen_splits(X, scale=True, \n",
    "                                                             exclude_features=syntect_features)"
   ]
  },
  {
   "cell_type": "markdown",
   "metadata": {},
   "source": [
    "### Absolute Price"
   ]
  },
  {
   "cell_type": "code",
   "execution_count": 6,
   "metadata": {
    "scrolled": false
   },
   "outputs": [
    {
     "name": "stdout",
     "output_type": "stream",
     "text": [
      "Evaluating 5\n",
      "Evaluating 5\n",
      "Evaluating 5\n",
      "Evaluating 5\n",
      "Evaluating 5\n",
      "RMSE: \t 1018.3700 +/- 5.0158\n",
      "MSE:  \t 1037102.6538 +/- 10221.9016\n",
      "MAE:  \t 688.7881 +/- 6.1761\n",
      "R2:   \t 0.8727 +/- 0.0019\n"
     ]
    }
   ],
   "source": [
    "experiments.kfold_evaluate(regr, folds, scoring)"
   ]
  },
  {
   "cell_type": "markdown",
   "metadata": {},
   "source": [
    "### Log(price)"
   ]
  },
  {
   "cell_type": "code",
   "execution_count": 7,
   "metadata": {
    "scrolled": false
   },
   "outputs": [
    {
     "name": "stdout",
     "output_type": "stream",
     "text": [
      "Evaluating 5\n",
      "Evaluating 5\n",
      "Evaluating 5\n",
      "Evaluating 5\n",
      "Evaluating 5\n",
      "RMSE: \t 959.6770 +/- 11.6427\n",
      "MSE:  \t 921115.5788 +/- 22375.5785\n",
      "MAE:  \t 559.9841 +/- 6.3450\n",
      "R2:   \t 0.8869 +/- 0.0031\n"
     ]
    }
   ],
   "source": [
    "experiments.kfold_evaluate(regr, folds, scoring, log_y=True)"
   ]
  },
  {
   "cell_type": "markdown",
   "metadata": {},
   "source": [
    "## Adding syntect features"
   ]
  },
  {
   "cell_type": "code",
   "execution_count": 8,
   "metadata": {},
   "outputs": [],
   "source": [
    "X = experiments.load_train_data()\n",
    "folds, (X_train, X_test, y_train, y_test) = experiments.gen_splits(X, scale=True, \n",
    "                                                             exclude_features=['ratio_xz'])"
   ]
  },
  {
   "cell_type": "markdown",
   "metadata": {},
   "source": [
    "### Absolute Price"
   ]
  },
  {
   "cell_type": "code",
   "execution_count": 9,
   "metadata": {
    "scrolled": false
   },
   "outputs": [
    {
     "name": "stdout",
     "output_type": "stream",
     "text": [
      "Evaluating 5\n",
      "Evaluating 5\n",
      "Evaluating 5\n",
      "Evaluating 5\n",
      "Evaluating 5\n",
      "RMSE: \t 1005.0029 +/- 6.3718\n",
      "MSE:  \t 1010071.4731 +/- 12794.3847\n",
      "MAE:  \t 672.8276 +/- 6.5876\n",
      "R2:   \t 0.8760 +/- 0.0015\n"
     ]
    }
   ],
   "source": [
    "experiments.kfold_evaluate(regr, folds, scoring)"
   ]
  },
  {
   "cell_type": "markdown",
   "metadata": {},
   "source": [
    "### Log(price)"
   ]
  },
  {
   "cell_type": "code",
   "execution_count": 10,
   "metadata": {
    "scrolled": false
   },
   "outputs": [
    {
     "name": "stdout",
     "output_type": "stream",
     "text": [
      "Evaluating 5\n",
      "Evaluating 5\n",
      "Evaluating 5\n",
      "Evaluating 5\n",
      "Evaluating 5\n",
      "RMSE: \t 952.7921 +/- 9.5985\n",
      "MSE:  \t 907904.8405 +/- 18224.6420\n",
      "MAE:  \t 554.8681 +/- 6.4738\n",
      "R2:   \t 0.8885 +/- 0.0018\n"
     ]
    }
   ],
   "source": [
    "experiments.kfold_evaluate(regr, folds, scoring, log_y=True)"
   ]
  },
  {
   "cell_type": "code",
   "execution_count": null,
   "metadata": {},
   "outputs": [],
   "source": []
  },
  {
   "cell_type": "markdown",
   "metadata": {},
   "source": [
    "## Adding syntect features"
   ]
  },
  {
   "cell_type": "code",
   "execution_count": 11,
   "metadata": {},
   "outputs": [],
   "source": [
    "X = experiments.load_train_data()\n",
    "folds, (X_train, X_test, y_train, y_test) = experiments.gen_splits(X, scale=True, \n",
    "                                                             exclude_features=['ratio_xy'])"
   ]
  },
  {
   "cell_type": "markdown",
   "metadata": {},
   "source": [
    "### Absolute Price"
   ]
  },
  {
   "cell_type": "code",
   "execution_count": 12,
   "metadata": {
    "scrolled": false
   },
   "outputs": [
    {
     "name": "stdout",
     "output_type": "stream",
     "text": [
      "Evaluating 5\n",
      "Evaluating 5\n",
      "Evaluating 5\n",
      "Evaluating 5\n",
      "Evaluating 5\n",
      "RMSE: \t 1009.8423 +/- 6.4812\n",
      "MSE:  \t 1019823.5029 +/- 13085.3270\n",
      "MAE:  \t 678.9149 +/- 6.3407\n",
      "R2:   \t 0.8748 +/- 0.0020\n"
     ]
    }
   ],
   "source": [
    "experiments.kfold_evaluate(regr, folds, scoring)"
   ]
  },
  {
   "cell_type": "markdown",
   "metadata": {},
   "source": [
    "### Log(price)"
   ]
  },
  {
   "cell_type": "code",
   "execution_count": 13,
   "metadata": {
    "scrolled": false
   },
   "outputs": [
    {
     "name": "stdout",
     "output_type": "stream",
     "text": [
      "Evaluating 5\n",
      "Evaluating 5\n",
      "Evaluating 5\n",
      "Evaluating 5\n",
      "Evaluating 5\n",
      "RMSE: \t 952.5217 +/- 11.8466\n",
      "MSE:  \t 907437.8959 +/- 22660.9297\n",
      "MAE:  \t 554.4964 +/- 6.3372\n",
      "R2:   \t 0.8886 +/- 0.0033\n"
     ]
    }
   ],
   "source": [
    "experiments.kfold_evaluate(regr, folds, scoring, log_y=True)"
   ]
  },
  {
   "cell_type": "markdown",
   "metadata": {},
   "source": [
    "## Adding syntect features"
   ]
  },
  {
   "cell_type": "code",
   "execution_count": 14,
   "metadata": {},
   "outputs": [],
   "source": [
    "X = experiments.load_train_data()\n",
    "folds, (X_train, X_test, y_train, y_test) = experiments.gen_splits(X, scale=True, \n",
    "                                                             exclude_features=['ratio_xy', 'ratio_xz'])"
   ]
  },
  {
   "cell_type": "markdown",
   "metadata": {},
   "source": [
    "### Absolute Price"
   ]
  },
  {
   "cell_type": "code",
   "execution_count": 15,
   "metadata": {
    "scrolled": false
   },
   "outputs": [
    {
     "name": "stdout",
     "output_type": "stream",
     "text": [
      "Evaluating 5\n",
      "Evaluating 5\n",
      "Evaluating 5\n",
      "Evaluating 5\n",
      "Evaluating 5\n",
      "RMSE: \t 1009.9809 +/- 6.5056\n",
      "MSE:  \t 1020103.7485 +/- 13133.3579\n",
      "MAE:  \t 679.7536 +/- 6.3760\n",
      "R2:   \t 0.8747 +/- 0.0019\n"
     ]
    }
   ],
   "source": [
    "experiments.kfold_evaluate(regr, folds, scoring)"
   ]
  },
  {
   "cell_type": "markdown",
   "metadata": {},
   "source": [
    "### Log(price)"
   ]
  },
  {
   "cell_type": "code",
   "execution_count": 16,
   "metadata": {
    "scrolled": false
   },
   "outputs": [
    {
     "name": "stdout",
     "output_type": "stream",
     "text": [
      "Evaluating 5\n",
      "Evaluating 5\n",
      "Evaluating 5\n",
      "Evaluating 5\n",
      "Evaluating 5\n",
      "RMSE: \t 950.9721 +/- 11.5385\n",
      "MSE:  \t 904481.0666 +/- 22030.3737\n",
      "MAE:  \t 553.2263 +/- 5.7703\n",
      "R2:   \t 0.8889 +/- 0.0032\n"
     ]
    }
   ],
   "source": [
    "experiments.kfold_evaluate(regr, folds, scoring, log_y=True)"
   ]
  },
  {
   "cell_type": "markdown",
   "metadata": {},
   "source": [
    "## Adding syntect features"
   ]
  },
  {
   "cell_type": "code",
   "execution_count": 17,
   "metadata": {},
   "outputs": [],
   "source": [
    "X = experiments.load_train_data()\n",
    "folds, (X_train, X_test, y_train, y_test) = experiments.gen_splits(X, scale=True, \n",
    "                                                             exclude_features=['volume'])"
   ]
  },
  {
   "cell_type": "markdown",
   "metadata": {},
   "source": [
    "### Absolute Price"
   ]
  },
  {
   "cell_type": "code",
   "execution_count": 18,
   "metadata": {
    "scrolled": false
   },
   "outputs": [
    {
     "name": "stdout",
     "output_type": "stream",
     "text": [
      "Evaluating 5\n",
      "Evaluating 5\n",
      "Evaluating 5\n",
      "Evaluating 5\n",
      "Evaluating 5\n",
      "RMSE: \t 1013.0077 +/- 4.8299\n",
      "MSE:  \t 1026207.8291 +/- 9770.5881\n",
      "MAE:  \t 681.9169 +/- 6.2689\n",
      "R2:   \t 0.8740 +/- 0.0014\n"
     ]
    }
   ],
   "source": [
    "experiments.kfold_evaluate(regr, folds, scoring)"
   ]
  },
  {
   "cell_type": "markdown",
   "metadata": {},
   "source": [
    "### Log(price)"
   ]
  },
  {
   "cell_type": "code",
   "execution_count": 19,
   "metadata": {
    "scrolled": false
   },
   "outputs": [
    {
     "name": "stdout",
     "output_type": "stream",
     "text": [
      "Evaluating 5\n",
      "Evaluating 5\n",
      "Evaluating 5\n",
      "Evaluating 5\n",
      "Evaluating 5\n",
      "RMSE: \t 961.5189 +/- 11.4584\n",
      "MSE:  \t 924649.8908 +/- 21933.9548\n",
      "MAE:  \t 560.8512 +/- 7.6779\n",
      "R2:   \t 0.8865 +/- 0.0020\n"
     ]
    }
   ],
   "source": [
    "experiments.kfold_evaluate(regr, folds, scoring, log_y=True)"
   ]
  },
  {
   "cell_type": "code",
   "execution_count": null,
   "metadata": {},
   "outputs": [],
   "source": []
  },
  {
   "cell_type": "markdown",
   "metadata": {},
   "source": [
    "## Adding syntect features"
   ]
  },
  {
   "cell_type": "code",
   "execution_count": 20,
   "metadata": {},
   "outputs": [],
   "source": [
    "X = experiments.load_train_data()\n",
    "folds, (X_train, X_test, y_train, y_test) = experiments.gen_splits(X, scale=True, \n",
    "                                                             exclude_features=['volume', 'ratio_xz'])"
   ]
  },
  {
   "cell_type": "markdown",
   "metadata": {},
   "source": [
    "### Absolute Price"
   ]
  },
  {
   "cell_type": "code",
   "execution_count": 21,
   "metadata": {
    "scrolled": false
   },
   "outputs": [
    {
     "name": "stdout",
     "output_type": "stream",
     "text": [
      "Evaluating 5\n",
      "Evaluating 5\n",
      "Evaluating 5\n",
      "Evaluating 5\n",
      "Evaluating 5\n",
      "RMSE: \t 1013.3260 +/- 4.8081\n",
      "MSE:  \t 1026852.7886 +/- 9736.3780\n",
      "MAE:  \t 682.2661 +/- 6.2148\n",
      "R2:   \t 0.8739 +/- 0.0015\n"
     ]
    }
   ],
   "source": [
    "experiments.kfold_evaluate(regr, folds, scoring)"
   ]
  },
  {
   "cell_type": "markdown",
   "metadata": {},
   "source": [
    "### Log(price)"
   ]
  },
  {
   "cell_type": "code",
   "execution_count": 22,
   "metadata": {
    "scrolled": false
   },
   "outputs": [
    {
     "name": "stdout",
     "output_type": "stream",
     "text": [
      "Evaluating 5\n",
      "Evaluating 5\n",
      "Evaluating 5\n",
      "Evaluating 5\n",
      "Evaluating 5\n",
      "RMSE: \t 961.4349 +/- 11.2056\n",
      "MSE:  \t 924482.6703 +/- 21447.2723\n",
      "MAE:  \t 560.7008 +/- 7.6678\n",
      "R2:   \t 0.8865 +/- 0.0019\n"
     ]
    }
   ],
   "source": [
    "experiments.kfold_evaluate(regr, folds, scoring, log_y=True)"
   ]
  },
  {
   "cell_type": "code",
   "execution_count": null,
   "metadata": {},
   "outputs": [],
   "source": []
  },
  {
   "cell_type": "markdown",
   "metadata": {},
   "source": [
    "## Adding syntect features"
   ]
  },
  {
   "cell_type": "code",
   "execution_count": null,
   "metadata": {},
   "outputs": [],
   "source": []
  },
  {
   "cell_type": "code",
   "execution_count": 23,
   "metadata": {},
   "outputs": [],
   "source": [
    "X = experiments.load_train_data()\n",
    "folds, (X_train, X_test, y_train, y_test) = experiments.gen_splits(X, scale=True, \n",
    "                                                             exclude_features=['volume', 'ratio_xz'])"
   ]
  },
  {
   "cell_type": "markdown",
   "metadata": {},
   "source": [
    "### Absolute Price"
   ]
  },
  {
   "cell_type": "code",
   "execution_count": 24,
   "metadata": {
    "scrolled": false
   },
   "outputs": [
    {
     "name": "stdout",
     "output_type": "stream",
     "text": [
      "Evaluating 5\n",
      "Evaluating 5\n",
      "Evaluating 5\n",
      "Evaluating 5\n",
      "Evaluating 5\n",
      "RMSE: \t 1013.3260 +/- 4.8081\n",
      "MSE:  \t 1026852.7886 +/- 9736.3780\n",
      "MAE:  \t 682.2661 +/- 6.2148\n",
      "R2:   \t 0.8739 +/- 0.0015\n"
     ]
    }
   ],
   "source": [
    "experiments.kfold_evaluate(regr, folds, scoring)"
   ]
  },
  {
   "cell_type": "markdown",
   "metadata": {},
   "source": [
    "### Log(price)"
   ]
  },
  {
   "cell_type": "code",
   "execution_count": 25,
   "metadata": {
    "scrolled": false
   },
   "outputs": [
    {
     "name": "stdout",
     "output_type": "stream",
     "text": [
      "Evaluating 5\n",
      "Evaluating 5\n",
      "Evaluating 5\n",
      "Evaluating 5\n",
      "Evaluating 5\n",
      "RMSE: \t 961.4349 +/- 11.2056\n",
      "MSE:  \t 924482.6703 +/- 21447.2723\n",
      "MAE:  \t 560.7008 +/- 7.6678\n",
      "R2:   \t 0.8865 +/- 0.0019\n"
     ]
    }
   ],
   "source": [
    "experiments.kfold_evaluate(regr, folds, scoring, log_y=True)"
   ]
  },
  {
   "cell_type": "markdown",
   "metadata": {},
   "source": [
    "## Adding syntect features"
   ]
  },
  {
   "cell_type": "code",
   "execution_count": 26,
   "metadata": {},
   "outputs": [],
   "source": [
    "X = experiments.load_train_data()\n",
    "folds, (X_train, X_test, y_train, y_test) = experiments.gen_splits(X, scale=True, \n",
    "                                                             exclude_features=['ratio_xz'])"
   ]
  },
  {
   "cell_type": "markdown",
   "metadata": {},
   "source": [
    "### Absolute Price"
   ]
  },
  {
   "cell_type": "code",
   "execution_count": 27,
   "metadata": {
    "scrolled": false
   },
   "outputs": [
    {
     "name": "stdout",
     "output_type": "stream",
     "text": [
      "Evaluating 5\n",
      "Evaluating 5\n",
      "Evaluating 5\n",
      "Evaluating 5\n",
      "Evaluating 5\n",
      "RMSE: \t 1005.0029 +/- 6.3718\n",
      "MSE:  \t 1010071.4731 +/- 12794.3847\n",
      "MAE:  \t 672.8276 +/- 6.5876\n",
      "R2:   \t 0.8760 +/- 0.0015\n"
     ]
    }
   ],
   "source": [
    "experiments.kfold_evaluate(regr, folds, scoring)"
   ]
  },
  {
   "cell_type": "markdown",
   "metadata": {},
   "source": [
    "### Log(price)"
   ]
  },
  {
   "cell_type": "code",
   "execution_count": 28,
   "metadata": {
    "scrolled": true
   },
   "outputs": [
    {
     "name": "stdout",
     "output_type": "stream",
     "text": [
      "Evaluating 5\n",
      "Evaluating 5\n",
      "Evaluating 5\n",
      "Evaluating 5\n",
      "Evaluating 5\n",
      "RMSE: \t 952.7921 +/- 9.5985\n",
      "MSE:  \t 907904.8405 +/- 18224.6420\n",
      "MAE:  \t 554.8681 +/- 6.4738\n",
      "R2:   \t 0.8885 +/- 0.0018\n"
     ]
    }
   ],
   "source": [
    "experiments.kfold_evaluate(regr, folds, scoring, log_y=True)"
   ]
  },
  {
   "cell_type": "code",
   "execution_count": null,
   "metadata": {},
   "outputs": [],
   "source": []
  },
  {
   "cell_type": "markdown",
   "metadata": {},
   "source": [
    "## Adding syntect features"
   ]
  },
  {
   "cell_type": "code",
   "execution_count": 29,
   "metadata": {},
   "outputs": [],
   "source": [
    "X = experiments.load_train_data()\n",
    "folds, (X_train, X_test, y_train, y_test) = experiments.gen_splits(X, scale=True, \n",
    "                                                             exclude_features=[])"
   ]
  },
  {
   "cell_type": "markdown",
   "metadata": {},
   "source": [
    "### Absolute Price"
   ]
  },
  {
   "cell_type": "code",
   "execution_count": 30,
   "metadata": {
    "scrolled": false
   },
   "outputs": [
    {
     "name": "stdout",
     "output_type": "stream",
     "text": [
      "Evaluating 5\n",
      "Evaluating 5\n",
      "Evaluating 5\n",
      "Evaluating 5\n",
      "Evaluating 5\n",
      "RMSE: \t 1004.8862 +/- 6.4251\n",
      "MSE:  \t 1009837.6083 +/- 12895.7289\n",
      "MAE:  \t 672.8621 +/- 6.5782\n",
      "R2:   \t 0.8760 +/- 0.0014\n"
     ]
    }
   ],
   "source": [
    "experiments.kfold_evaluate(regr, folds, scoring)"
   ]
  },
  {
   "cell_type": "markdown",
   "metadata": {},
   "source": [
    "### Log(price)"
   ]
  },
  {
   "cell_type": "code",
   "execution_count": 31,
   "metadata": {
    "scrolled": true
   },
   "outputs": [
    {
     "name": "stdout",
     "output_type": "stream",
     "text": [
      "Evaluating 5\n",
      "Evaluating 5\n",
      "Evaluating 5\n",
      "Evaluating 5\n",
      "Evaluating 5\n",
      "RMSE: \t 952.9424 +/- 9.7391\n",
      "MSE:  \t 908194.0386 +/- 18498.2216\n",
      "MAE:  \t 554.9836 +/- 6.4618\n",
      "R2:   \t 0.8885 +/- 0.0019\n"
     ]
    }
   ],
   "source": [
    "experiments.kfold_evaluate(regr, folds, scoring, log_y=True)"
   ]
  },
  {
   "cell_type": "code",
   "execution_count": null,
   "metadata": {},
   "outputs": [],
   "source": []
  }
 ],
 "metadata": {
  "kernelspec": {
   "display_name": "Python 3",
   "language": "python",
   "name": "python3"
  },
  "language_info": {
   "codemirror_mode": {
    "name": "ipython",
    "version": 3
   },
   "file_extension": ".py",
   "mimetype": "text/x-python",
   "name": "python",
   "nbconvert_exporter": "python",
   "pygments_lexer": "ipython3",
   "version": "3.5.2"
  }
 },
 "nbformat": 4,
 "nbformat_minor": 2
}
