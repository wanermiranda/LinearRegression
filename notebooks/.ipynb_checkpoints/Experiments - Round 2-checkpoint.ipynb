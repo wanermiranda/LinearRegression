{
 "cells": [
  {
   "cell_type": "code",
   "execution_count": 1,
   "metadata": {},
   "outputs": [
    {
     "name": "stderr",
     "output_type": "stream",
     "text": [
      "/root/.local/lib/python3.5/site-packages/sklearn/ensemble/weight_boosting.py:29: DeprecationWarning: numpy.core.umath_tests is an internal NumPy module and should not be imported. It will be removed in a future NumPy release.\n",
      "  from numpy.core.umath_tests import inner1d\n"
     ]
    }
   ],
   "source": [
    "import sys\n",
    "import sys\n",
    "sys.path\n",
    "sys.path.append('../')\n",
    "\n",
    "import numpy as np\n",
    "from diamonds import experiments, normal_equation\n",
    "\n",
    "import warnings\n",
    "warnings.filterwarnings(\"ignore\", category=DeprecationWarning) \n",
    "scoring = {\n",
    "    \t'Negative MSE': 'neg_mean_squared_error',\n",
    "    \t'Negative MAE': 'neg_mean_absolute_error',\n",
    "    \t'R2': 'r2'\n",
    "\t}\n",
    "\n",
    "val_size = .15\n",
    "params = {}"
   ]
  },
  {
   "cell_type": "markdown",
   "metadata": {},
   "source": [
    "## Discution 1\n",
    "  - Using the SKlearn SGDregressor with basic params we are now comparing the results.\n",
    "  - Kept only the best results from the first experiment to run the GridSearch for the parameters\n",
    "  - The Log(Y) kept the algorithm more robust reducing the errors mean value\n",
    "  - The Scale kept the algorithm more robust reducing the errors mean value\n",
    "  - The syntetic features wherever they appeards reduces the standard deviation from the MAE/MSE and RSME\n"
   ]
  },
  {
   "cell_type": "code",
   "execution_count": 2,
   "metadata": {},
   "outputs": [
    {
     "data": {
      "text/plain": [
       "SGDRegressor(alpha=0.0001, average=False, epsilon=0.1, eta0=0.01,\n",
       "       fit_intercept=True, l1_ratio=0.15, learning_rate='invscaling',\n",
       "       loss='squared_loss', max_iter=None, n_iter=None, penalty=None,\n",
       "       power_t=0.25, random_state=None, shuffle=True, tol=None,\n",
       "       verbose=True, warm_start=False)"
      ]
     },
     "execution_count": 2,
     "metadata": {},
     "output_type": "execute_result"
    }
   ],
   "source": [
    "regr = experiments.get_sklearn_sgd(params)\n",
    "regr"
   ]
  },
  {
   "cell_type": "markdown",
   "metadata": {},
   "source": [
    "## Adding syntect features ['volume', 'ratio_xy']"
   ]
  },
  {
   "cell_type": "code",
   "execution_count": 3,
   "metadata": {},
   "outputs": [],
   "source": [
    "X = experiments.load_train_data()\n",
    "folds, (X_train, X_test, y_train, y_test) = experiments.gen_splits(X, scale=True, \n",
    "                                                             exclude_features=['ratio_xz'])"
   ]
  },
  {
   "cell_type": "markdown",
   "metadata": {},
   "source": [
    "### Log(price)"
   ]
  },
  {
   "cell_type": "code",
   "execution_count": 4,
   "metadata": {
    "scrolled": false
   },
   "outputs": [
    {
     "name": "stdout",
     "output_type": "stream",
     "text": [
      "Evaluating 0\n",
      "Evaluating 1\n",
      "Evaluating 2\n",
      "Evaluating 3\n",
      "Evaluating 4\n",
      "RMSE: \t 1609.3210 +/- 97.7450\n",
      "MSE:  \t 2599468.0829 +/- 319313.5273\n",
      "MAE:  \t 714.2778 +/- 27.7334\n",
      "R2:   \t 0.8172 +/- 0.0210\n"
     ]
    },
    {
     "name": "stderr",
     "output_type": "stream",
     "text": [
      "/root/.local/lib/python3.5/site-packages/sklearn/linear_model/stochastic_gradient.py:128: FutureWarning: max_iter and tol parameters have been added in <class 'sklearn.linear_model.stochastic_gradient.SGDRegressor'> in 0.19. If both are left unset, they default to max_iter=5 and tol=None. If tol is not None, max_iter defaults to max_iter=1000. From 0.21, default max_iter will be 1000, and default tol will be 1e-3.\n",
      "  \"and default tol will be 1e-3.\" % type(self), FutureWarning)\n"
     ]
    }
   ],
   "source": [
    "experiments.kfold_evaluate(regr, folds, scoring, log_y=True)"
   ]
  },
  {
   "cell_type": "code",
   "execution_count": null,
   "metadata": {},
   "outputs": [],
   "source": []
  },
  {
   "cell_type": "markdown",
   "metadata": {},
   "source": [
    "## Adding syntect features ['volume', 'ratio_xz']"
   ]
  },
  {
   "cell_type": "code",
   "execution_count": 5,
   "metadata": {},
   "outputs": [],
   "source": [
    "X = experiments.load_train_data()\n",
    "folds, (X_train, X_test, y_train, y_test) = experiments.gen_splits(X, scale=True, \n",
    "                                                             exclude_features=['ratio_xy'])"
   ]
  },
  {
   "cell_type": "markdown",
   "metadata": {},
   "source": [
    "### Log(price)"
   ]
  },
  {
   "cell_type": "code",
   "execution_count": 6,
   "metadata": {
    "scrolled": false
   },
   "outputs": [
    {
     "name": "stdout",
     "output_type": "stream",
     "text": [
      "Evaluating 0\n",
      "Evaluating 1\n",
      "Evaluating 2\n",
      "Evaluating 3\n",
      "Evaluating 4\n",
      "RMSE: \t 1633.7756 +/- 91.1391\n",
      "MSE:  \t 2677528.9644 +/- 302051.6732\n",
      "MAE:  \t 718.6580 +/- 28.2871\n",
      "R2:   \t 0.8117 +/- 0.0197\n"
     ]
    },
    {
     "name": "stderr",
     "output_type": "stream",
     "text": [
      "/root/.local/lib/python3.5/site-packages/sklearn/linear_model/stochastic_gradient.py:128: FutureWarning: max_iter and tol parameters have been added in <class 'sklearn.linear_model.stochastic_gradient.SGDRegressor'> in 0.19. If both are left unset, they default to max_iter=5 and tol=None. If tol is not None, max_iter defaults to max_iter=1000. From 0.21, default max_iter will be 1000, and default tol will be 1e-3.\n",
      "  \"and default tol will be 1e-3.\" % type(self), FutureWarning)\n"
     ]
    }
   ],
   "source": [
    "experiments.kfold_evaluate(regr, folds, scoring, log_y=True)"
   ]
  },
  {
   "cell_type": "code",
   "execution_count": null,
   "metadata": {},
   "outputs": [],
   "source": []
  },
  {
   "cell_type": "markdown",
   "metadata": {},
   "source": [
    "## Adding syntect features ['volume', 'ratio_xy', 'ratio_xz']"
   ]
  },
  {
   "cell_type": "code",
   "execution_count": 7,
   "metadata": {},
   "outputs": [],
   "source": [
    "X = experiments.load_train_data()\n",
    "folds, (X_train, X_test, y_train, y_test) = experiments.gen_splits(X, scale=True, \n",
    "                                                             exclude_features=[])"
   ]
  },
  {
   "cell_type": "markdown",
   "metadata": {},
   "source": [
    "### Log(price)"
   ]
  },
  {
   "cell_type": "code",
   "execution_count": 8,
   "metadata": {
    "scrolled": false
   },
   "outputs": [
    {
     "name": "stdout",
     "output_type": "stream",
     "text": [
      "Evaluating 0\n",
      "Evaluating 1\n",
      "Evaluating 2\n",
      "Evaluating 3\n",
      "Evaluating 4\n",
      "RMSE: \t 1541.6432 +/- 91.7475\n",
      "MSE:  \t 2385081.3106 +/- 277095.3156\n",
      "MAE:  \t 697.8126 +/- 20.5680\n",
      "R2:   \t 0.8321 +/- 0.0192\n"
     ]
    },
    {
     "name": "stderr",
     "output_type": "stream",
     "text": [
      "/root/.local/lib/python3.5/site-packages/sklearn/linear_model/stochastic_gradient.py:128: FutureWarning: max_iter and tol parameters have been added in <class 'sklearn.linear_model.stochastic_gradient.SGDRegressor'> in 0.19. If both are left unset, they default to max_iter=5 and tol=None. If tol is not None, max_iter defaults to max_iter=1000. From 0.21, default max_iter will be 1000, and default tol will be 1e-3.\n",
      "  \"and default tol will be 1e-3.\" % type(self), FutureWarning)\n"
     ]
    }
   ],
   "source": [
    "experiments.kfold_evaluate(regr, folds, scoring, log_y=True)"
   ]
  },
  {
   "cell_type": "markdown",
   "metadata": {},
   "source": [
    "----"
   ]
  },
  {
   "cell_type": "markdown",
   "metadata": {},
   "source": [
    "## Discution 2\n",
    "  - The results doesn't appear to have an statistical difference between then, since the mean and std deviation are practically the same. Although the result with features included has a better R2. \n",
    "  - The SGD goes almost to the same minimal as the normal equation results.\n",
    "  - Whe are now running the GridSearch CV for the SGD to look for better parameters and will be using the last dataset above. \n"
   ]
  },
  {
   "cell_type": "code",
   "execution_count": 11,
   "metadata": {},
   "outputs": [
    {
     "name": "stdout",
     "output_type": "stream",
     "text": [
      "Fitting 5 folds for each of 27 candidates, totalling 135 fits\n"
     ]
    },
    {
     "name": "stderr",
     "output_type": "stream",
     "text": [
      "[Parallel(n_jobs=-1)]: Done  34 tasks      | elapsed:  1.4min\n",
      "[Parallel(n_jobs=-1)]: Done 135 out of 135 | elapsed:  5.2min finished\n"
     ]
    },
    {
     "data": {
      "text/plain": [
       "GridSearchCV(cv=5, error_score='raise',\n",
       "       estimator=SGDRegressor(alpha=0.0001, average=False, epsilon=0.1, eta0=0.01,\n",
       "       fit_intercept=True, l1_ratio=0.15, learning_rate='invscaling',\n",
       "       loss='squared_loss', max_iter=None, n_iter=None, penalty=None,\n",
       "       power_t=0.25, random_state=None, shuffle=True, tol=None,\n",
       "       verbose=False, warm_start=False),\n",
       "       fit_params=None, iid=True, n_jobs=-1,\n",
       "       param_grid={'max_iter': [5000], 'eta0': [0.1, 0.05, 0.01], 'loss': ['squared_loss'], 'penalty': ['l2', 'l1', None], 'learning_rate': ['invscaling', 'optimal', 'constant']},\n",
       "       pre_dispatch='2*n_jobs', refit='R2', return_train_score='warn',\n",
       "       scoring={'-MSE': 'neg_mean_squared_error', '-MAE': 'neg_mean_absolute_error', 'R2': 'r2'},\n",
       "       verbose=True)"
      ]
     },
     "execution_count": 11,
     "metadata": {},
     "output_type": "execute_result"
    }
   ],
   "source": [
    "from sklearn.model_selection import GridSearchCV\n",
    "\n",
    "params = {\n",
    "    'learning_rate':['invscaling', 'optimal', 'constant'],\n",
    "    'eta0': [0.1, 0.05, 0.01], # since 0.01 had a good result in the previous results \n",
    "    'penalty': ['l2', 'l1', None], # Those penalties are easier to implement if needed\n",
    "    'loss': ['squared_loss'], # Since we are running the MSE loss function for the Custom Implementing\n",
    "    'max_iter':[5000] # Fixed the number of iterations to avoid the long time executions\n",
    "}\n",
    "\n",
    "scoring = {\n",
    "        '-MSE': 'neg_mean_squared_error',\n",
    "        '-MAE': 'neg_mean_absolute_error',\n",
    "        'R2': 'r2'\n",
    "    }\n",
    "\n",
    "# We are using R2 to refit because it gave a better view of the results above when compared with the MSE and MAE\n",
    "regr = GridSearchCV(regr, params, cv=5, scoring=scoring, refit='R2', n_jobs=-1, verbose=True)\n",
    "regr.fit(X_train, np.log(y_train))\n"
   ]
  },
  {
   "cell_type": "code",
   "execution_count": 12,
   "metadata": {},
   "outputs": [
    {
     "data": {
      "text/plain": [
       "SGDRegressor(alpha=0.0001, average=False, epsilon=0.1, eta0=0.1,\n",
       "       fit_intercept=True, l1_ratio=0.15, learning_rate='invscaling',\n",
       "       loss='squared_loss', max_iter=5000, n_iter=None, penalty=None,\n",
       "       power_t=0.25, random_state=None, shuffle=True, tol=None,\n",
       "       verbose=False, warm_start=False)"
      ]
     },
     "execution_count": 12,
     "metadata": {},
     "output_type": "execute_result"
    }
   ],
   "source": [
    "regr.best_estimator_"
   ]
  },
  {
   "cell_type": "code",
   "execution_count": 22,
   "metadata": {},
   "outputs": [
    {
     "data": {
      "text/plain": [
       "{'eta0': 0.1,\n",
       " 'learning_rate': 'invscaling',\n",
       " 'loss': 'squared_loss',\n",
       " 'max_iter': 5000,\n",
       " 'penalty': None}"
      ]
     },
     "execution_count": 22,
     "metadata": {},
     "output_type": "execute_result"
    }
   ],
   "source": [
    "regr.best_params_"
   ]
  },
  {
   "cell_type": "code",
   "execution_count": 33,
   "metadata": {},
   "outputs": [
    {
     "data": {
      "text/plain": [
       "dict_keys(['std_train_-MAE', 'split1_train_-MSE', 'std_fit_time', 'split2_train_-MSE', 'mean_train_-MAE', 'split0_train_R2', 'mean_test_R2', 'split3_test_R2', 'split0_train_-MSE', 'mean_train_R2', 'std_train_-MSE', 'split4_train_-MAE', 'param_learning_rate', 'split2_test_-MSE', 'rank_test_-MSE', 'mean_fit_time', 'split2_test_-MAE', 'split1_test_-MSE', 'std_train_R2', 'split1_train_-MAE', 'split2_train_-MAE', 'std_test_R2', 'split3_test_-MSE', 'split1_test_-MAE', 'rank_test_-MAE', 'std_test_-MSE', 'split3_train_R2', 'split3_train_-MSE', 'split4_test_-MAE', 'param_max_iter', 'split4_test_-MSE', 'std_test_-MAE', 'param_loss', 'split4_train_-MSE', 'params', 'split0_test_-MSE', 'split4_test_R2', 'rank_test_R2', 'mean_test_-MSE', 'split0_test_R2', 'split2_train_R2', 'param_eta0', 'mean_train_-MSE', 'mean_score_time', 'split3_train_-MAE', 'split0_test_-MAE', 'split4_train_R2', 'split3_test_-MAE', 'std_score_time', 'split0_train_-MAE', 'param_penalty', 'mean_test_-MAE', 'split1_test_R2', 'split2_test_R2', 'split1_train_R2'])"
      ]
     },
     "execution_count": 33,
     "metadata": {},
     "output_type": "execute_result"
    }
   ],
   "source": [
    "regr.cv_results_.keys()"
   ]
  },
  {
   "cell_type": "code",
   "execution_count": 72,
   "metadata": {
    "scrolled": true
   },
   "outputs": [
    {
     "data": {
      "text/html": [
       "<div>\n",
       "<style scoped>\n",
       "    .dataframe tbody tr th:only-of-type {\n",
       "        vertical-align: middle;\n",
       "    }\n",
       "\n",
       "    .dataframe tbody tr th {\n",
       "        vertical-align: top;\n",
       "    }\n",
       "\n",
       "    .dataframe thead th {\n",
       "        text-align: right;\n",
       "    }\n",
       "</style>\n",
       "<table border=\"1\" class=\"dataframe\">\n",
       "  <thead>\n",
       "    <tr style=\"text-align: right;\">\n",
       "      <th></th>\n",
       "      <th>param_learning_rate</th>\n",
       "      <th>param_max_iter</th>\n",
       "      <th>param_loss</th>\n",
       "      <th>param_eta0</th>\n",
       "      <th>param_penalty</th>\n",
       "      <th>rank_test_-MSE</th>\n",
       "      <th>rank_test_-MAE</th>\n",
       "      <th>std_test_-MSE</th>\n",
       "      <th>std_test_-MAE</th>\n",
       "      <th>std_test_R2</th>\n",
       "      <th>mean_test_-MSE</th>\n",
       "      <th>mean_test_-MAE</th>\n",
       "      <th>mean_test_R2</th>\n",
       "      <th>mean_fit_time</th>\n",
       "    </tr>\n",
       "    <tr>\n",
       "      <th>rank_test_R2</th>\n",
       "      <th></th>\n",
       "      <th></th>\n",
       "      <th></th>\n",
       "      <th></th>\n",
       "      <th></th>\n",
       "      <th></th>\n",
       "      <th></th>\n",
       "      <th></th>\n",
       "      <th></th>\n",
       "      <th></th>\n",
       "      <th></th>\n",
       "      <th></th>\n",
       "      <th></th>\n",
       "      <th></th>\n",
       "    </tr>\n",
       "  </thead>\n",
       "  <tbody>\n",
       "    <tr>\n",
       "      <th>1</th>\n",
       "      <td>invscaling</td>\n",
       "      <td>5000</td>\n",
       "      <td>squared_loss</td>\n",
       "      <td>0.1</td>\n",
       "      <td>None</td>\n",
       "      <td>1</td>\n",
       "      <td>1</td>\n",
       "      <td>0.000506</td>\n",
       "      <td>0.001492</td>\n",
       "      <td>0.000575</td>\n",
       "      <td>-0.013529</td>\n",
       "      <td>-0.091500</td>\n",
       "      <td>0.986100</td>\n",
       "      <td>21.696494</td>\n",
       "    </tr>\n",
       "    <tr>\n",
       "      <th>2</th>\n",
       "      <td>constant</td>\n",
       "      <td>5000</td>\n",
       "      <td>squared_loss</td>\n",
       "      <td>0.01</td>\n",
       "      <td>None</td>\n",
       "      <td>2</td>\n",
       "      <td>2</td>\n",
       "      <td>0.000467</td>\n",
       "      <td>0.001516</td>\n",
       "      <td>0.000532</td>\n",
       "      <td>-0.013669</td>\n",
       "      <td>-0.092389</td>\n",
       "      <td>0.985956</td>\n",
       "      <td>10.615460</td>\n",
       "    </tr>\n",
       "    <tr>\n",
       "      <th>3</th>\n",
       "      <td>invscaling</td>\n",
       "      <td>5000</td>\n",
       "      <td>squared_loss</td>\n",
       "      <td>0.05</td>\n",
       "      <td>None</td>\n",
       "      <td>3</td>\n",
       "      <td>3</td>\n",
       "      <td>0.000504</td>\n",
       "      <td>0.001400</td>\n",
       "      <td>0.000573</td>\n",
       "      <td>-0.013952</td>\n",
       "      <td>-0.092925</td>\n",
       "      <td>0.985665</td>\n",
       "      <td>20.377451</td>\n",
       "    </tr>\n",
       "    <tr>\n",
       "      <th>4</th>\n",
       "      <td>invscaling</td>\n",
       "      <td>5000</td>\n",
       "      <td>squared_loss</td>\n",
       "      <td>0.01</td>\n",
       "      <td>None</td>\n",
       "      <td>4</td>\n",
       "      <td>4</td>\n",
       "      <td>0.000534</td>\n",
       "      <td>0.001483</td>\n",
       "      <td>0.000609</td>\n",
       "      <td>-0.015003</td>\n",
       "      <td>-0.096400</td>\n",
       "      <td>0.984586</td>\n",
       "      <td>20.512749</td>\n",
       "    </tr>\n",
       "    <tr>\n",
       "      <th>5</th>\n",
       "      <td>invscaling</td>\n",
       "      <td>5000</td>\n",
       "      <td>squared_loss</td>\n",
       "      <td>0.05</td>\n",
       "      <td>l1</td>\n",
       "      <td>5</td>\n",
       "      <td>6</td>\n",
       "      <td>0.000503</td>\n",
       "      <td>0.001425</td>\n",
       "      <td>0.000581</td>\n",
       "      <td>-0.015028</td>\n",
       "      <td>-0.096519</td>\n",
       "      <td>0.984560</td>\n",
       "      <td>26.909482</td>\n",
       "    </tr>\n",
       "    <tr>\n",
       "      <th>6</th>\n",
       "      <td>invscaling</td>\n",
       "      <td>5000</td>\n",
       "      <td>squared_loss</td>\n",
       "      <td>0.1</td>\n",
       "      <td>l1</td>\n",
       "      <td>6</td>\n",
       "      <td>5</td>\n",
       "      <td>0.000487</td>\n",
       "      <td>0.001322</td>\n",
       "      <td>0.000559</td>\n",
       "      <td>-0.015047</td>\n",
       "      <td>-0.096410</td>\n",
       "      <td>0.984540</td>\n",
       "      <td>28.861118</td>\n",
       "    </tr>\n",
       "    <tr>\n",
       "      <th>7</th>\n",
       "      <td>invscaling</td>\n",
       "      <td>5000</td>\n",
       "      <td>squared_loss</td>\n",
       "      <td>0.05</td>\n",
       "      <td>l2</td>\n",
       "      <td>7</td>\n",
       "      <td>8</td>\n",
       "      <td>0.000511</td>\n",
       "      <td>0.001443</td>\n",
       "      <td>0.000586</td>\n",
       "      <td>-0.015105</td>\n",
       "      <td>-0.096752</td>\n",
       "      <td>0.984481</td>\n",
       "      <td>21.109486</td>\n",
       "    </tr>\n",
       "    <tr>\n",
       "      <th>8</th>\n",
       "      <td>invscaling</td>\n",
       "      <td>5000</td>\n",
       "      <td>squared_loss</td>\n",
       "      <td>0.1</td>\n",
       "      <td>l2</td>\n",
       "      <td>8</td>\n",
       "      <td>7</td>\n",
       "      <td>0.000494</td>\n",
       "      <td>0.001396</td>\n",
       "      <td>0.000561</td>\n",
       "      <td>-0.015122</td>\n",
       "      <td>-0.096711</td>\n",
       "      <td>0.984464</td>\n",
       "      <td>21.883833</td>\n",
       "    </tr>\n",
       "    <tr>\n",
       "      <th>9</th>\n",
       "      <td>invscaling</td>\n",
       "      <td>5000</td>\n",
       "      <td>squared_loss</td>\n",
       "      <td>0.01</td>\n",
       "      <td>l1</td>\n",
       "      <td>9</td>\n",
       "      <td>9</td>\n",
       "      <td>0.000519</td>\n",
       "      <td>0.001487</td>\n",
       "      <td>0.000596</td>\n",
       "      <td>-0.015194</td>\n",
       "      <td>-0.097098</td>\n",
       "      <td>0.984389</td>\n",
       "      <td>26.829921</td>\n",
       "    </tr>\n",
       "    <tr>\n",
       "      <th>10</th>\n",
       "      <td>invscaling</td>\n",
       "      <td>5000</td>\n",
       "      <td>squared_loss</td>\n",
       "      <td>0.01</td>\n",
       "      <td>l2</td>\n",
       "      <td>10</td>\n",
       "      <td>10</td>\n",
       "      <td>0.000520</td>\n",
       "      <td>0.001477</td>\n",
       "      <td>0.000597</td>\n",
       "      <td>-0.015237</td>\n",
       "      <td>-0.097252</td>\n",
       "      <td>0.984345</td>\n",
       "      <td>20.958378</td>\n",
       "    </tr>\n",
       "  </tbody>\n",
       "</table>\n",
       "</div>"
      ],
      "text/plain": [
       "             param_learning_rate param_max_iter    param_loss param_eta0  \\\n",
       "rank_test_R2                                                               \n",
       "1                     invscaling           5000  squared_loss        0.1   \n",
       "2                       constant           5000  squared_loss       0.01   \n",
       "3                     invscaling           5000  squared_loss       0.05   \n",
       "4                     invscaling           5000  squared_loss       0.01   \n",
       "5                     invscaling           5000  squared_loss       0.05   \n",
       "6                     invscaling           5000  squared_loss        0.1   \n",
       "7                     invscaling           5000  squared_loss       0.05   \n",
       "8                     invscaling           5000  squared_loss        0.1   \n",
       "9                     invscaling           5000  squared_loss       0.01   \n",
       "10                    invscaling           5000  squared_loss       0.01   \n",
       "\n",
       "             param_penalty  rank_test_-MSE  rank_test_-MAE  std_test_-MSE  \\\n",
       "rank_test_R2                                                                \n",
       "1                     None               1               1       0.000506   \n",
       "2                     None               2               2       0.000467   \n",
       "3                     None               3               3       0.000504   \n",
       "4                     None               4               4       0.000534   \n",
       "5                       l1               5               6       0.000503   \n",
       "6                       l1               6               5       0.000487   \n",
       "7                       l2               7               8       0.000511   \n",
       "8                       l2               8               7       0.000494   \n",
       "9                       l1               9               9       0.000519   \n",
       "10                      l2              10              10       0.000520   \n",
       "\n",
       "              std_test_-MAE  std_test_R2  mean_test_-MSE  mean_test_-MAE  \\\n",
       "rank_test_R2                                                               \n",
       "1                  0.001492     0.000575       -0.013529       -0.091500   \n",
       "2                  0.001516     0.000532       -0.013669       -0.092389   \n",
       "3                  0.001400     0.000573       -0.013952       -0.092925   \n",
       "4                  0.001483     0.000609       -0.015003       -0.096400   \n",
       "5                  0.001425     0.000581       -0.015028       -0.096519   \n",
       "6                  0.001322     0.000559       -0.015047       -0.096410   \n",
       "7                  0.001443     0.000586       -0.015105       -0.096752   \n",
       "8                  0.001396     0.000561       -0.015122       -0.096711   \n",
       "9                  0.001487     0.000596       -0.015194       -0.097098   \n",
       "10                 0.001477     0.000597       -0.015237       -0.097252   \n",
       "\n",
       "              mean_test_R2  mean_fit_time  \n",
       "rank_test_R2                               \n",
       "1                 0.986100      21.696494  \n",
       "2                 0.985956      10.615460  \n",
       "3                 0.985665      20.377451  \n",
       "4                 0.984586      20.512749  \n",
       "5                 0.984560      26.909482  \n",
       "6                 0.984540      28.861118  \n",
       "7                 0.984481      21.109486  \n",
       "8                 0.984464      21.883833  \n",
       "9                 0.984389      26.829921  \n",
       "10                0.984345      20.958378  "
      ]
     },
     "execution_count": 72,
     "metadata": {},
     "output_type": "execute_result"
    }
   ],
   "source": [
    "import pandas as pd\n",
    "import warnings\n",
    "warnings.filterwarnings(\"ignore\", category=DeprecationWarning) \n",
    "warnings.filterwarnings(\"ignore\", category=FutureWarning) \n",
    "\n",
    "columns = [\n",
    "'param_learning_rate',\n",
    "'param_max_iter',\n",
    "'param_loss',\n",
    "'param_eta0',\n",
    "'param_penalty',\n",
    "'rank_test_-MSE',\n",
    "'rank_test_-MAE',\n",
    "'rank_test_R2',\n",
    "'std_test_-MSE',\n",
    "'std_test_-MAE',\n",
    "'std_test_R2',\n",
    "'mean_test_-MSE',\n",
    "'mean_test_-MAE',\n",
    "'mean_test_R2', \n",
    "'mean_fit_time']\n",
    "\n",
    "results = pd.DataFrame(regr.cv_results_)\n",
    "top10 = results[columns].sort_values(by=['rank_test_R2', 'mean_test_R2']).head(10).copy()\n",
    "top10.sort_values(by=['rank_test_R2', 'mean_test_R2'])\n",
    "top10.set_index('rank_test_R2', inplace=True, drop=True)\n",
    "top10"
   ]
  },
  {
   "cell_type": "code",
   "execution_count": 73,
   "metadata": {},
   "outputs": [
    {
     "data": {
      "text/plain": [
       "<matplotlib.axes._subplots.AxesSubplot at 0x7f2f2ffd9a20>"
      ]
     },
     "execution_count": 73,
     "metadata": {},
     "output_type": "execute_result"
    },
    {
     "data": {
      "image/png": "[encoded data removed]",
      "text/plain": [
       "<Figure size 432x288 with 1 Axes>"
      ]
     },
     "metadata": {
      "needs_background": "light"
     },
     "output_type": "display_data"
    }
   ],
   "source": [
    "top10.mean_fit_time.plot.bar()"
   ]
  },
  {
   "cell_type": "code",
   "execution_count": 83,
   "metadata": {
    "scrolled": false
   },
   "outputs": [
    {
     "data": {
      "text/plain": [
       "<matplotlib.axes._subplots.AxesSubplot at 0x7f2f2ff5aa58>"
      ]
     },
     "execution_count": 83,
     "metadata": {},
     "output_type": "execute_result"
    },
    {
     "data": {
      "image/png": "[encoded data removed]",
      "text/plain": [
       "<Figure size 720x360 with 1 Axes>"
      ]
     },
     "metadata": {
      "needs_background": "light"
     },
     "output_type": "display_data"
    }
   ],
   "source": [
    "import matplotlib.pyplot as plt\n",
    "plt.figure(figsize=(10,5))\n",
    "top10.mean_test_R2.plot.bar(yerr=top10.std_test_R2)"
   ]
  },
  {
   "cell_type": "code",
   "execution_count": 84,
   "metadata": {},
   "outputs": [
    {
     "data": {
      "text/plain": [
       "<matplotlib.axes._subplots.AxesSubplot at 0x7f2f2feb3198>"
      ]
     },
     "execution_count": 84,
     "metadata": {},
     "output_type": "execute_result"
    },
    {
     "data": {
      "image/png": "[encoded data removed]",
      "text/plain": [
       "<Figure size 720x360 with 1 Axes>"
      ]
     },
     "metadata": {
      "needs_background": "light"
     },
     "output_type": "display_data"
    }
   ],
   "source": [
    "plt.figure(figsize=(10,5))\n",
    "top10.std_test_R2.plot.bar()"
   ]
  },
  {
   "cell_type": "code",
   "execution_count": 86,
   "metadata": {
    "scrolled": false
   },
   "outputs": [
    {
     "data": {
      "text/html": [
       "<div>\n",
       "<style scoped>\n",
       "    .dataframe tbody tr th:only-of-type {\n",
       "        vertical-align: middle;\n",
       "    }\n",
       "\n",
       "    .dataframe tbody tr th {\n",
       "        vertical-align: top;\n",
       "    }\n",
       "\n",
       "    .dataframe thead th {\n",
       "        text-align: right;\n",
       "    }\n",
       "</style>\n",
       "<table border=\"1\" class=\"dataframe\">\n",
       "  <thead>\n",
       "    <tr style=\"text-align: right;\">\n",
       "      <th></th>\n",
       "      <th>param_learning_rate</th>\n",
       "      <th>param_max_iter</th>\n",
       "      <th>param_loss</th>\n",
       "      <th>param_eta0</th>\n",
       "      <th>param_penalty</th>\n",
       "      <th>rank_test_-MSE</th>\n",
       "      <th>rank_test_-MAE</th>\n",
       "      <th>std_test_-MSE</th>\n",
       "      <th>std_test_-MAE</th>\n",
       "      <th>std_test_R2</th>\n",
       "      <th>mean_test_-MSE</th>\n",
       "      <th>mean_test_-MAE</th>\n",
       "      <th>mean_test_R2</th>\n",
       "      <th>mean_fit_time</th>\n",
       "    </tr>\n",
       "    <tr>\n",
       "      <th>rank_test_R2</th>\n",
       "      <th></th>\n",
       "      <th></th>\n",
       "      <th></th>\n",
       "      <th></th>\n",
       "      <th></th>\n",
       "      <th></th>\n",
       "      <th></th>\n",
       "      <th></th>\n",
       "      <th></th>\n",
       "      <th></th>\n",
       "      <th></th>\n",
       "      <th></th>\n",
       "      <th></th>\n",
       "      <th></th>\n",
       "    </tr>\n",
       "  </thead>\n",
       "  <tbody>\n",
       "    <tr>\n",
       "      <th>1</th>\n",
       "      <td>invscaling</td>\n",
       "      <td>5000</td>\n",
       "      <td>squared_loss</td>\n",
       "      <td>0.1</td>\n",
       "      <td>None</td>\n",
       "      <td>1</td>\n",
       "      <td>1</td>\n",
       "      <td>0.000506</td>\n",
       "      <td>0.001492</td>\n",
       "      <td>0.000575</td>\n",
       "      <td>-0.013529</td>\n",
       "      <td>-0.091500</td>\n",
       "      <td>0.986100</td>\n",
       "      <td>21.696494</td>\n",
       "    </tr>\n",
       "    <tr>\n",
       "      <th>2</th>\n",
       "      <td>constant</td>\n",
       "      <td>5000</td>\n",
       "      <td>squared_loss</td>\n",
       "      <td>0.01</td>\n",
       "      <td>None</td>\n",
       "      <td>2</td>\n",
       "      <td>2</td>\n",
       "      <td>0.000467</td>\n",
       "      <td>0.001516</td>\n",
       "      <td>0.000532</td>\n",
       "      <td>-0.013669</td>\n",
       "      <td>-0.092389</td>\n",
       "      <td>0.985956</td>\n",
       "      <td>10.615460</td>\n",
       "    </tr>\n",
       "    <tr>\n",
       "      <th>3</th>\n",
       "      <td>invscaling</td>\n",
       "      <td>5000</td>\n",
       "      <td>squared_loss</td>\n",
       "      <td>0.05</td>\n",
       "      <td>None</td>\n",
       "      <td>3</td>\n",
       "      <td>3</td>\n",
       "      <td>0.000504</td>\n",
       "      <td>0.001400</td>\n",
       "      <td>0.000573</td>\n",
       "      <td>-0.013952</td>\n",
       "      <td>-0.092925</td>\n",
       "      <td>0.985665</td>\n",
       "      <td>20.377451</td>\n",
       "    </tr>\n",
       "    <tr>\n",
       "      <th>4</th>\n",
       "      <td>invscaling</td>\n",
       "      <td>5000</td>\n",
       "      <td>squared_loss</td>\n",
       "      <td>0.01</td>\n",
       "      <td>None</td>\n",
       "      <td>4</td>\n",
       "      <td>4</td>\n",
       "      <td>0.000534</td>\n",
       "      <td>0.001483</td>\n",
       "      <td>0.000609</td>\n",
       "      <td>-0.015003</td>\n",
       "      <td>-0.096400</td>\n",
       "      <td>0.984586</td>\n",
       "      <td>20.512749</td>\n",
       "    </tr>\n",
       "    <tr>\n",
       "      <th>5</th>\n",
       "      <td>invscaling</td>\n",
       "      <td>5000</td>\n",
       "      <td>squared_loss</td>\n",
       "      <td>0.05</td>\n",
       "      <td>l1</td>\n",
       "      <td>5</td>\n",
       "      <td>6</td>\n",
       "      <td>0.000503</td>\n",
       "      <td>0.001425</td>\n",
       "      <td>0.000581</td>\n",
       "      <td>-0.015028</td>\n",
       "      <td>-0.096519</td>\n",
       "      <td>0.984560</td>\n",
       "      <td>26.909482</td>\n",
       "    </tr>\n",
       "    <tr>\n",
       "      <th>6</th>\n",
       "      <td>invscaling</td>\n",
       "      <td>5000</td>\n",
       "      <td>squared_loss</td>\n",
       "      <td>0.1</td>\n",
       "      <td>l1</td>\n",
       "      <td>6</td>\n",
       "      <td>5</td>\n",
       "      <td>0.000487</td>\n",
       "      <td>0.001322</td>\n",
       "      <td>0.000559</td>\n",
       "      <td>-0.015047</td>\n",
       "      <td>-0.096410</td>\n",
       "      <td>0.984540</td>\n",
       "      <td>28.861118</td>\n",
       "    </tr>\n",
       "    <tr>\n",
       "      <th>7</th>\n",
       "      <td>invscaling</td>\n",
       "      <td>5000</td>\n",
       "      <td>squared_loss</td>\n",
       "      <td>0.05</td>\n",
       "      <td>l2</td>\n",
       "      <td>7</td>\n",
       "      <td>8</td>\n",
       "      <td>0.000511</td>\n",
       "      <td>0.001443</td>\n",
       "      <td>0.000586</td>\n",
       "      <td>-0.015105</td>\n",
       "      <td>-0.096752</td>\n",
       "      <td>0.984481</td>\n",
       "      <td>21.109486</td>\n",
       "    </tr>\n",
       "    <tr>\n",
       "      <th>8</th>\n",
       "      <td>invscaling</td>\n",
       "      <td>5000</td>\n",
       "      <td>squared_loss</td>\n",
       "      <td>0.1</td>\n",
       "      <td>l2</td>\n",
       "      <td>8</td>\n",
       "      <td>7</td>\n",
       "      <td>0.000494</td>\n",
       "      <td>0.001396</td>\n",
       "      <td>0.000561</td>\n",
       "      <td>-0.015122</td>\n",
       "      <td>-0.096711</td>\n",
       "      <td>0.984464</td>\n",
       "      <td>21.883833</td>\n",
       "    </tr>\n",
       "    <tr>\n",
       "      <th>9</th>\n",
       "      <td>invscaling</td>\n",
       "      <td>5000</td>\n",
       "      <td>squared_loss</td>\n",
       "      <td>0.01</td>\n",
       "      <td>l1</td>\n",
       "      <td>9</td>\n",
       "      <td>9</td>\n",
       "      <td>0.000519</td>\n",
       "      <td>0.001487</td>\n",
       "      <td>0.000596</td>\n",
       "      <td>-0.015194</td>\n",
       "      <td>-0.097098</td>\n",
       "      <td>0.984389</td>\n",
       "      <td>26.829921</td>\n",
       "    </tr>\n",
       "    <tr>\n",
       "      <th>10</th>\n",
       "      <td>invscaling</td>\n",
       "      <td>5000</td>\n",
       "      <td>squared_loss</td>\n",
       "      <td>0.01</td>\n",
       "      <td>l2</td>\n",
       "      <td>10</td>\n",
       "      <td>10</td>\n",
       "      <td>0.000520</td>\n",
       "      <td>0.001477</td>\n",
       "      <td>0.000597</td>\n",
       "      <td>-0.015237</td>\n",
       "      <td>-0.097252</td>\n",
       "      <td>0.984345</td>\n",
       "      <td>20.958378</td>\n",
       "    </tr>\n",
       "  </tbody>\n",
       "</table>\n",
       "</div>"
      ],
      "text/plain": [
       "             param_learning_rate param_max_iter    param_loss param_eta0  \\\n",
       "rank_test_R2                                                               \n",
       "1                     invscaling           5000  squared_loss        0.1   \n",
       "2                       constant           5000  squared_loss       0.01   \n",
       "3                     invscaling           5000  squared_loss       0.05   \n",
       "4                     invscaling           5000  squared_loss       0.01   \n",
       "5                     invscaling           5000  squared_loss       0.05   \n",
       "6                     invscaling           5000  squared_loss        0.1   \n",
       "7                     invscaling           5000  squared_loss       0.05   \n",
       "8                     invscaling           5000  squared_loss        0.1   \n",
       "9                     invscaling           5000  squared_loss       0.01   \n",
       "10                    invscaling           5000  squared_loss       0.01   \n",
       "\n",
       "             param_penalty  rank_test_-MSE  rank_test_-MAE  std_test_-MSE  \\\n",
       "rank_test_R2                                                                \n",
       "1                     None               1               1       0.000506   \n",
       "2                     None               2               2       0.000467   \n",
       "3                     None               3               3       0.000504   \n",
       "4                     None               4               4       0.000534   \n",
       "5                       l1               5               6       0.000503   \n",
       "6                       l1               6               5       0.000487   \n",
       "7                       l2               7               8       0.000511   \n",
       "8                       l2               8               7       0.000494   \n",
       "9                       l1               9               9       0.000519   \n",
       "10                      l2              10              10       0.000520   \n",
       "\n",
       "              std_test_-MAE  std_test_R2  mean_test_-MSE  mean_test_-MAE  \\\n",
       "rank_test_R2                                                               \n",
       "1                  0.001492     0.000575       -0.013529       -0.091500   \n",
       "2                  0.001516     0.000532       -0.013669       -0.092389   \n",
       "3                  0.001400     0.000573       -0.013952       -0.092925   \n",
       "4                  0.001483     0.000609       -0.015003       -0.096400   \n",
       "5                  0.001425     0.000581       -0.015028       -0.096519   \n",
       "6                  0.001322     0.000559       -0.015047       -0.096410   \n",
       "7                  0.001443     0.000586       -0.015105       -0.096752   \n",
       "8                  0.001396     0.000561       -0.015122       -0.096711   \n",
       "9                  0.001487     0.000596       -0.015194       -0.097098   \n",
       "10                 0.001477     0.000597       -0.015237       -0.097252   \n",
       "\n",
       "              mean_test_R2  mean_fit_time  \n",
       "rank_test_R2                               \n",
       "1                 0.986100      21.696494  \n",
       "2                 0.985956      10.615460  \n",
       "3                 0.985665      20.377451  \n",
       "4                 0.984586      20.512749  \n",
       "5                 0.984560      26.909482  \n",
       "6                 0.984540      28.861118  \n",
       "7                 0.984481      21.109486  \n",
       "8                 0.984464      21.883833  \n",
       "9                 0.984389      26.829921  \n",
       "10                0.984345      20.958378  "
      ]
     },
     "execution_count": 86,
     "metadata": {},
     "output_type": "execute_result"
    }
   ],
   "source": [
    "top10"
   ]
  },
  {
   "cell_type": "markdown",
   "metadata": {},
   "source": [
    "## Refining the search\n",
    "   - Given the above rank we are selecting the 3 top configurations and re-running the grid with more iterations"
   ]
  },
  {
   "cell_type": "code",
   "execution_count": 101,
   "metadata": {
    "scrolled": false
   },
   "outputs": [
    {
     "name": "stdout",
     "output_type": "stream",
     "text": [
      "Fitting 5 folds for each of 6 candidates, totalling 30 fits\n"
     ]
    },
    {
     "name": "stderr",
     "output_type": "stream",
     "text": [
      "[Parallel(n_jobs=-1)]: Done  30 out of  30 | elapsed: 20.9min finished\n"
     ]
    },
    {
     "data": {
      "text/plain": [
       "GridSearchCV(cv=5, error_score='raise',\n",
       "       estimator=SGDRegressor(alpha=0.0001, average=False, epsilon=0.1, eta0=0.01,\n",
       "       fit_intercept=True, l1_ratio=0.15, learning_rate='invscaling',\n",
       "       loss='squared_loss', max_iter=None, n_iter=None, penalty=None,\n",
       "       power_t=0.25, random_state=None, shuffle=True, tol=None,\n",
       "       verbose=False, warm_start=False),\n",
       "       fit_params=None, iid=True, n_jobs=-1,\n",
       "       param_grid={'max_iter': [100000], 'eta0': [0.1, 0.05, 0.01], 'loss': ['squared_loss'], 'penalty': [None], 'learning_rate': ['invscaling', 'constant']},\n",
       "       pre_dispatch='2*n_jobs', refit='R2', return_train_score='warn',\n",
       "       scoring={'-MSE': 'neg_mean_squared_error', '-MAE': 'neg_mean_absolute_error', 'R2': 'r2'},\n",
       "       verbose=True)"
      ]
     },
     "execution_count": 101,
     "metadata": {},
     "output_type": "execute_result"
    }
   ],
   "source": [
    "params = {}\n",
    "regr = experiments.get_sklearn_sgd(params)\n",
    "regr.verbose = False\n",
    "params = {\n",
    "    'learning_rate':['invscaling','constant'],\n",
    "    'eta0': [0.1, 0.05, 0.01], # since 0.01 had a good result in the previous results \n",
    "    'penalty': [None], # Those penalties are easier to implement if needed\n",
    "    'loss': ['squared_loss'], # Since we are running the MSE loss function for the Custom Implementing\n",
    "    'max_iter':[100000] # Fixed the number of iterations to avoid the long time executions\n",
    "}\n",
    "\n",
    "scoring = {\n",
    "        '-MSE': 'neg_mean_squared_error',\n",
    "        '-MAE': 'neg_mean_absolute_error',\n",
    "        'R2': 'r2'\n",
    "    }\n",
    "\n",
    "# We are using R2 to refit because it gave a better view of the results above when compared with the MSE and MAE\n",
    "regr = GridSearchCV(regr, params, cv=5, scoring=scoring, refit='R2', n_jobs=-1, verbose=True)\n",
    "regr.fit(X_train, np.log(y_train))"
   ]
  },
  {
   "cell_type": "code",
   "execution_count": null,
   "metadata": {},
   "outputs": [],
   "source": []
  },
  {
   "cell_type": "markdown",
   "metadata": {},
   "source": [
    "## Best parameters found "
   ]
  },
  {
   "cell_type": "code",
   "execution_count": 133,
   "metadata": {},
   "outputs": [
    {
     "data": {
      "text/plain": [
       "{'eta0': 0.05,\n",
       " 'learning_rate': 'invscaling',\n",
       " 'loss': 'squared_loss',\n",
       " 'max_iter': 500000,\n",
       " 'penalty': None}"
      ]
     },
     "execution_count": 133,
     "metadata": {},
     "output_type": "execute_result"
    }
   ],
   "source": [
    "regr.best_params_"
   ]
  }
 ],
 "metadata": {
  "kernelspec": {
   "display_name": "Python 3",
   "language": "python",
   "name": "python3"
  },
  "language_info": {
   "codemirror_mode": {
    "name": "ipython",
    "version": 3
   },
   "file_extension": ".py",
   "mimetype": "text/x-python",
   "name": "python",
   "nbconvert_exporter": "python",
   "pygments_lexer": "ipython3",
   "version": "3.5.2"
  }
 },
 "nbformat": 4,
 "nbformat_minor": 2
}
