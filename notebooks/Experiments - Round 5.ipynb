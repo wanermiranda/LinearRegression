{
 "cells": [
  {
   "cell_type": "code",
   "execution_count": 1,
   "metadata": {},
   "outputs": [
    {
     "name": "stderr",
     "output_type": "stream",
     "text": [
      "/root/.local/lib/python3.5/site-packages/sklearn/ensemble/weight_boosting.py:29: DeprecationWarning: numpy.core.umath_tests is an internal NumPy module and should not be imported. It will be removed in a future NumPy release.\n",
      "  from numpy.core.umath_tests import inner1d\n"
     ]
    }
   ],
   "source": [
    "import sys\n",
    "import sys\n",
    "sys.path\n",
    "sys.path.append('../')\n",
    "import warnings\n",
    "warnings.filterwarnings(\"ignore\", category=DeprecationWarning) \n",
    "\n",
    "import matplotlib.pyplot as plt \n",
    "\n",
    "import numpy as np\n",
    "from diamonds import experiments, normal_equation, customSGD\n"
   ]
  },
  {
   "cell_type": "markdown",
   "metadata": {},
   "source": [
    "## Discution 1\n",
    "  - The final experiment in which we run our custom predictor against the reserved test set.\n"
   ]
  },
  {
   "cell_type": "code",
   "execution_count": 2,
   "metadata": {},
   "outputs": [],
   "source": [
    "train = experiments.load_train_data()"
   ]
  },
  {
   "cell_type": "code",
   "execution_count": 3,
   "metadata": {},
   "outputs": [],
   "source": [
    "test = experiments.load_test_data()"
   ]
  },
  {
   "cell_type": "code",
   "execution_count": 4,
   "metadata": {},
   "outputs": [],
   "source": [
    "base_params = {'lr':0.1,\n",
    "'max_iter':500000,\n",
    "'lr_optimizer':'invscaling',\n",
    "'print_interval':2000}"
   ]
  },
  {
   "cell_type": "code",
   "execution_count": 5,
   "metadata": {
    "scrolled": false
   },
   "outputs": [
    {
     "name": "stdout",
     "output_type": "stream",
     "text": [
      "Evaluating ...\n",
      "Number of samples: 18738\n",
      "Number of parameters: 13\n",
      "It: 1 Batch: 1 Epoch 0 Error: 24.11468178 lr: 0.10000000 \n",
      "It: 2000 Batch: 1 Epoch 1999 Error: 0.02044990 lr: 0.01495349 \n",
      "It: 4000 Batch: 1 Epoch 3999 Error: 0.01345868 lr: 0.01257433 \n",
      "It: 6000 Batch: 1 Epoch 5999 Error: 0.01066443 lr: 0.01136219 \n",
      "It: 8000 Batch: 1 Epoch 7999 Error: 0.00939084 lr: 0.01057371 \n",
      "It: 10000 Batch: 1 Epoch 9999 Error: 0.00876530 lr: 0.01000000 \n",
      "It: 12000 Batch: 1 Epoch 11999 Error: 0.00844175 lr: 0.00955443 \n",
      "It: 14000 Batch: 1 Epoch 13999 Error: 0.00826751 lr: 0.00919323 \n",
      "It: 16000 Batch: 1 Epoch 15999 Error: 0.00817036 lr: 0.00889140 \n",
      "It: 18000 Batch: 1 Epoch 17999 Error: 0.00811437 lr: 0.00863340 \n",
      "It: 20000 Batch: 1 Epoch 19999 Error: 0.00808099 lr: 0.00840896 \n",
      "It: 22000 Batch: 1 Epoch 21999 Error: 0.00806031 lr: 0.00821097 \n",
      "It: 24000 Batch: 1 Epoch 23999 Error: 0.00804690 lr: 0.00803428 \n",
      "It: 26000 Batch: 1 Epoch 25999 Error: 0.00803776 lr: 0.00787511 \n",
      "It: 28000 Batch: 1 Epoch 27999 Error: 0.00803115 lr: 0.00773055 \n",
      "It: 30000 Batch: 1 Epoch 29999 Error: 0.00802607 lr: 0.00759836 \n",
      "It: 32000 Batch: 1 Epoch 31999 Error: 0.00802194 lr: 0.00747674 \n",
      "It: 34000 Batch: 1 Epoch 33999 Error: 0.00801842 lr: 0.00736428 \n",
      "It: 36000 Batch: 1 Epoch 35999 Error: 0.00801528 lr: 0.00725980 \n",
      "It: 38000 Batch: 1 Epoch 37999 Error: 0.00801239 lr: 0.00716233 \n",
      "It: 40000 Batch: 1 Epoch 39999 Error: 0.00800969 lr: 0.00707107 \n",
      "It: 42000 Batch: 1 Epoch 41999 Error: 0.00800712 lr: 0.00698534 \n",
      "It: 44000 Batch: 1 Epoch 43999 Error: 0.00800464 lr: 0.00690457 \n",
      "It: 46000 Batch: 1 Epoch 45999 Error: 0.00800224 lr: 0.00682827 \n",
      "It: 48000 Batch: 1 Epoch 47999 Error: 0.00799990 lr: 0.00675600 \n",
      "It: 50000 Batch: 1 Epoch 49999 Error: 0.00799761 lr: 0.00668740 \n",
      "It: 52000 Batch: 1 Epoch 51999 Error: 0.00799536 lr: 0.00662215 \n",
      "It: 54000 Batch: 1 Epoch 53999 Error: 0.00799316 lr: 0.00655997 \n",
      "It: 56000 Batch: 1 Epoch 55999 Error: 0.00799100 lr: 0.00650059 \n",
      "It: 58000 Batch: 1 Epoch 57999 Error: 0.00798887 lr: 0.00644381 \n",
      "It: 60000 Batch: 1 Epoch 59999 Error: 0.00798677 lr: 0.00638943 \n",
      "It: 62000 Batch: 1 Epoch 61999 Error: 0.00798470 lr: 0.00633727 \n",
      "It: 64000 Batch: 1 Epoch 63999 Error: 0.00798267 lr: 0.00628717 \n",
      "It: 66000 Batch: 1 Epoch 65999 Error: 0.00798066 lr: 0.00623899 \n",
      "It: 68000 Batch: 1 Epoch 67999 Error: 0.00797868 lr: 0.00619260 \n",
      "It: 70000 Batch: 1 Epoch 69999 Error: 0.00797672 lr: 0.00614788 \n",
      "It: 72000 Batch: 1 Epoch 71999 Error: 0.00797479 lr: 0.00610474 \n",
      "It: 74000 Batch: 1 Epoch 73999 Error: 0.00797289 lr: 0.00606306 \n",
      "It: 76000 Batch: 1 Epoch 75999 Error: 0.00797100 lr: 0.00602277 \n",
      "It: 78000 Batch: 1 Epoch 77999 Error: 0.00796914 lr: 0.00598379 \n",
      "It: 80000 Batch: 1 Epoch 79999 Error: 0.00796731 lr: 0.00594604 \n",
      "It: 82000 Batch: 1 Epoch 81999 Error: 0.00796549 lr: 0.00590944 \n",
      "It: 84000 Batch: 1 Epoch 83999 Error: 0.00796370 lr: 0.00587395 \n",
      "It: 86000 Batch: 1 Epoch 85999 Error: 0.00796192 lr: 0.00583950 \n",
      "It: 88000 Batch: 1 Epoch 87999 Error: 0.00796017 lr: 0.00580603 \n",
      "It: 90000 Batch: 1 Epoch 89999 Error: 0.00795843 lr: 0.00577350 \n",
      "It: 92000 Batch: 1 Epoch 91999 Error: 0.00795671 lr: 0.00574187 \n",
      "It: 94000 Batch: 1 Epoch 93999 Error: 0.00795501 lr: 0.00571108 \n",
      "It: 96000 Batch: 1 Epoch 95999 Error: 0.00795333 lr: 0.00568110 \n",
      "It: 98000 Batch: 1 Epoch 97999 Error: 0.00795167 lr: 0.00565189 \n",
      "It: 100000 Batch: 1 Epoch 99999 Error: 0.00795002 lr: 0.00562341 \n",
      "It: 102000 Batch: 1 Epoch 101999 Error: 0.00794839 lr: 0.00559564 \n",
      "It: 104000 Batch: 1 Epoch 103999 Error: 0.00794678 lr: 0.00556854 \n",
      "It: 106000 Batch: 1 Epoch 105999 Error: 0.00794518 lr: 0.00554209 \n",
      "It: 108000 Batch: 1 Epoch 107999 Error: 0.00794360 lr: 0.00551625 \n",
      "It: 110000 Batch: 1 Epoch 109999 Error: 0.00794203 lr: 0.00549100 \n",
      "It: 112000 Batch: 1 Epoch 111999 Error: 0.00794047 lr: 0.00546633 \n",
      "It: 114000 Batch: 1 Epoch 113999 Error: 0.00793893 lr: 0.00544219 \n",
      "It: 116000 Batch: 1 Epoch 115999 Error: 0.00793741 lr: 0.00541858 \n",
      "It: 118000 Batch: 1 Epoch 117999 Error: 0.00793590 lr: 0.00539547 \n",
      "It: 120000 Batch: 1 Epoch 119999 Error: 0.00793440 lr: 0.00537285 \n",
      "It: 122000 Batch: 1 Epoch 121999 Error: 0.00793292 lr: 0.00535069 \n",
      "It: 124000 Batch: 1 Epoch 123999 Error: 0.00793145 lr: 0.00532899 \n",
      "It: 126000 Batch: 1 Epoch 125999 Error: 0.00792999 lr: 0.00530771 \n",
      "It: 128000 Batch: 1 Epoch 127999 Error: 0.00792854 lr: 0.00528686 \n",
      "It: 130000 Batch: 1 Epoch 129999 Error: 0.00792711 lr: 0.00526640 \n",
      "It: 132000 Batch: 1 Epoch 131999 Error: 0.00792569 lr: 0.00524634 \n",
      "It: 134000 Batch: 1 Epoch 133999 Error: 0.00792428 lr: 0.00522665 \n",
      "It: 136000 Batch: 1 Epoch 135999 Error: 0.00792288 lr: 0.00520733 \n",
      "It: 138000 Batch: 1 Epoch 137999 Error: 0.00792149 lr: 0.00518836 \n",
      "It: 140000 Batch: 1 Epoch 139999 Error: 0.00792012 lr: 0.00516973 \n",
      "It: 142000 Batch: 1 Epoch 141999 Error: 0.00791875 lr: 0.00515143 \n",
      "It: 144000 Batch: 1 Epoch 143999 Error: 0.00791740 lr: 0.00513345 \n",
      "It: 146000 Batch: 1 Epoch 145999 Error: 0.00791606 lr: 0.00511578 \n",
      "It: 148000 Batch: 1 Epoch 147999 Error: 0.00791472 lr: 0.00509841 \n",
      "It: 150000 Batch: 1 Epoch 149999 Error: 0.00791340 lr: 0.00508133 \n",
      "It: 152000 Batch: 1 Epoch 151999 Error: 0.00791209 lr: 0.00506453 \n",
      "It: 154000 Batch: 1 Epoch 153999 Error: 0.00791079 lr: 0.00504801 \n",
      "It: 156000 Batch: 1 Epoch 155999 Error: 0.00790950 lr: 0.00503175 \n",
      "It: 158000 Batch: 1 Epoch 157999 Error: 0.00790821 lr: 0.00501575 \n",
      "It: 160000 Batch: 1 Epoch 159999 Error: 0.00790694 lr: 0.00500000 \n",
      "It: 162000 Batch: 1 Epoch 161999 Error: 0.00790568 lr: 0.00498450 \n",
      "It: 164000 Batch: 1 Epoch 163999 Error: 0.00790442 lr: 0.00496923 \n",
      "It: 166000 Batch: 1 Epoch 165999 Error: 0.00790318 lr: 0.00495419 \n",
      "It: 168000 Batch: 1 Epoch 167999 Error: 0.00790194 lr: 0.00493938 \n",
      "It: 170000 Batch: 1 Epoch 169999 Error: 0.00790071 lr: 0.00492479 \n",
      "It: 172000 Batch: 1 Epoch 171999 Error: 0.00789950 lr: 0.00491041 \n",
      "It: 174000 Batch: 1 Epoch 173999 Error: 0.00789829 lr: 0.00489624 \n",
      "It: 176000 Batch: 1 Epoch 175999 Error: 0.00789708 lr: 0.00488227 \n",
      "It: 178000 Batch: 1 Epoch 177999 Error: 0.00789589 lr: 0.00486850 \n",
      "It: 180000 Batch: 1 Epoch 179999 Error: 0.00789470 lr: 0.00485492 \n",
      "It: 182000 Batch: 1 Epoch 181999 Error: 0.00789353 lr: 0.00484152 \n",
      "It: 184000 Batch: 1 Epoch 183999 Error: 0.00789236 lr: 0.00482831 \n",
      "It: 186000 Batch: 1 Epoch 185999 Error: 0.00789120 lr: 0.00481528 \n",
      "It: 188000 Batch: 1 Epoch 187999 Error: 0.00789004 lr: 0.00480242 \n",
      "It: 190000 Batch: 1 Epoch 189999 Error: 0.00788890 lr: 0.00478974 \n",
      "It: 192000 Batch: 1 Epoch 191999 Error: 0.00788776 lr: 0.00477721 \n",
      "It: 194000 Batch: 1 Epoch 193999 Error: 0.00788663 lr: 0.00476485 \n",
      "It: 196000 Batch: 1 Epoch 195999 Error: 0.00788550 lr: 0.00475265 \n",
      "It: 198000 Batch: 1 Epoch 197999 Error: 0.00788439 lr: 0.00474060 \n",
      "It: 200000 Batch: 1 Epoch 199999 Error: 0.00788328 lr: 0.00472871 \n",
      "It: 202000 Batch: 1 Epoch 201999 Error: 0.00788218 lr: 0.00471696 \n",
      "It: 204000 Batch: 1 Epoch 203999 Error: 0.00788108 lr: 0.00470536 \n",
      "It: 206000 Batch: 1 Epoch 205999 Error: 0.00787999 lr: 0.00469389 \n",
      "It: 208000 Batch: 1 Epoch 207999 Error: 0.00787891 lr: 0.00468257 \n",
      "It: 210000 Batch: 1 Epoch 209999 Error: 0.00787784 lr: 0.00467138 \n",
      "It: 212000 Batch: 1 Epoch 211999 Error: 0.00787677 lr: 0.00466032 \n",
      "It: 214000 Batch: 1 Epoch 213999 Error: 0.00787571 lr: 0.00464940 \n",
      "It: 216000 Batch: 1 Epoch 215999 Error: 0.00787465 lr: 0.00463860 \n",
      "It: 218000 Batch: 1 Epoch 217999 Error: 0.00787360 lr: 0.00462792 \n",
      "It: 220000 Batch: 1 Epoch 219999 Error: 0.00787256 lr: 0.00461737 \n",
      "It: 222000 Batch: 1 Epoch 221999 Error: 0.00787152 lr: 0.00460693 \n",
      "It: 224000 Batch: 1 Epoch 223999 Error: 0.00787049 lr: 0.00459661 \n",
      "It: 226000 Batch: 1 Epoch 225999 Error: 0.00786947 lr: 0.00458641 \n",
      "It: 228000 Batch: 1 Epoch 227999 Error: 0.00786845 lr: 0.00457632 \n",
      "It: 230000 Batch: 1 Epoch 229999 Error: 0.00786744 lr: 0.00456634 \n",
      "It: 232000 Batch: 1 Epoch 231999 Error: 0.00786643 lr: 0.00455646 \n",
      "It: 234000 Batch: 1 Epoch 233999 Error: 0.00786543 lr: 0.00454670 \n",
      "It: 236000 Batch: 1 Epoch 235999 Error: 0.00786444 lr: 0.00453703 \n",
      "It: 238000 Batch: 1 Epoch 237999 Error: 0.00786345 lr: 0.00452747 \n",
      "It: 240000 Batch: 1 Epoch 239999 Error: 0.00786247 lr: 0.00451801 \n",
      "It: 242000 Batch: 1 Epoch 241999 Error: 0.00786149 lr: 0.00450865 \n",
      "It: 244000 Batch: 1 Epoch 243999 Error: 0.00786052 lr: 0.00449938 \n",
      "It: 246000 Batch: 1 Epoch 245999 Error: 0.00785955 lr: 0.00449021 \n"
     ]
    },
    {
     "name": "stdout",
     "output_type": "stream",
     "text": [
      "It: 248000 Batch: 1 Epoch 247999 Error: 0.00785859 lr: 0.00448113 \n",
      "It: 250000 Batch: 1 Epoch 249999 Error: 0.00785763 lr: 0.00447214 \n",
      "It: 252000 Batch: 1 Epoch 251999 Error: 0.00785668 lr: 0.00446324 \n",
      "It: 254000 Batch: 1 Epoch 253999 Error: 0.00785574 lr: 0.00445442 \n",
      "It: 256000 Batch: 1 Epoch 255999 Error: 0.00785480 lr: 0.00444570 \n",
      "It: 258000 Batch: 1 Epoch 257999 Error: 0.00785386 lr: 0.00443706 \n",
      "It: 260000 Batch: 1 Epoch 259999 Error: 0.00785293 lr: 0.00442850 \n",
      "It: 262000 Batch: 1 Epoch 261999 Error: 0.00785201 lr: 0.00442002 \n",
      "It: 264000 Batch: 1 Epoch 263999 Error: 0.00785109 lr: 0.00441163 \n",
      "It: 266000 Batch: 1 Epoch 265999 Error: 0.00785017 lr: 0.00440331 \n",
      "It: 268000 Batch: 1 Epoch 267999 Error: 0.00784926 lr: 0.00439508 \n",
      "It: 270000 Batch: 1 Epoch 269999 Error: 0.00784836 lr: 0.00438691 \n",
      "It: 272000 Batch: 1 Epoch 271999 Error: 0.00784746 lr: 0.00437883 \n",
      "It: 274000 Batch: 1 Epoch 273999 Error: 0.00784656 lr: 0.00437081 \n",
      "It: 276000 Batch: 1 Epoch 275999 Error: 0.00784567 lr: 0.00436287 \n",
      "It: 278000 Batch: 1 Epoch 277999 Error: 0.00784478 lr: 0.00435501 \n",
      "It: 280000 Batch: 1 Epoch 279999 Error: 0.00784390 lr: 0.00434721 \n",
      "It: 282000 Batch: 1 Epoch 281999 Error: 0.00784302 lr: 0.00433948 \n",
      "It: 284000 Batch: 1 Epoch 283999 Error: 0.00784215 lr: 0.00433182 \n",
      "It: 286000 Batch: 1 Epoch 285999 Error: 0.00784128 lr: 0.00432423 \n",
      "It: 288000 Batch: 1 Epoch 287999 Error: 0.00784042 lr: 0.00431670 \n",
      "It: 290000 Batch: 1 Epoch 289999 Error: 0.00783956 lr: 0.00430924 \n",
      "It: 292000 Batch: 1 Epoch 291999 Error: 0.00783870 lr: 0.00430184 \n",
      "It: 294000 Batch: 1 Epoch 293999 Error: 0.00783785 lr: 0.00429451 \n",
      "It: 296000 Batch: 1 Epoch 295999 Error: 0.00783700 lr: 0.00428723 \n",
      "It: 298000 Batch: 1 Epoch 297999 Error: 0.00783616 lr: 0.00428002 \n",
      "It: 300000 Batch: 1 Epoch 299999 Error: 0.00783532 lr: 0.00427287 \n",
      "It: 302000 Batch: 1 Epoch 301999 Error: 0.00783449 lr: 0.00426578 \n",
      "It: 304000 Batch: 1 Epoch 303999 Error: 0.00783366 lr: 0.00425874 \n",
      "It: 306000 Batch: 1 Epoch 305999 Error: 0.00783283 lr: 0.00425177 \n",
      "It: 308000 Batch: 1 Epoch 307999 Error: 0.00783201 lr: 0.00424485 \n",
      "It: 310000 Batch: 1 Epoch 309999 Error: 0.00783119 lr: 0.00423799 \n",
      "It: 312000 Batch: 1 Epoch 311999 Error: 0.00783037 lr: 0.00423118 \n",
      "It: 314000 Batch: 1 Epoch 313999 Error: 0.00782956 lr: 0.00422442 \n",
      "It: 316000 Batch: 1 Epoch 315999 Error: 0.00782876 lr: 0.00421772 \n",
      "It: 318000 Batch: 1 Epoch 317999 Error: 0.00782795 lr: 0.00421108 \n",
      "It: 320000 Batch: 1 Epoch 319999 Error: 0.00782716 lr: 0.00420448 \n",
      "It: 322000 Batch: 1 Epoch 321999 Error: 0.00782636 lr: 0.00419794 \n",
      "It: 324000 Batch: 1 Epoch 323999 Error: 0.00782557 lr: 0.00419144 \n",
      "It: 326000 Batch: 1 Epoch 325999 Error: 0.00782478 lr: 0.00418500 \n",
      "It: 328000 Batch: 1 Epoch 327999 Error: 0.00782400 lr: 0.00417861 \n",
      "It: 330000 Batch: 1 Epoch 329999 Error: 0.00782321 lr: 0.00417226 \n",
      "It: 332000 Batch: 1 Epoch 331999 Error: 0.00782244 lr: 0.00416596 \n",
      "It: 334000 Batch: 1 Epoch 333999 Error: 0.00782166 lr: 0.00415971 \n",
      "It: 336000 Batch: 1 Epoch 335999 Error: 0.00782089 lr: 0.00415351 \n",
      "It: 338000 Batch: 1 Epoch 337999 Error: 0.00782013 lr: 0.00414735 \n",
      "It: 340000 Batch: 1 Epoch 339999 Error: 0.00781936 lr: 0.00414124 \n",
      "It: 342000 Batch: 1 Epoch 341999 Error: 0.00781861 lr: 0.00413517 \n",
      "It: 344000 Batch: 1 Epoch 343999 Error: 0.00781785 lr: 0.00412915 \n",
      "It: 346000 Batch: 1 Epoch 345999 Error: 0.00781710 lr: 0.00412317 \n",
      "It: 348000 Batch: 1 Epoch 347999 Error: 0.00781635 lr: 0.00411723 \n",
      "It: 350000 Batch: 1 Epoch 349999 Error: 0.00781560 lr: 0.00411134 \n",
      "It: 352000 Batch: 1 Epoch 351999 Error: 0.00781486 lr: 0.00410548 \n",
      "It: 354000 Batch: 1 Epoch 353999 Error: 0.00781412 lr: 0.00409967 \n",
      "It: 356000 Batch: 1 Epoch 355999 Error: 0.00781338 lr: 0.00409390 \n",
      "It: 358000 Batch: 1 Epoch 357999 Error: 0.00781265 lr: 0.00408817 \n",
      "It: 360000 Batch: 1 Epoch 359999 Error: 0.00781192 lr: 0.00408248 \n",
      "It: 362000 Batch: 1 Epoch 361999 Error: 0.00781119 lr: 0.00407683 \n",
      "It: 364000 Batch: 1 Epoch 363999 Error: 0.00781047 lr: 0.00407122 \n",
      "It: 366000 Batch: 1 Epoch 365999 Error: 0.00780975 lr: 0.00406565 \n",
      "It: 368000 Batch: 1 Epoch 367999 Error: 0.00780903 lr: 0.00406011 \n",
      "It: 370000 Batch: 1 Epoch 369999 Error: 0.00780832 lr: 0.00405461 \n",
      "It: 372000 Batch: 1 Epoch 371999 Error: 0.00780761 lr: 0.00404915 \n",
      "It: 374000 Batch: 1 Epoch 373999 Error: 0.00780690 lr: 0.00404373 \n",
      "It: 376000 Batch: 1 Epoch 375999 Error: 0.00780619 lr: 0.00403834 \n",
      "It: 378000 Batch: 1 Epoch 377999 Error: 0.00780549 lr: 0.00403299 \n",
      "It: 380000 Batch: 1 Epoch 379999 Error: 0.00780479 lr: 0.00402767 \n",
      "It: 382000 Batch: 1 Epoch 381999 Error: 0.00780410 lr: 0.00402239 \n",
      "It: 384000 Batch: 1 Epoch 383999 Error: 0.00780340 lr: 0.00401714 \n",
      "It: 386000 Batch: 1 Epoch 385999 Error: 0.00780271 lr: 0.00401193 \n",
      "It: 388000 Batch: 1 Epoch 387999 Error: 0.00780203 lr: 0.00400675 \n",
      "It: 390000 Batch: 1 Epoch 389999 Error: 0.00780134 lr: 0.00400160 \n",
      "It: 392000 Batch: 1 Epoch 391999 Error: 0.00780066 lr: 0.00399649 \n",
      "It: 394000 Batch: 1 Epoch 393999 Error: 0.00779998 lr: 0.00399141 \n",
      "It: 396000 Batch: 1 Epoch 395999 Error: 0.00779930 lr: 0.00398636 \n",
      "It: 398000 Batch: 1 Epoch 397999 Error: 0.00779863 lr: 0.00398134 \n",
      "It: 400000 Batch: 1 Epoch 399999 Error: 0.00779796 lr: 0.00397635 \n",
      "It: 402000 Batch: 1 Epoch 401999 Error: 0.00779729 lr: 0.00397140 \n",
      "It: 404000 Batch: 1 Epoch 403999 Error: 0.00779663 lr: 0.00396647 \n",
      "It: 406000 Batch: 1 Epoch 405999 Error: 0.00779596 lr: 0.00396158 \n",
      "It: 408000 Batch: 1 Epoch 407999 Error: 0.00779530 lr: 0.00395672 \n",
      "It: 410000 Batch: 1 Epoch 409999 Error: 0.00779465 lr: 0.00395188 \n",
      "It: 412000 Batch: 1 Epoch 411999 Error: 0.00779399 lr: 0.00394708 \n",
      "It: 414000 Batch: 1 Epoch 413999 Error: 0.00779334 lr: 0.00394230 \n",
      "It: 416000 Batch: 1 Epoch 415999 Error: 0.00779269 lr: 0.00393756 \n",
      "It: 418000 Batch: 1 Epoch 417999 Error: 0.00779204 lr: 0.00393284 \n",
      "It: 420000 Batch: 1 Epoch 419999 Error: 0.00779140 lr: 0.00392815 \n",
      "It: 422000 Batch: 1 Epoch 421999 Error: 0.00779076 lr: 0.00392348 \n",
      "It: 424000 Batch: 1 Epoch 423999 Error: 0.00779012 lr: 0.00391885 \n",
      "It: 426000 Batch: 1 Epoch 425999 Error: 0.00778948 lr: 0.00391424 \n",
      "It: 428000 Batch: 1 Epoch 427999 Error: 0.00778885 lr: 0.00390966 \n",
      "It: 430000 Batch: 1 Epoch 429999 Error: 0.00778821 lr: 0.00390511 \n",
      "It: 432000 Batch: 1 Epoch 431999 Error: 0.00778758 lr: 0.00390058 \n",
      "It: 434000 Batch: 1 Epoch 433999 Error: 0.00778696 lr: 0.00389608 \n",
      "It: 436000 Batch: 1 Epoch 435999 Error: 0.00778633 lr: 0.00389160 \n",
      "It: 438000 Batch: 1 Epoch 437999 Error: 0.00778571 lr: 0.00388715 \n",
      "It: 440000 Batch: 1 Epoch 439999 Error: 0.00778509 lr: 0.00388273 \n",
      "It: 442000 Batch: 1 Epoch 441999 Error: 0.00778447 lr: 0.00387833 \n",
      "It: 444000 Batch: 1 Epoch 443999 Error: 0.00778386 lr: 0.00387395 \n",
      "It: 446000 Batch: 1 Epoch 445999 Error: 0.00778324 lr: 0.00386960 \n",
      "It: 448000 Batch: 1 Epoch 447999 Error: 0.00778263 lr: 0.00386528 \n",
      "It: 450000 Batch: 1 Epoch 449999 Error: 0.00778203 lr: 0.00386097 \n",
      "It: 452000 Batch: 1 Epoch 451999 Error: 0.00778142 lr: 0.00385670 \n",
      "It: 454000 Batch: 1 Epoch 453999 Error: 0.00778082 lr: 0.00385244 \n",
      "It: 456000 Batch: 1 Epoch 455999 Error: 0.00778021 lr: 0.00384821 \n",
      "It: 458000 Batch: 1 Epoch 457999 Error: 0.00777962 lr: 0.00384400 \n",
      "It: 460000 Batch: 1 Epoch 459999 Error: 0.00777902 lr: 0.00383982 \n",
      "It: 462000 Batch: 1 Epoch 461999 Error: 0.00777842 lr: 0.00383565 \n",
      "It: 464000 Batch: 1 Epoch 463999 Error: 0.00777783 lr: 0.00383151 \n",
      "It: 466000 Batch: 1 Epoch 465999 Error: 0.00777724 lr: 0.00382740 \n",
      "It: 468000 Batch: 1 Epoch 467999 Error: 0.00777665 lr: 0.00382330 \n",
      "It: 470000 Batch: 1 Epoch 469999 Error: 0.00777607 lr: 0.00381923 \n",
      "It: 472000 Batch: 1 Epoch 471999 Error: 0.00777548 lr: 0.00381518 \n",
      "It: 474000 Batch: 1 Epoch 473999 Error: 0.00777490 lr: 0.00381114 \n",
      "It: 476000 Batch: 1 Epoch 475999 Error: 0.00777432 lr: 0.00380713 \n",
      "It: 478000 Batch: 1 Epoch 477999 Error: 0.00777374 lr: 0.00380315 \n",
      "It: 480000 Batch: 1 Epoch 479999 Error: 0.00777317 lr: 0.00379918 \n",
      "It: 482000 Batch: 1 Epoch 481999 Error: 0.00777259 lr: 0.00379523 \n",
      "It: 484000 Batch: 1 Epoch 483999 Error: 0.00777202 lr: 0.00379130 \n",
      "It: 486000 Batch: 1 Epoch 485999 Error: 0.00777145 lr: 0.00378740 \n",
      "It: 488000 Batch: 1 Epoch 487999 Error: 0.00777088 lr: 0.00378351 \n",
      "It: 490000 Batch: 1 Epoch 489999 Error: 0.00777032 lr: 0.00377964 \n",
      "It: 492000 Batch: 1 Epoch 491999 Error: 0.00776975 lr: 0.00377580 \n"
     ]
    },
    {
     "name": "stdout",
     "output_type": "stream",
     "text": [
      "It: 494000 Batch: 1 Epoch 493999 Error: 0.00776919 lr: 0.00377197 \n",
      "It: 496000 Batch: 1 Epoch 495999 Error: 0.00776863 lr: 0.00376816 \n",
      "It: 498000 Batch: 1 Epoch 497999 Error: 0.00776807 lr: 0.00376437 \n",
      "It: 500000 Batch: 1 Epoch 499999 Error: 0.00776752 lr: 0.00376060 \n",
      "Finished \n",
      " It: 500000 Batch: 1 Epoch 499999 Train Loss: 0.00776752 lr: 0.00376060 \n",
      "RMSE : 969.6967\n",
      "MSE: 940311.6477\n",
      "MAE: 467.4488\n",
      "R2: 0.9413\n"
     ]
    },
    {
     "data": {
      "image/png": "[encoded data removed]",
      "text/plain": [
       "<Figure size 432x288 with 1 Axes>"
      ]
     },
     "metadata": {
      "needs_background": "light"
     },
     "output_type": "display_data"
    },
    {
     "data": {
      "image/png": "[encoded data removed]",
      "text/plain": [
       "<Figure size 432x288 with 1 Axes>"
      ]
     },
     "metadata": {
      "needs_background": "light"
     },
     "output_type": "display_data"
    },
    {
     "data": {
      "image/png": "[encoded data removed]",
      "text/plain": [
       "<Figure size 432x288 with 1 Axes>"
      ]
     },
     "metadata": {
      "needs_background": "light"
     },
     "output_type": "display_data"
    }
   ],
   "source": [
    "experiments.fit_evaluate_customSGD(train.copy(), test.copy(), params=base_params, log_y=True, scale=True)"
   ]
  },
  {
   "cell_type": "code",
   "execution_count": null,
   "metadata": {},
   "outputs": [],
   "source": []
  }
 ],
 "metadata": {
  "kernelspec": {
   "display_name": "Python 3",
   "language": "python",
   "name": "python3"
  },
  "language_info": {
   "codemirror_mode": {
    "name": "ipython",
    "version": 3
   },
   "file_extension": ".py",
   "mimetype": "text/x-python",
   "name": "python",
   "nbconvert_exporter": "python",
   "pygments_lexer": "ipython3",
   "version": "3.5.2"
  }
 },
 "nbformat": 4,
 "nbformat_minor": 2
}
