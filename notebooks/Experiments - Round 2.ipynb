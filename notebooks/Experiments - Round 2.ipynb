{
 "cells": [
  {
   "cell_type": "code",
   "execution_count": 1,
   "metadata": {},
   "outputs": [
    {
     "name": "stderr",
     "output_type": "stream",
     "text": [
      "/root/.local/lib/python3.5/site-packages/sklearn/ensemble/weight_boosting.py:29: DeprecationWarning: numpy.core.umath_tests is an internal NumPy module and should not be imported. It will be removed in a future NumPy release.\n",
      "  from numpy.core.umath_tests import inner1d\n"
     ]
    }
   ],
   "source": [
    "import sys\n",
    "import sys\n",
    "sys.path\n",
    "sys.path.append('../')\n",
    "\n",
    "import numpy as np\n",
    "from diamonds import experiments, normal_equation\n",
    "\n",
    "import warnings\n",
    "warnings.filterwarnings(\"ignore\", category=DeprecationWarning) \n",
    "scoring = {\n",
    "    \t'Negative MSE': 'neg_mean_squared_error',\n",
    "    \t'Negative MAE': 'neg_mean_absolute_error',\n",
    "    \t'R2': 'r2'\n",
    "\t}\n",
    "\n",
    "val_size = .15\n",
    "params = {}"
   ]
  },
  {
   "cell_type": "markdown",
   "metadata": {},
   "source": [
    "## Discution 1\n",
    "  - Using the SKlearn SGDregressor with basic params we are now comparing the results.\n",
    "  - Kept only the best results from the first experiment to run the GridSearch for the parameters\n",
    "  - The Log(Y) kept the algorithm more robust reducing the errors mean value\n",
    "  - The Scale kept the algorithm more robust reducing the errors mean value\n",
    "  - The syntetic features wherever they appeards reduces the standard deviation from the MAE/MSE and RSME\n"
   ]
  },
  {
   "cell_type": "code",
   "execution_count": 2,
   "metadata": {},
   "outputs": [
    {
     "data": {
      "text/plain": [
       "SGDRegressor(alpha=0.0001, average=False, epsilon=0.1, eta0=0.01,\n",
       "       fit_intercept=True, l1_ratio=0.15, learning_rate='invscaling',\n",
       "       loss='squared_loss', max_iter=None, n_iter=None, penalty=None,\n",
       "       power_t=0.25, random_state=None, shuffle=True, tol=None,\n",
       "       verbose=True, warm_start=False)"
      ]
     },
     "execution_count": 2,
     "metadata": {},
     "output_type": "execute_result"
    }
   ],
   "source": [
    "regr = experiments.get_sklearn_sgd(params)\n",
    "regr"
   ]
  },
  {
   "cell_type": "markdown",
   "metadata": {},
   "source": [
    "## Adding syntect features ['volume', 'ratio_xy']"
   ]
  },
  {
   "cell_type": "code",
   "execution_count": 3,
   "metadata": {},
   "outputs": [],
   "source": [
    "X = experiments.load_train_data()\n",
    "folds, (X_train, X_test, y_train, y_test) = experiments.gen_splits(X, scale=True, \n",
    "                                                             exclude_features=['ratio_xz'])"
   ]
  },
  {
   "cell_type": "markdown",
   "metadata": {},
   "source": [
    "### Log(price)"
   ]
  },
  {
   "cell_type": "code",
   "execution_count": 4,
   "metadata": {
    "scrolled": false
   },
   "outputs": [
    {
     "name": "stdout",
     "output_type": "stream",
     "text": [
      "Evaluating 0\n",
      "Evaluating 1\n",
      "Evaluating 2\n",
      "Evaluating 3\n",
      "Evaluating 4\n",
      "RMSE: \t 1623.5299 +/- 98.0607\n",
      "MSE:  \t 2645465.1322 +/- 314672.4479\n",
      "MAE:  \t 719.4283 +/- 23.8322\n",
      "R2:   \t 0.8138 +/- 0.0222\n"
     ]
    },
    {
     "name": "stderr",
     "output_type": "stream",
     "text": [
      "/root/.local/lib/python3.5/site-packages/sklearn/linear_model/stochastic_gradient.py:128: FutureWarning: max_iter and tol parameters have been added in <class 'sklearn.linear_model.stochastic_gradient.SGDRegressor'> in 0.19. If both are left unset, they default to max_iter=5 and tol=None. If tol is not None, max_iter defaults to max_iter=1000. From 0.21, default max_iter will be 1000, and default tol will be 1e-3.\n",
      "  \"and default tol will be 1e-3.\" % type(self), FutureWarning)\n"
     ]
    }
   ],
   "source": [
    "experiments.kfold_evaluate(regr, folds, scoring, log_y=True)"
   ]
  },
  {
   "cell_type": "code",
   "execution_count": null,
   "metadata": {},
   "outputs": [],
   "source": []
  },
  {
   "cell_type": "markdown",
   "metadata": {},
   "source": [
    "## Adding syntect features ['volume', 'ratio_xz']"
   ]
  },
  {
   "cell_type": "code",
   "execution_count": 5,
   "metadata": {},
   "outputs": [],
   "source": [
    "X = experiments.load_train_data()\n",
    "folds, (X_train, X_test, y_train, y_test) = experiments.gen_splits(X, scale=True, \n",
    "                                                             exclude_features=['ratio_xy'])"
   ]
  },
  {
   "cell_type": "markdown",
   "metadata": {},
   "source": [
    "### Log(price)"
   ]
  },
  {
   "cell_type": "code",
   "execution_count": 6,
   "metadata": {
    "scrolled": false
   },
   "outputs": [
    {
     "name": "stdout",
     "output_type": "stream",
     "text": [
      "Evaluating 0\n",
      "Evaluating 1\n",
      "Evaluating 2\n",
      "Evaluating 3\n",
      "Evaluating 4\n",
      "RMSE: \t 1588.3106 +/- 101.2143\n",
      "MSE:  \t 2532974.9834 +/- 336302.1876\n",
      "MAE:  \t 705.9682 +/- 29.9954\n",
      "R2:   \t 0.8218 +/- 0.0224\n"
     ]
    },
    {
     "name": "stderr",
     "output_type": "stream",
     "text": [
      "/root/.local/lib/python3.5/site-packages/sklearn/linear_model/stochastic_gradient.py:128: FutureWarning: max_iter and tol parameters have been added in <class 'sklearn.linear_model.stochastic_gradient.SGDRegressor'> in 0.19. If both are left unset, they default to max_iter=5 and tol=None. If tol is not None, max_iter defaults to max_iter=1000. From 0.21, default max_iter will be 1000, and default tol will be 1e-3.\n",
      "  \"and default tol will be 1e-3.\" % type(self), FutureWarning)\n"
     ]
    }
   ],
   "source": [
    "experiments.kfold_evaluate(regr, folds, scoring, log_y=True)"
   ]
  },
  {
   "cell_type": "code",
   "execution_count": null,
   "metadata": {},
   "outputs": [],
   "source": []
  },
  {
   "cell_type": "markdown",
   "metadata": {},
   "source": [
    "## Adding syntect features ['volume', 'ratio_xy', 'ratio_xz']"
   ]
  },
  {
   "cell_type": "code",
   "execution_count": 7,
   "metadata": {},
   "outputs": [],
   "source": [
    "X = experiments.load_train_data()\n",
    "folds, (X_train, X_test, y_train, y_test) = experiments.gen_splits(X, scale=True, \n",
    "                                                             exclude_features=[])"
   ]
  },
  {
   "cell_type": "markdown",
   "metadata": {},
   "source": [
    "### Log(price)"
   ]
  },
  {
   "cell_type": "code",
   "execution_count": 8,
   "metadata": {
    "scrolled": false
   },
   "outputs": [
    {
     "name": "stdout",
     "output_type": "stream",
     "text": [
      "Evaluating 0\n",
      "Evaluating 1\n",
      "Evaluating 2\n",
      "Evaluating 3\n",
      "Evaluating 4\n",
      "RMSE: \t 1589.3804 +/- 111.7284\n",
      "MSE:  \t 2538613.2083 +/- 366494.7774\n",
      "MAE:  \t 710.8763 +/- 31.5879\n",
      "R2:   \t 0.8214 +/- 0.0244\n"
     ]
    },
    {
     "name": "stderr",
     "output_type": "stream",
     "text": [
      "/root/.local/lib/python3.5/site-packages/sklearn/linear_model/stochastic_gradient.py:128: FutureWarning: max_iter and tol parameters have been added in <class 'sklearn.linear_model.stochastic_gradient.SGDRegressor'> in 0.19. If both are left unset, they default to max_iter=5 and tol=None. If tol is not None, max_iter defaults to max_iter=1000. From 0.21, default max_iter will be 1000, and default tol will be 1e-3.\n",
      "  \"and default tol will be 1e-3.\" % type(self), FutureWarning)\n"
     ]
    }
   ],
   "source": [
    "experiments.kfold_evaluate(regr, folds, scoring, log_y=True)"
   ]
  },
  {
   "cell_type": "markdown",
   "metadata": {},
   "source": [
    "----"
   ]
  },
  {
   "cell_type": "markdown",
   "metadata": {},
   "source": [
    "## Discution 2\n",
    "  - The results doesn't appear to have an statistical difference between then, since the mean and std deviation are practically the same. Although the result with features included has a better R2. \n",
    "  - The SGD goes almost to the same minimal as the normal equation results.\n",
    "  - Whe are now running the GridSearch CV for the SGD to look for better parameters and will be using the last dataset above. \n"
   ]
  },
  {
   "cell_type": "code",
   "execution_count": 9,
   "metadata": {},
   "outputs": [
    {
     "name": "stdout",
     "output_type": "stream",
     "text": [
      "Fitting 5 folds for each of 27 candidates, totalling 135 fits\n"
     ]
    },
    {
     "name": "stderr",
     "output_type": "stream",
     "text": [
      "[Parallel(n_jobs=-1)]: Done  34 tasks      | elapsed:  1.5min\n",
      "[Parallel(n_jobs=-1)]: Done 135 out of 135 | elapsed:  5.3min finished\n"
     ]
    },
    {
     "data": {
      "text/plain": [
       "GridSearchCV(cv=5, error_score='raise',\n",
       "       estimator=SGDRegressor(alpha=0.0001, average=False, epsilon=0.1, eta0=0.01,\n",
       "       fit_intercept=True, l1_ratio=0.15, learning_rate='invscaling',\n",
       "       loss='squared_loss', max_iter=None, n_iter=None, penalty=None,\n",
       "       power_t=0.25, random_state=None, shuffle=True, tol=None,\n",
       "       verbose=False, warm_start=False),\n",
       "       fit_params=None, iid=True, n_jobs=-1,\n",
       "       param_grid={'penalty': ['l2', 'l1', None], 'loss': ['squared_loss'], 'max_iter': [5000], 'learning_rate': ['invscaling', 'optimal', 'constant'], 'eta0': [0.1, 0.05, 0.01]},\n",
       "       pre_dispatch='2*n_jobs', refit='R2', return_train_score='warn',\n",
       "       scoring={'-MAE': 'neg_mean_absolute_error', 'R2': 'r2', '-MSE': 'neg_mean_squared_error'},\n",
       "       verbose=True)"
      ]
     },
     "execution_count": 9,
     "metadata": {},
     "output_type": "execute_result"
    }
   ],
   "source": [
    "from sklearn.model_selection import GridSearchCV\n",
    "\n",
    "params = {\n",
    "    'learning_rate':['invscaling', 'optimal', 'constant'],\n",
    "    'eta0': [0.1, 0.05, 0.01], # since 0.01 had a good result in the previous results \n",
    "    'penalty': ['l2', 'l1', None], # Those penalties are easier to implement if needed\n",
    "    'loss': ['squared_loss'], # Since we are running the MSE loss function for the Custom Implementing\n",
    "    'max_iter':[5000] # Fixed the number of iterations to avoid the long time executions\n",
    "}\n",
    "\n",
    "scoring = {\n",
    "        '-MSE': 'neg_mean_squared_error',\n",
    "        '-MAE': 'neg_mean_absolute_error',\n",
    "        'R2': 'r2'\n",
    "    }\n",
    "\n",
    "# We are using R2 to refit because it gave a better view of the results above when compared with the MSE and MAE\n",
    "regr = GridSearchCV(regr, params, cv=5, scoring=scoring, refit='R2', n_jobs=-1, verbose=True)\n",
    "regr.fit(X_train, np.log(y_train))\n"
   ]
  },
  {
   "cell_type": "code",
   "execution_count": 10,
   "metadata": {},
   "outputs": [
    {
     "data": {
      "text/plain": [
       "SGDRegressor(alpha=0.0001, average=False, epsilon=0.1, eta0=0.01,\n",
       "       fit_intercept=True, l1_ratio=0.15, learning_rate='constant',\n",
       "       loss='squared_loss', max_iter=5000, n_iter=None, penalty=None,\n",
       "       power_t=0.25, random_state=None, shuffle=True, tol=None,\n",
       "       verbose=False, warm_start=False)"
      ]
     },
     "execution_count": 10,
     "metadata": {},
     "output_type": "execute_result"
    }
   ],
   "source": [
    "regr.best_estimator_"
   ]
  },
  {
   "cell_type": "code",
   "execution_count": 11,
   "metadata": {},
   "outputs": [
    {
     "data": {
      "text/plain": [
       "{'eta0': 0.01,\n",
       " 'learning_rate': 'constant',\n",
       " 'loss': 'squared_loss',\n",
       " 'max_iter': 5000,\n",
       " 'penalty': None}"
      ]
     },
     "execution_count": 11,
     "metadata": {},
     "output_type": "execute_result"
    }
   ],
   "source": [
    "regr.best_params_"
   ]
  },
  {
   "cell_type": "code",
   "execution_count": 12,
   "metadata": {},
   "outputs": [
    {
     "data": {
      "text/plain": [
       "dict_keys(['param_eta0', 'split0_train_-MSE', 'split4_train_-MAE', 'mean_train_-MSE', 'split2_test_-MAE', 'rank_test_-MSE', 'split0_test_-MSE', 'std_train_R2', 'mean_test_-MSE', 'std_score_time', 'param_loss', 'split2_test_R2', 'param_penalty', 'rank_test_R2', 'split3_train_-MAE', 'split4_train_R2', 'split2_train_R2', 'split3_test_-MAE', 'mean_test_-MAE', 'param_learning_rate', 'split4_test_-MAE', 'std_test_-MSE', 'split0_test_-MAE', 'split2_train_-MSE', 'split1_test_R2', 'split1_test_-MAE', 'mean_test_R2', 'split2_train_-MAE', 'split2_test_-MSE', 'rank_test_-MAE', 'split0_test_R2', 'params', 'std_test_R2', 'mean_train_-MAE', 'std_train_-MSE', 'split1_train_R2', 'mean_train_R2', 'param_max_iter', 'split3_train_-MSE', 'split3_train_R2', 'std_test_-MAE', 'mean_score_time', 'split3_test_R2', 'std_train_-MAE', 'split0_train_R2', 'split4_test_-MSE', 'mean_fit_time', 'std_fit_time', 'split1_train_-MAE', 'split3_test_-MSE', 'split1_test_-MSE', 'split1_train_-MSE', 'split4_train_-MSE', 'split4_test_R2', 'split0_train_-MAE'])"
      ]
     },
     "execution_count": 12,
     "metadata": {},
     "output_type": "execute_result"
    }
   ],
   "source": [
    "regr.cv_results_.keys()"
   ]
  },
  {
   "cell_type": "code",
   "execution_count": 13,
   "metadata": {
    "scrolled": true
   },
   "outputs": [
    {
     "data": {
      "text/html": [
       "<div>\n",
       "<style scoped>\n",
       "    .dataframe tbody tr th:only-of-type {\n",
       "        vertical-align: middle;\n",
       "    }\n",
       "\n",
       "    .dataframe tbody tr th {\n",
       "        vertical-align: top;\n",
       "    }\n",
       "\n",
       "    .dataframe thead th {\n",
       "        text-align: right;\n",
       "    }\n",
       "</style>\n",
       "<table border=\"1\" class=\"dataframe\">\n",
       "  <thead>\n",
       "    <tr style=\"text-align: right;\">\n",
       "      <th></th>\n",
       "      <th>param_learning_rate</th>\n",
       "      <th>param_max_iter</th>\n",
       "      <th>param_loss</th>\n",
       "      <th>param_eta0</th>\n",
       "      <th>param_penalty</th>\n",
       "      <th>rank_test_-MSE</th>\n",
       "      <th>rank_test_-MAE</th>\n",
       "      <th>std_test_-MSE</th>\n",
       "      <th>std_test_-MAE</th>\n",
       "      <th>std_test_R2</th>\n",
       "      <th>mean_test_-MSE</th>\n",
       "      <th>mean_test_-MAE</th>\n",
       "      <th>mean_test_R2</th>\n",
       "      <th>mean_fit_time</th>\n",
       "    </tr>\n",
       "    <tr>\n",
       "      <th>rank_test_R2</th>\n",
       "      <th></th>\n",
       "      <th></th>\n",
       "      <th></th>\n",
       "      <th></th>\n",
       "      <th></th>\n",
       "      <th></th>\n",
       "      <th></th>\n",
       "      <th></th>\n",
       "      <th></th>\n",
       "      <th></th>\n",
       "      <th></th>\n",
       "      <th></th>\n",
       "      <th></th>\n",
       "      <th></th>\n",
       "    </tr>\n",
       "  </thead>\n",
       "  <tbody>\n",
       "    <tr>\n",
       "      <th>1</th>\n",
       "      <td>constant</td>\n",
       "      <td>5000</td>\n",
       "      <td>squared_loss</td>\n",
       "      <td>0.01</td>\n",
       "      <td>None</td>\n",
       "      <td>1</td>\n",
       "      <td>1</td>\n",
       "      <td>0.000448</td>\n",
       "      <td>0.001559</td>\n",
       "      <td>0.000500</td>\n",
       "      <td>-0.013497</td>\n",
       "      <td>-0.091654</td>\n",
       "      <td>0.986134</td>\n",
       "      <td>10.943297</td>\n",
       "    </tr>\n",
       "    <tr>\n",
       "      <th>2</th>\n",
       "      <td>invscaling</td>\n",
       "      <td>5000</td>\n",
       "      <td>squared_loss</td>\n",
       "      <td>0.1</td>\n",
       "      <td>None</td>\n",
       "      <td>2</td>\n",
       "      <td>2</td>\n",
       "      <td>0.000512</td>\n",
       "      <td>0.001595</td>\n",
       "      <td>0.000577</td>\n",
       "      <td>-0.013540</td>\n",
       "      <td>-0.091769</td>\n",
       "      <td>0.986089</td>\n",
       "      <td>23.961097</td>\n",
       "    </tr>\n",
       "    <tr>\n",
       "      <th>3</th>\n",
       "      <td>invscaling</td>\n",
       "      <td>5000</td>\n",
       "      <td>squared_loss</td>\n",
       "      <td>0.05</td>\n",
       "      <td>None</td>\n",
       "      <td>3</td>\n",
       "      <td>3</td>\n",
       "      <td>0.000504</td>\n",
       "      <td>0.001452</td>\n",
       "      <td>0.000572</td>\n",
       "      <td>-0.013928</td>\n",
       "      <td>-0.092772</td>\n",
       "      <td>0.985690</td>\n",
       "      <td>21.347103</td>\n",
       "    </tr>\n",
       "    <tr>\n",
       "      <th>4</th>\n",
       "      <td>constant</td>\n",
       "      <td>5000</td>\n",
       "      <td>squared_loss</td>\n",
       "      <td>0.05</td>\n",
       "      <td>None</td>\n",
       "      <td>4</td>\n",
       "      <td>8</td>\n",
       "      <td>0.000703</td>\n",
       "      <td>0.002083</td>\n",
       "      <td>0.000771</td>\n",
       "      <td>-0.014965</td>\n",
       "      <td>-0.096874</td>\n",
       "      <td>0.984625</td>\n",
       "      <td>12.581060</td>\n",
       "    </tr>\n",
       "    <tr>\n",
       "      <th>5</th>\n",
       "      <td>invscaling</td>\n",
       "      <td>5000</td>\n",
       "      <td>squared_loss</td>\n",
       "      <td>0.01</td>\n",
       "      <td>None</td>\n",
       "      <td>5</td>\n",
       "      <td>5</td>\n",
       "      <td>0.000519</td>\n",
       "      <td>0.001465</td>\n",
       "      <td>0.000594</td>\n",
       "      <td>-0.015004</td>\n",
       "      <td>-0.096484</td>\n",
       "      <td>0.984585</td>\n",
       "      <td>20.943546</td>\n",
       "    </tr>\n",
       "    <tr>\n",
       "      <th>6</th>\n",
       "      <td>invscaling</td>\n",
       "      <td>5000</td>\n",
       "      <td>squared_loss</td>\n",
       "      <td>0.1</td>\n",
       "      <td>l1</td>\n",
       "      <td>6</td>\n",
       "      <td>6</td>\n",
       "      <td>0.000538</td>\n",
       "      <td>0.001570</td>\n",
       "      <td>0.000615</td>\n",
       "      <td>-0.015027</td>\n",
       "      <td>-0.096597</td>\n",
       "      <td>0.984561</td>\n",
       "      <td>31.900651</td>\n",
       "    </tr>\n",
       "    <tr>\n",
       "      <th>7</th>\n",
       "      <td>invscaling</td>\n",
       "      <td>5000</td>\n",
       "      <td>squared_loss</td>\n",
       "      <td>0.05</td>\n",
       "      <td>l1</td>\n",
       "      <td>7</td>\n",
       "      <td>4</td>\n",
       "      <td>0.000531</td>\n",
       "      <td>0.001396</td>\n",
       "      <td>0.000603</td>\n",
       "      <td>-0.015033</td>\n",
       "      <td>-0.096383</td>\n",
       "      <td>0.984555</td>\n",
       "      <td>28.259650</td>\n",
       "    </tr>\n",
       "    <tr>\n",
       "      <th>8</th>\n",
       "      <td>invscaling</td>\n",
       "      <td>5000</td>\n",
       "      <td>squared_loss</td>\n",
       "      <td>0.05</td>\n",
       "      <td>l2</td>\n",
       "      <td>8</td>\n",
       "      <td>7</td>\n",
       "      <td>0.000515</td>\n",
       "      <td>0.001427</td>\n",
       "      <td>0.000589</td>\n",
       "      <td>-0.015085</td>\n",
       "      <td>-0.096858</td>\n",
       "      <td>0.984501</td>\n",
       "      <td>22.078471</td>\n",
       "    </tr>\n",
       "    <tr>\n",
       "      <th>9</th>\n",
       "      <td>invscaling</td>\n",
       "      <td>5000</td>\n",
       "      <td>squared_loss</td>\n",
       "      <td>0.1</td>\n",
       "      <td>l2</td>\n",
       "      <td>9</td>\n",
       "      <td>9</td>\n",
       "      <td>0.000541</td>\n",
       "      <td>0.001595</td>\n",
       "      <td>0.000621</td>\n",
       "      <td>-0.015115</td>\n",
       "      <td>-0.096960</td>\n",
       "      <td>0.984470</td>\n",
       "      <td>23.298074</td>\n",
       "    </tr>\n",
       "    <tr>\n",
       "      <th>10</th>\n",
       "      <td>invscaling</td>\n",
       "      <td>5000</td>\n",
       "      <td>squared_loss</td>\n",
       "      <td>0.01</td>\n",
       "      <td>l1</td>\n",
       "      <td>10</td>\n",
       "      <td>10</td>\n",
       "      <td>0.000512</td>\n",
       "      <td>0.001475</td>\n",
       "      <td>0.000591</td>\n",
       "      <td>-0.015202</td>\n",
       "      <td>-0.097156</td>\n",
       "      <td>0.984381</td>\n",
       "      <td>26.597084</td>\n",
       "    </tr>\n",
       "  </tbody>\n",
       "</table>\n",
       "</div>"
      ],
      "text/plain": [
       "             param_learning_rate param_max_iter    param_loss param_eta0  \\\n",
       "rank_test_R2                                                               \n",
       "1                       constant           5000  squared_loss       0.01   \n",
       "2                     invscaling           5000  squared_loss        0.1   \n",
       "3                     invscaling           5000  squared_loss       0.05   \n",
       "4                       constant           5000  squared_loss       0.05   \n",
       "5                     invscaling           5000  squared_loss       0.01   \n",
       "6                     invscaling           5000  squared_loss        0.1   \n",
       "7                     invscaling           5000  squared_loss       0.05   \n",
       "8                     invscaling           5000  squared_loss       0.05   \n",
       "9                     invscaling           5000  squared_loss        0.1   \n",
       "10                    invscaling           5000  squared_loss       0.01   \n",
       "\n",
       "             param_penalty  rank_test_-MSE  rank_test_-MAE  std_test_-MSE  \\\n",
       "rank_test_R2                                                                \n",
       "1                     None               1               1       0.000448   \n",
       "2                     None               2               2       0.000512   \n",
       "3                     None               3               3       0.000504   \n",
       "4                     None               4               8       0.000703   \n",
       "5                     None               5               5       0.000519   \n",
       "6                       l1               6               6       0.000538   \n",
       "7                       l1               7               4       0.000531   \n",
       "8                       l2               8               7       0.000515   \n",
       "9                       l2               9               9       0.000541   \n",
       "10                      l1              10              10       0.000512   \n",
       "\n",
       "              std_test_-MAE  std_test_R2  mean_test_-MSE  mean_test_-MAE  \\\n",
       "rank_test_R2                                                               \n",
       "1                  0.001559     0.000500       -0.013497       -0.091654   \n",
       "2                  0.001595     0.000577       -0.013540       -0.091769   \n",
       "3                  0.001452     0.000572       -0.013928       -0.092772   \n",
       "4                  0.002083     0.000771       -0.014965       -0.096874   \n",
       "5                  0.001465     0.000594       -0.015004       -0.096484   \n",
       "6                  0.001570     0.000615       -0.015027       -0.096597   \n",
       "7                  0.001396     0.000603       -0.015033       -0.096383   \n",
       "8                  0.001427     0.000589       -0.015085       -0.096858   \n",
       "9                  0.001595     0.000621       -0.015115       -0.096960   \n",
       "10                 0.001475     0.000591       -0.015202       -0.097156   \n",
       "\n",
       "              mean_test_R2  mean_fit_time  \n",
       "rank_test_R2                               \n",
       "1                 0.986134      10.943297  \n",
       "2                 0.986089      23.961097  \n",
       "3                 0.985690      21.347103  \n",
       "4                 0.984625      12.581060  \n",
       "5                 0.984585      20.943546  \n",
       "6                 0.984561      31.900651  \n",
       "7                 0.984555      28.259650  \n",
       "8                 0.984501      22.078471  \n",
       "9                 0.984470      23.298074  \n",
       "10                0.984381      26.597084  "
      ]
     },
     "execution_count": 13,
     "metadata": {},
     "output_type": "execute_result"
    }
   ],
   "source": [
    "import pandas as pd\n",
    "import warnings\n",
    "warnings.filterwarnings(\"ignore\", category=DeprecationWarning) \n",
    "warnings.filterwarnings(\"ignore\", category=FutureWarning) \n",
    "\n",
    "columns = [\n",
    "'param_learning_rate',\n",
    "'param_max_iter',\n",
    "'param_loss',\n",
    "'param_eta0',\n",
    "'param_penalty',\n",
    "'rank_test_-MSE',\n",
    "'rank_test_-MAE',\n",
    "'rank_test_R2',\n",
    "'std_test_-MSE',\n",
    "'std_test_-MAE',\n",
    "'std_test_R2',\n",
    "'mean_test_-MSE',\n",
    "'mean_test_-MAE',\n",
    "'mean_test_R2', \n",
    "'mean_fit_time']\n",
    "\n",
    "results = pd.DataFrame(regr.cv_results_)\n",
    "top10 = results[columns].sort_values(by=['rank_test_R2', 'mean_test_R2']).head(10).copy()\n",
    "top10.sort_values(by=['rank_test_R2', 'mean_test_R2'])\n",
    "top10.set_index('rank_test_R2', inplace=True, drop=True)\n",
    "top10"
   ]
  },
  {
   "cell_type": "code",
   "execution_count": 14,
   "metadata": {},
   "outputs": [
    {
     "data": {
      "text/plain": [
       "<matplotlib.axes._subplots.AxesSubplot at 0x7f8fb1fa19b0>"
      ]
     },
     "execution_count": 14,
     "metadata": {},
     "output_type": "execute_result"
    },
    {
     "data": {
      "image/png": "[encoded data removed]",
      "text/plain": [
       "<Figure size 432x288 with 1 Axes>"
      ]
     },
     "metadata": {
      "needs_background": "light"
     },
     "output_type": "display_data"
    }
   ],
   "source": [
    "top10.mean_fit_time.plot.bar()"
   ]
  },
  {
   "cell_type": "code",
   "execution_count": 15,
   "metadata": {
    "scrolled": false
   },
   "outputs": [
    {
     "data": {
      "text/plain": [
       "<matplotlib.axes._subplots.AxesSubplot at 0x7f8faf27b8d0>"
      ]
     },
     "execution_count": 15,
     "metadata": {},
     "output_type": "execute_result"
    },
    {
     "data": {
      "image/png": "[encoded data removed]",
      "text/plain": [
       "<Figure size 720x360 with 1 Axes>"
      ]
     },
     "metadata": {
      "needs_background": "light"
     },
     "output_type": "display_data"
    }
   ],
   "source": [
    "import matplotlib.pyplot as plt\n",
    "plt.figure(figsize=(10,5))\n",
    "top10.mean_test_R2.plot.bar(yerr=top10.std_test_R2)"
   ]
  },
  {
   "cell_type": "code",
   "execution_count": 16,
   "metadata": {},
   "outputs": [
    {
     "data": {
      "text/plain": [
       "<matplotlib.axes._subplots.AxesSubplot at 0x7f8fb1821898>"
      ]
     },
     "execution_count": 16,
     "metadata": {},
     "output_type": "execute_result"
    },
    {
     "data": {
      "image/png": "[encoded data removed]",
      "text/plain": [
       "<Figure size 720x360 with 1 Axes>"
      ]
     },
     "metadata": {
      "needs_background": "light"
     },
     "output_type": "display_data"
    }
   ],
   "source": [
    "plt.figure(figsize=(10,5))\n",
    "top10.std_test_R2.plot.bar()"
   ]
  },
  {
   "cell_type": "code",
   "execution_count": 17,
   "metadata": {
    "scrolled": false
   },
   "outputs": [
    {
     "data": {
      "text/html": [
       "<div>\n",
       "<style scoped>\n",
       "    .dataframe tbody tr th:only-of-type {\n",
       "        vertical-align: middle;\n",
       "    }\n",
       "\n",
       "    .dataframe tbody tr th {\n",
       "        vertical-align: top;\n",
       "    }\n",
       "\n",
       "    .dataframe thead th {\n",
       "        text-align: right;\n",
       "    }\n",
       "</style>\n",
       "<table border=\"1\" class=\"dataframe\">\n",
       "  <thead>\n",
       "    <tr style=\"text-align: right;\">\n",
       "      <th></th>\n",
       "      <th>param_learning_rate</th>\n",
       "      <th>param_max_iter</th>\n",
       "      <th>param_loss</th>\n",
       "      <th>param_eta0</th>\n",
       "      <th>param_penalty</th>\n",
       "      <th>rank_test_-MSE</th>\n",
       "      <th>rank_test_-MAE</th>\n",
       "      <th>std_test_-MSE</th>\n",
       "      <th>std_test_-MAE</th>\n",
       "      <th>std_test_R2</th>\n",
       "      <th>mean_test_-MSE</th>\n",
       "      <th>mean_test_-MAE</th>\n",
       "      <th>mean_test_R2</th>\n",
       "      <th>mean_fit_time</th>\n",
       "    </tr>\n",
       "    <tr>\n",
       "      <th>rank_test_R2</th>\n",
       "      <th></th>\n",
       "      <th></th>\n",
       "      <th></th>\n",
       "      <th></th>\n",
       "      <th></th>\n",
       "      <th></th>\n",
       "      <th></th>\n",
       "      <th></th>\n",
       "      <th></th>\n",
       "      <th></th>\n",
       "      <th></th>\n",
       "      <th></th>\n",
       "      <th></th>\n",
       "      <th></th>\n",
       "    </tr>\n",
       "  </thead>\n",
       "  <tbody>\n",
       "    <tr>\n",
       "      <th>1</th>\n",
       "      <td>constant</td>\n",
       "      <td>5000</td>\n",
       "      <td>squared_loss</td>\n",
       "      <td>0.01</td>\n",
       "      <td>None</td>\n",
       "      <td>1</td>\n",
       "      <td>1</td>\n",
       "      <td>0.000448</td>\n",
       "      <td>0.001559</td>\n",
       "      <td>0.000500</td>\n",
       "      <td>-0.013497</td>\n",
       "      <td>-0.091654</td>\n",
       "      <td>0.986134</td>\n",
       "      <td>10.943297</td>\n",
       "    </tr>\n",
       "    <tr>\n",
       "      <th>2</th>\n",
       "      <td>invscaling</td>\n",
       "      <td>5000</td>\n",
       "      <td>squared_loss</td>\n",
       "      <td>0.1</td>\n",
       "      <td>None</td>\n",
       "      <td>2</td>\n",
       "      <td>2</td>\n",
       "      <td>0.000512</td>\n",
       "      <td>0.001595</td>\n",
       "      <td>0.000577</td>\n",
       "      <td>-0.013540</td>\n",
       "      <td>-0.091769</td>\n",
       "      <td>0.986089</td>\n",
       "      <td>23.961097</td>\n",
       "    </tr>\n",
       "    <tr>\n",
       "      <th>3</th>\n",
       "      <td>invscaling</td>\n",
       "      <td>5000</td>\n",
       "      <td>squared_loss</td>\n",
       "      <td>0.05</td>\n",
       "      <td>None</td>\n",
       "      <td>3</td>\n",
       "      <td>3</td>\n",
       "      <td>0.000504</td>\n",
       "      <td>0.001452</td>\n",
       "      <td>0.000572</td>\n",
       "      <td>-0.013928</td>\n",
       "      <td>-0.092772</td>\n",
       "      <td>0.985690</td>\n",
       "      <td>21.347103</td>\n",
       "    </tr>\n",
       "    <tr>\n",
       "      <th>4</th>\n",
       "      <td>constant</td>\n",
       "      <td>5000</td>\n",
       "      <td>squared_loss</td>\n",
       "      <td>0.05</td>\n",
       "      <td>None</td>\n",
       "      <td>4</td>\n",
       "      <td>8</td>\n",
       "      <td>0.000703</td>\n",
       "      <td>0.002083</td>\n",
       "      <td>0.000771</td>\n",
       "      <td>-0.014965</td>\n",
       "      <td>-0.096874</td>\n",
       "      <td>0.984625</td>\n",
       "      <td>12.581060</td>\n",
       "    </tr>\n",
       "    <tr>\n",
       "      <th>5</th>\n",
       "      <td>invscaling</td>\n",
       "      <td>5000</td>\n",
       "      <td>squared_loss</td>\n",
       "      <td>0.01</td>\n",
       "      <td>None</td>\n",
       "      <td>5</td>\n",
       "      <td>5</td>\n",
       "      <td>0.000519</td>\n",
       "      <td>0.001465</td>\n",
       "      <td>0.000594</td>\n",
       "      <td>-0.015004</td>\n",
       "      <td>-0.096484</td>\n",
       "      <td>0.984585</td>\n",
       "      <td>20.943546</td>\n",
       "    </tr>\n",
       "    <tr>\n",
       "      <th>6</th>\n",
       "      <td>invscaling</td>\n",
       "      <td>5000</td>\n",
       "      <td>squared_loss</td>\n",
       "      <td>0.1</td>\n",
       "      <td>l1</td>\n",
       "      <td>6</td>\n",
       "      <td>6</td>\n",
       "      <td>0.000538</td>\n",
       "      <td>0.001570</td>\n",
       "      <td>0.000615</td>\n",
       "      <td>-0.015027</td>\n",
       "      <td>-0.096597</td>\n",
       "      <td>0.984561</td>\n",
       "      <td>31.900651</td>\n",
       "    </tr>\n",
       "    <tr>\n",
       "      <th>7</th>\n",
       "      <td>invscaling</td>\n",
       "      <td>5000</td>\n",
       "      <td>squared_loss</td>\n",
       "      <td>0.05</td>\n",
       "      <td>l1</td>\n",
       "      <td>7</td>\n",
       "      <td>4</td>\n",
       "      <td>0.000531</td>\n",
       "      <td>0.001396</td>\n",
       "      <td>0.000603</td>\n",
       "      <td>-0.015033</td>\n",
       "      <td>-0.096383</td>\n",
       "      <td>0.984555</td>\n",
       "      <td>28.259650</td>\n",
       "    </tr>\n",
       "    <tr>\n",
       "      <th>8</th>\n",
       "      <td>invscaling</td>\n",
       "      <td>5000</td>\n",
       "      <td>squared_loss</td>\n",
       "      <td>0.05</td>\n",
       "      <td>l2</td>\n",
       "      <td>8</td>\n",
       "      <td>7</td>\n",
       "      <td>0.000515</td>\n",
       "      <td>0.001427</td>\n",
       "      <td>0.000589</td>\n",
       "      <td>-0.015085</td>\n",
       "      <td>-0.096858</td>\n",
       "      <td>0.984501</td>\n",
       "      <td>22.078471</td>\n",
       "    </tr>\n",
       "    <tr>\n",
       "      <th>9</th>\n",
       "      <td>invscaling</td>\n",
       "      <td>5000</td>\n",
       "      <td>squared_loss</td>\n",
       "      <td>0.1</td>\n",
       "      <td>l2</td>\n",
       "      <td>9</td>\n",
       "      <td>9</td>\n",
       "      <td>0.000541</td>\n",
       "      <td>0.001595</td>\n",
       "      <td>0.000621</td>\n",
       "      <td>-0.015115</td>\n",
       "      <td>-0.096960</td>\n",
       "      <td>0.984470</td>\n",
       "      <td>23.298074</td>\n",
       "    </tr>\n",
       "    <tr>\n",
       "      <th>10</th>\n",
       "      <td>invscaling</td>\n",
       "      <td>5000</td>\n",
       "      <td>squared_loss</td>\n",
       "      <td>0.01</td>\n",
       "      <td>l1</td>\n",
       "      <td>10</td>\n",
       "      <td>10</td>\n",
       "      <td>0.000512</td>\n",
       "      <td>0.001475</td>\n",
       "      <td>0.000591</td>\n",
       "      <td>-0.015202</td>\n",
       "      <td>-0.097156</td>\n",
       "      <td>0.984381</td>\n",
       "      <td>26.597084</td>\n",
       "    </tr>\n",
       "  </tbody>\n",
       "</table>\n",
       "</div>"
      ],
      "text/plain": [
       "             param_learning_rate param_max_iter    param_loss param_eta0  \\\n",
       "rank_test_R2                                                               \n",
       "1                       constant           5000  squared_loss       0.01   \n",
       "2                     invscaling           5000  squared_loss        0.1   \n",
       "3                     invscaling           5000  squared_loss       0.05   \n",
       "4                       constant           5000  squared_loss       0.05   \n",
       "5                     invscaling           5000  squared_loss       0.01   \n",
       "6                     invscaling           5000  squared_loss        0.1   \n",
       "7                     invscaling           5000  squared_loss       0.05   \n",
       "8                     invscaling           5000  squared_loss       0.05   \n",
       "9                     invscaling           5000  squared_loss        0.1   \n",
       "10                    invscaling           5000  squared_loss       0.01   \n",
       "\n",
       "             param_penalty  rank_test_-MSE  rank_test_-MAE  std_test_-MSE  \\\n",
       "rank_test_R2                                                                \n",
       "1                     None               1               1       0.000448   \n",
       "2                     None               2               2       0.000512   \n",
       "3                     None               3               3       0.000504   \n",
       "4                     None               4               8       0.000703   \n",
       "5                     None               5               5       0.000519   \n",
       "6                       l1               6               6       0.000538   \n",
       "7                       l1               7               4       0.000531   \n",
       "8                       l2               8               7       0.000515   \n",
       "9                       l2               9               9       0.000541   \n",
       "10                      l1              10              10       0.000512   \n",
       "\n",
       "              std_test_-MAE  std_test_R2  mean_test_-MSE  mean_test_-MAE  \\\n",
       "rank_test_R2                                                               \n",
       "1                  0.001559     0.000500       -0.013497       -0.091654   \n",
       "2                  0.001595     0.000577       -0.013540       -0.091769   \n",
       "3                  0.001452     0.000572       -0.013928       -0.092772   \n",
       "4                  0.002083     0.000771       -0.014965       -0.096874   \n",
       "5                  0.001465     0.000594       -0.015004       -0.096484   \n",
       "6                  0.001570     0.000615       -0.015027       -0.096597   \n",
       "7                  0.001396     0.000603       -0.015033       -0.096383   \n",
       "8                  0.001427     0.000589       -0.015085       -0.096858   \n",
       "9                  0.001595     0.000621       -0.015115       -0.096960   \n",
       "10                 0.001475     0.000591       -0.015202       -0.097156   \n",
       "\n",
       "              mean_test_R2  mean_fit_time  \n",
       "rank_test_R2                               \n",
       "1                 0.986134      10.943297  \n",
       "2                 0.986089      23.961097  \n",
       "3                 0.985690      21.347103  \n",
       "4                 0.984625      12.581060  \n",
       "5                 0.984585      20.943546  \n",
       "6                 0.984561      31.900651  \n",
       "7                 0.984555      28.259650  \n",
       "8                 0.984501      22.078471  \n",
       "9                 0.984470      23.298074  \n",
       "10                0.984381      26.597084  "
      ]
     },
     "execution_count": 17,
     "metadata": {},
     "output_type": "execute_result"
    }
   ],
   "source": [
    "top10"
   ]
  },
  {
   "cell_type": "markdown",
   "metadata": {},
   "source": [
    "## Refining the search\n",
    "   - Given the above rank we are selecting the 3 top configurations and re-running the grid with more iterations"
   ]
  },
  {
   "cell_type": "code",
   "execution_count": 18,
   "metadata": {
    "scrolled": false
   },
   "outputs": [
    {
     "name": "stdout",
     "output_type": "stream",
     "text": [
      "Fitting 5 folds for each of 6 candidates, totalling 30 fits\n"
     ]
    },
    {
     "name": "stderr",
     "output_type": "stream",
     "text": [
      "[Parallel(n_jobs=-1)]: Done  30 out of  30 | elapsed: 21.8min finished\n"
     ]
    },
    {
     "data": {
      "text/plain": [
       "GridSearchCV(cv=5, error_score='raise',\n",
       "       estimator=SGDRegressor(alpha=0.0001, average=False, epsilon=0.1, eta0=0.01,\n",
       "       fit_intercept=True, l1_ratio=0.15, learning_rate='invscaling',\n",
       "       loss='squared_loss', max_iter=None, n_iter=None, penalty=None,\n",
       "       power_t=0.25, random_state=None, shuffle=True, tol=None,\n",
       "       verbose=False, warm_start=False),\n",
       "       fit_params=None, iid=True, n_jobs=-1,\n",
       "       param_grid={'penalty': [None], 'loss': ['squared_loss'], 'max_iter': [100000], 'learning_rate': ['invscaling', 'constant'], 'eta0': [0.1, 0.05, 0.01]},\n",
       "       pre_dispatch='2*n_jobs', refit='R2', return_train_score='warn',\n",
       "       scoring={'-MAE': 'neg_mean_absolute_error', 'R2': 'r2', '-MSE': 'neg_mean_squared_error'},\n",
       "       verbose=True)"
      ]
     },
     "execution_count": 18,
     "metadata": {},
     "output_type": "execute_result"
    }
   ],
   "source": [
    "params = {}\n",
    "regr = experiments.get_sklearn_sgd(params)\n",
    "regr.verbose = False\n",
    "params = {\n",
    "    'learning_rate':['invscaling','constant'],\n",
    "    'eta0': [0.1, 0.05, 0.01], # since 0.01 had a good result in the previous results \n",
    "    'penalty': [None], # Those penalties are easier to implement if needed\n",
    "    'loss': ['squared_loss'], # Since we are running the MSE loss function for the Custom Implementing\n",
    "    'max_iter':[100000] # Fixed the number of iterations to avoid the long time executions\n",
    "}\n",
    "\n",
    "scoring = {\n",
    "        '-MSE': 'neg_mean_squared_error',\n",
    "        '-MAE': 'neg_mean_absolute_error',\n",
    "        'R2': 'r2'\n",
    "    }\n",
    "\n",
    "# We are using R2 to refit because it gave a better view of the results above when compared with the MSE and MAE\n",
    "regr = GridSearchCV(regr, params, cv=5, scoring=scoring, refit='R2', n_jobs=-1, verbose=True)\n",
    "regr.fit(X_train, np.log(y_train))"
   ]
  },
  {
   "cell_type": "code",
   "execution_count": null,
   "metadata": {},
   "outputs": [],
   "source": []
  },
  {
   "cell_type": "code",
   "execution_count": 19,
   "metadata": {
    "scrolled": true
   },
   "outputs": [
    {
     "data": {
      "text/html": [
       "<div>\n",
       "<style scoped>\n",
       "    .dataframe tbody tr th:only-of-type {\n",
       "        vertical-align: middle;\n",
       "    }\n",
       "\n",
       "    .dataframe tbody tr th {\n",
       "        vertical-align: top;\n",
       "    }\n",
       "\n",
       "    .dataframe thead th {\n",
       "        text-align: right;\n",
       "    }\n",
       "</style>\n",
       "<table border=\"1\" class=\"dataframe\">\n",
       "  <thead>\n",
       "    <tr style=\"text-align: right;\">\n",
       "      <th></th>\n",
       "      <th>param_learning_rate</th>\n",
       "      <th>param_max_iter</th>\n",
       "      <th>param_loss</th>\n",
       "      <th>param_eta0</th>\n",
       "      <th>param_penalty</th>\n",
       "      <th>rank_test_-MSE</th>\n",
       "      <th>rank_test_-MAE</th>\n",
       "      <th>std_test_-MSE</th>\n",
       "      <th>std_test_-MAE</th>\n",
       "      <th>std_test_R2</th>\n",
       "      <th>mean_test_-MSE</th>\n",
       "      <th>mean_test_-MAE</th>\n",
       "      <th>mean_test_R2</th>\n",
       "      <th>mean_fit_time</th>\n",
       "    </tr>\n",
       "    <tr>\n",
       "      <th>rank_test_R2</th>\n",
       "      <th></th>\n",
       "      <th></th>\n",
       "      <th></th>\n",
       "      <th></th>\n",
       "      <th></th>\n",
       "      <th></th>\n",
       "      <th></th>\n",
       "      <th></th>\n",
       "      <th></th>\n",
       "      <th></th>\n",
       "      <th></th>\n",
       "      <th></th>\n",
       "      <th></th>\n",
       "      <th></th>\n",
       "    </tr>\n",
       "  </thead>\n",
       "  <tbody>\n",
       "    <tr>\n",
       "      <th>1</th>\n",
       "      <td>invscaling</td>\n",
       "      <td>100000</td>\n",
       "      <td>squared_loss</td>\n",
       "      <td>0.05</td>\n",
       "      <td>None</td>\n",
       "      <td>1</td>\n",
       "      <td>1</td>\n",
       "      <td>0.000483</td>\n",
       "      <td>0.001480</td>\n",
       "      <td>0.000550</td>\n",
       "      <td>-0.013347</td>\n",
       "      <td>-0.091036</td>\n",
       "      <td>0.986287</td>\n",
       "      <td>419.791378</td>\n",
       "    </tr>\n",
       "    <tr>\n",
       "      <th>2</th>\n",
       "      <td>invscaling</td>\n",
       "      <td>100000</td>\n",
       "      <td>squared_loss</td>\n",
       "      <td>0.1</td>\n",
       "      <td>None</td>\n",
       "      <td>2</td>\n",
       "      <td>2</td>\n",
       "      <td>0.000491</td>\n",
       "      <td>0.001504</td>\n",
       "      <td>0.000558</td>\n",
       "      <td>-0.013357</td>\n",
       "      <td>-0.091042</td>\n",
       "      <td>0.986276</td>\n",
       "      <td>426.281453</td>\n",
       "    </tr>\n",
       "    <tr>\n",
       "      <th>3</th>\n",
       "      <td>invscaling</td>\n",
       "      <td>100000</td>\n",
       "      <td>squared_loss</td>\n",
       "      <td>0.01</td>\n",
       "      <td>None</td>\n",
       "      <td>3</td>\n",
       "      <td>3</td>\n",
       "      <td>0.000495</td>\n",
       "      <td>0.001434</td>\n",
       "      <td>0.000563</td>\n",
       "      <td>-0.013536</td>\n",
       "      <td>-0.091617</td>\n",
       "      <td>0.986093</td>\n",
       "      <td>397.558125</td>\n",
       "    </tr>\n",
       "    <tr>\n",
       "      <th>4</th>\n",
       "      <td>constant</td>\n",
       "      <td>100000</td>\n",
       "      <td>squared_loss</td>\n",
       "      <td>0.01</td>\n",
       "      <td>None</td>\n",
       "      <td>4</td>\n",
       "      <td>4</td>\n",
       "      <td>0.000407</td>\n",
       "      <td>0.001359</td>\n",
       "      <td>0.000468</td>\n",
       "      <td>-0.013584</td>\n",
       "      <td>-0.091974</td>\n",
       "      <td>0.986044</td>\n",
       "      <td>209.449511</td>\n",
       "    </tr>\n",
       "    <tr>\n",
       "      <th>5</th>\n",
       "      <td>constant</td>\n",
       "      <td>100000</td>\n",
       "      <td>squared_loss</td>\n",
       "      <td>0.05</td>\n",
       "      <td>None</td>\n",
       "      <td>5</td>\n",
       "      <td>5</td>\n",
       "      <td>0.001060</td>\n",
       "      <td>0.003164</td>\n",
       "      <td>0.001077</td>\n",
       "      <td>-0.014770</td>\n",
       "      <td>-0.095160</td>\n",
       "      <td>0.984828</td>\n",
       "      <td>257.370240</td>\n",
       "    </tr>\n",
       "    <tr>\n",
       "      <th>6</th>\n",
       "      <td>constant</td>\n",
       "      <td>100000</td>\n",
       "      <td>squared_loss</td>\n",
       "      <td>0.1</td>\n",
       "      <td>None</td>\n",
       "      <td>6</td>\n",
       "      <td>6</td>\n",
       "      <td>0.006079</td>\n",
       "      <td>0.015979</td>\n",
       "      <td>0.006186</td>\n",
       "      <td>-0.025165</td>\n",
       "      <td>-0.124897</td>\n",
       "      <td>0.974170</td>\n",
       "      <td>260.817710</td>\n",
       "    </tr>\n",
       "  </tbody>\n",
       "</table>\n",
       "</div>"
      ],
      "text/plain": [
       "             param_learning_rate param_max_iter    param_loss param_eta0  \\\n",
       "rank_test_R2                                                               \n",
       "1                     invscaling         100000  squared_loss       0.05   \n",
       "2                     invscaling         100000  squared_loss        0.1   \n",
       "3                     invscaling         100000  squared_loss       0.01   \n",
       "4                       constant         100000  squared_loss       0.01   \n",
       "5                       constant         100000  squared_loss       0.05   \n",
       "6                       constant         100000  squared_loss        0.1   \n",
       "\n",
       "             param_penalty  rank_test_-MSE  rank_test_-MAE  std_test_-MSE  \\\n",
       "rank_test_R2                                                                \n",
       "1                     None               1               1       0.000483   \n",
       "2                     None               2               2       0.000491   \n",
       "3                     None               3               3       0.000495   \n",
       "4                     None               4               4       0.000407   \n",
       "5                     None               5               5       0.001060   \n",
       "6                     None               6               6       0.006079   \n",
       "\n",
       "              std_test_-MAE  std_test_R2  mean_test_-MSE  mean_test_-MAE  \\\n",
       "rank_test_R2                                                               \n",
       "1                  0.001480     0.000550       -0.013347       -0.091036   \n",
       "2                  0.001504     0.000558       -0.013357       -0.091042   \n",
       "3                  0.001434     0.000563       -0.013536       -0.091617   \n",
       "4                  0.001359     0.000468       -0.013584       -0.091974   \n",
       "5                  0.003164     0.001077       -0.014770       -0.095160   \n",
       "6                  0.015979     0.006186       -0.025165       -0.124897   \n",
       "\n",
       "              mean_test_R2  mean_fit_time  \n",
       "rank_test_R2                               \n",
       "1                 0.986287     419.791378  \n",
       "2                 0.986276     426.281453  \n",
       "3                 0.986093     397.558125  \n",
       "4                 0.986044     209.449511  \n",
       "5                 0.984828     257.370240  \n",
       "6                 0.974170     260.817710  "
      ]
     },
     "execution_count": 19,
     "metadata": {},
     "output_type": "execute_result"
    }
   ],
   "source": [
    "import pandas as pd\n",
    "import warnings\n",
    "warnings.filterwarnings(\"ignore\", category=DeprecationWarning) \n",
    "warnings.filterwarnings(\"ignore\", category=FutureWarning) \n",
    "\n",
    "columns = [\n",
    "'param_learning_rate',\n",
    "'param_max_iter',\n",
    "'param_loss',\n",
    "'param_eta0',\n",
    "'param_penalty',\n",
    "'rank_test_-MSE',\n",
    "'rank_test_-MAE',\n",
    "'rank_test_R2',\n",
    "'std_test_-MSE',\n",
    "'std_test_-MAE',\n",
    "'std_test_R2',\n",
    "'mean_test_-MSE',\n",
    "'mean_test_-MAE',\n",
    "'mean_test_R2', \n",
    "'mean_fit_time']\n",
    "\n",
    "results = pd.DataFrame(regr.cv_results_)\n",
    "top10 = results[columns].sort_values(by=['rank_test_R2', 'mean_test_R2']).head(10).copy()\n",
    "top10.sort_values(by=['rank_test_R2', 'mean_test_R2'])\n",
    "top10.set_index('rank_test_R2', inplace=True, drop=True)\n",
    "top10"
   ]
  },
  {
   "cell_type": "code",
   "execution_count": 20,
   "metadata": {},
   "outputs": [
    {
     "data": {
      "text/plain": [
       "<matplotlib.axes._subplots.AxesSubplot at 0x7f8fb17f68d0>"
      ]
     },
     "execution_count": 20,
     "metadata": {},
     "output_type": "execute_result"
    },
    {
     "data": {
      "image/png": "[encoded data removed]",
      "text/plain": [
       "<Figure size 432x288 with 1 Axes>"
      ]
     },
     "metadata": {
      "needs_background": "light"
     },
     "output_type": "display_data"
    }
   ],
   "source": [
    "top10.mean_fit_time.plot.bar()"
   ]
  },
  {
   "cell_type": "code",
   "execution_count": 21,
   "metadata": {
    "scrolled": false
   },
   "outputs": [
    {
     "data": {
      "text/plain": [
       "<matplotlib.axes._subplots.AxesSubplot at 0x7f8fb17bc518>"
      ]
     },
     "execution_count": 21,
     "metadata": {},
     "output_type": "execute_result"
    },
    {
     "data": {
      "image/png": "[encoded data removed]",
      "text/plain": [
       "<Figure size 720x360 with 1 Axes>"
      ]
     },
     "metadata": {
      "needs_background": "light"
     },
     "output_type": "display_data"
    }
   ],
   "source": [
    "import matplotlib.pyplot as plt\n",
    "plt.figure(figsize=(10,5))\n",
    "top10.mean_test_R2.plot.bar(yerr=top10.std_test_R2)"
   ]
  },
  {
   "cell_type": "code",
   "execution_count": 22,
   "metadata": {},
   "outputs": [
    {
     "data": {
      "text/plain": [
       "<matplotlib.axes._subplots.AxesSubplot at 0x7f8fd77a0978>"
      ]
     },
     "execution_count": 22,
     "metadata": {},
     "output_type": "execute_result"
    },
    {
     "data": {
      "image/png": "[encoded data removed]",
      "text/plain": [
       "<Figure size 720x360 with 1 Axes>"
      ]
     },
     "metadata": {
      "needs_background": "light"
     },
     "output_type": "display_data"
    }
   ],
   "source": [
    "plt.figure(figsize=(10,5))\n",
    "top10.std_test_R2.plot.bar()"
   ]
  },
  {
   "cell_type": "code",
   "execution_count": 23,
   "metadata": {
    "scrolled": true
   },
   "outputs": [
    {
     "data": {
      "text/html": [
       "<div>\n",
       "<style scoped>\n",
       "    .dataframe tbody tr th:only-of-type {\n",
       "        vertical-align: middle;\n",
       "    }\n",
       "\n",
       "    .dataframe tbody tr th {\n",
       "        vertical-align: top;\n",
       "    }\n",
       "\n",
       "    .dataframe thead th {\n",
       "        text-align: right;\n",
       "    }\n",
       "</style>\n",
       "<table border=\"1\" class=\"dataframe\">\n",
       "  <thead>\n",
       "    <tr style=\"text-align: right;\">\n",
       "      <th></th>\n",
       "      <th>param_learning_rate</th>\n",
       "      <th>param_max_iter</th>\n",
       "      <th>param_loss</th>\n",
       "      <th>param_eta0</th>\n",
       "      <th>param_penalty</th>\n",
       "      <th>rank_test_-MSE</th>\n",
       "      <th>rank_test_-MAE</th>\n",
       "      <th>std_test_-MSE</th>\n",
       "      <th>std_test_-MAE</th>\n",
       "      <th>std_test_R2</th>\n",
       "      <th>mean_test_-MSE</th>\n",
       "      <th>mean_test_-MAE</th>\n",
       "      <th>mean_test_R2</th>\n",
       "      <th>mean_fit_time</th>\n",
       "    </tr>\n",
       "    <tr>\n",
       "      <th>rank_test_R2</th>\n",
       "      <th></th>\n",
       "      <th></th>\n",
       "      <th></th>\n",
       "      <th></th>\n",
       "      <th></th>\n",
       "      <th></th>\n",
       "      <th></th>\n",
       "      <th></th>\n",
       "      <th></th>\n",
       "      <th></th>\n",
       "      <th></th>\n",
       "      <th></th>\n",
       "      <th></th>\n",
       "      <th></th>\n",
       "    </tr>\n",
       "  </thead>\n",
       "  <tbody>\n",
       "    <tr>\n",
       "      <th>1</th>\n",
       "      <td>invscaling</td>\n",
       "      <td>100000</td>\n",
       "      <td>squared_loss</td>\n",
       "      <td>0.05</td>\n",
       "      <td>None</td>\n",
       "      <td>1</td>\n",
       "      <td>1</td>\n",
       "      <td>0.000483</td>\n",
       "      <td>0.001480</td>\n",
       "      <td>0.000550</td>\n",
       "      <td>-0.013347</td>\n",
       "      <td>-0.091036</td>\n",
       "      <td>0.986287</td>\n",
       "      <td>419.791378</td>\n",
       "    </tr>\n",
       "    <tr>\n",
       "      <th>2</th>\n",
       "      <td>invscaling</td>\n",
       "      <td>100000</td>\n",
       "      <td>squared_loss</td>\n",
       "      <td>0.1</td>\n",
       "      <td>None</td>\n",
       "      <td>2</td>\n",
       "      <td>2</td>\n",
       "      <td>0.000491</td>\n",
       "      <td>0.001504</td>\n",
       "      <td>0.000558</td>\n",
       "      <td>-0.013357</td>\n",
       "      <td>-0.091042</td>\n",
       "      <td>0.986276</td>\n",
       "      <td>426.281453</td>\n",
       "    </tr>\n",
       "    <tr>\n",
       "      <th>3</th>\n",
       "      <td>invscaling</td>\n",
       "      <td>100000</td>\n",
       "      <td>squared_loss</td>\n",
       "      <td>0.01</td>\n",
       "      <td>None</td>\n",
       "      <td>3</td>\n",
       "      <td>3</td>\n",
       "      <td>0.000495</td>\n",
       "      <td>0.001434</td>\n",
       "      <td>0.000563</td>\n",
       "      <td>-0.013536</td>\n",
       "      <td>-0.091617</td>\n",
       "      <td>0.986093</td>\n",
       "      <td>397.558125</td>\n",
       "    </tr>\n",
       "    <tr>\n",
       "      <th>4</th>\n",
       "      <td>constant</td>\n",
       "      <td>100000</td>\n",
       "      <td>squared_loss</td>\n",
       "      <td>0.01</td>\n",
       "      <td>None</td>\n",
       "      <td>4</td>\n",
       "      <td>4</td>\n",
       "      <td>0.000407</td>\n",
       "      <td>0.001359</td>\n",
       "      <td>0.000468</td>\n",
       "      <td>-0.013584</td>\n",
       "      <td>-0.091974</td>\n",
       "      <td>0.986044</td>\n",
       "      <td>209.449511</td>\n",
       "    </tr>\n",
       "    <tr>\n",
       "      <th>5</th>\n",
       "      <td>constant</td>\n",
       "      <td>100000</td>\n",
       "      <td>squared_loss</td>\n",
       "      <td>0.05</td>\n",
       "      <td>None</td>\n",
       "      <td>5</td>\n",
       "      <td>5</td>\n",
       "      <td>0.001060</td>\n",
       "      <td>0.003164</td>\n",
       "      <td>0.001077</td>\n",
       "      <td>-0.014770</td>\n",
       "      <td>-0.095160</td>\n",
       "      <td>0.984828</td>\n",
       "      <td>257.370240</td>\n",
       "    </tr>\n",
       "    <tr>\n",
       "      <th>6</th>\n",
       "      <td>constant</td>\n",
       "      <td>100000</td>\n",
       "      <td>squared_loss</td>\n",
       "      <td>0.1</td>\n",
       "      <td>None</td>\n",
       "      <td>6</td>\n",
       "      <td>6</td>\n",
       "      <td>0.006079</td>\n",
       "      <td>0.015979</td>\n",
       "      <td>0.006186</td>\n",
       "      <td>-0.025165</td>\n",
       "      <td>-0.124897</td>\n",
       "      <td>0.974170</td>\n",
       "      <td>260.817710</td>\n",
       "    </tr>\n",
       "  </tbody>\n",
       "</table>\n",
       "</div>"
      ],
      "text/plain": [
       "             param_learning_rate param_max_iter    param_loss param_eta0  \\\n",
       "rank_test_R2                                                               \n",
       "1                     invscaling         100000  squared_loss       0.05   \n",
       "2                     invscaling         100000  squared_loss        0.1   \n",
       "3                     invscaling         100000  squared_loss       0.01   \n",
       "4                       constant         100000  squared_loss       0.01   \n",
       "5                       constant         100000  squared_loss       0.05   \n",
       "6                       constant         100000  squared_loss        0.1   \n",
       "\n",
       "             param_penalty  rank_test_-MSE  rank_test_-MAE  std_test_-MSE  \\\n",
       "rank_test_R2                                                                \n",
       "1                     None               1               1       0.000483   \n",
       "2                     None               2               2       0.000491   \n",
       "3                     None               3               3       0.000495   \n",
       "4                     None               4               4       0.000407   \n",
       "5                     None               5               5       0.001060   \n",
       "6                     None               6               6       0.006079   \n",
       "\n",
       "              std_test_-MAE  std_test_R2  mean_test_-MSE  mean_test_-MAE  \\\n",
       "rank_test_R2                                                               \n",
       "1                  0.001480     0.000550       -0.013347       -0.091036   \n",
       "2                  0.001504     0.000558       -0.013357       -0.091042   \n",
       "3                  0.001434     0.000563       -0.013536       -0.091617   \n",
       "4                  0.001359     0.000468       -0.013584       -0.091974   \n",
       "5                  0.003164     0.001077       -0.014770       -0.095160   \n",
       "6                  0.015979     0.006186       -0.025165       -0.124897   \n",
       "\n",
       "              mean_test_R2  mean_fit_time  \n",
       "rank_test_R2                               \n",
       "1                 0.986287     419.791378  \n",
       "2                 0.986276     426.281453  \n",
       "3                 0.986093     397.558125  \n",
       "4                 0.986044     209.449511  \n",
       "5                 0.984828     257.370240  \n",
       "6                 0.974170     260.817710  "
      ]
     },
     "execution_count": 23,
     "metadata": {},
     "output_type": "execute_result"
    }
   ],
   "source": [
    "top10.sort_values(['rank_test_R2'])"
   ]
  },
  {
   "cell_type": "code",
   "execution_count": 24,
   "metadata": {},
   "outputs": [
    {
     "data": {
      "text/html": [
       "<div>\n",
       "<style scoped>\n",
       "    .dataframe tbody tr th:only-of-type {\n",
       "        vertical-align: middle;\n",
       "    }\n",
       "\n",
       "    .dataframe tbody tr th {\n",
       "        vertical-align: top;\n",
       "    }\n",
       "\n",
       "    .dataframe thead th {\n",
       "        text-align: right;\n",
       "    }\n",
       "</style>\n",
       "<table border=\"1\" class=\"dataframe\">\n",
       "  <thead>\n",
       "    <tr style=\"text-align: right;\">\n",
       "      <th></th>\n",
       "      <th>param_learning_rate</th>\n",
       "      <th>param_max_iter</th>\n",
       "      <th>param_loss</th>\n",
       "      <th>param_eta0</th>\n",
       "      <th>param_penalty</th>\n",
       "      <th>rank_test_-MSE</th>\n",
       "      <th>rank_test_-MAE</th>\n",
       "      <th>std_test_-MSE</th>\n",
       "      <th>std_test_-MAE</th>\n",
       "      <th>std_test_R2</th>\n",
       "      <th>mean_test_-MSE</th>\n",
       "      <th>mean_test_-MAE</th>\n",
       "      <th>mean_test_R2</th>\n",
       "      <th>mean_fit_time</th>\n",
       "    </tr>\n",
       "    <tr>\n",
       "      <th>rank_test_R2</th>\n",
       "      <th></th>\n",
       "      <th></th>\n",
       "      <th></th>\n",
       "      <th></th>\n",
       "      <th></th>\n",
       "      <th></th>\n",
       "      <th></th>\n",
       "      <th></th>\n",
       "      <th></th>\n",
       "      <th></th>\n",
       "      <th></th>\n",
       "      <th></th>\n",
       "      <th></th>\n",
       "      <th></th>\n",
       "    </tr>\n",
       "  </thead>\n",
       "  <tbody>\n",
       "    <tr>\n",
       "      <th>1</th>\n",
       "      <td>invscaling</td>\n",
       "      <td>100000</td>\n",
       "      <td>squared_loss</td>\n",
       "      <td>0.05</td>\n",
       "      <td>None</td>\n",
       "      <td>1</td>\n",
       "      <td>1</td>\n",
       "      <td>0.000483</td>\n",
       "      <td>0.001480</td>\n",
       "      <td>0.000550</td>\n",
       "      <td>-0.013347</td>\n",
       "      <td>-0.091036</td>\n",
       "      <td>0.986287</td>\n",
       "      <td>419.791378</td>\n",
       "    </tr>\n",
       "    <tr>\n",
       "      <th>2</th>\n",
       "      <td>invscaling</td>\n",
       "      <td>100000</td>\n",
       "      <td>squared_loss</td>\n",
       "      <td>0.1</td>\n",
       "      <td>None</td>\n",
       "      <td>2</td>\n",
       "      <td>2</td>\n",
       "      <td>0.000491</td>\n",
       "      <td>0.001504</td>\n",
       "      <td>0.000558</td>\n",
       "      <td>-0.013357</td>\n",
       "      <td>-0.091042</td>\n",
       "      <td>0.986276</td>\n",
       "      <td>426.281453</td>\n",
       "    </tr>\n",
       "    <tr>\n",
       "      <th>3</th>\n",
       "      <td>invscaling</td>\n",
       "      <td>100000</td>\n",
       "      <td>squared_loss</td>\n",
       "      <td>0.01</td>\n",
       "      <td>None</td>\n",
       "      <td>3</td>\n",
       "      <td>3</td>\n",
       "      <td>0.000495</td>\n",
       "      <td>0.001434</td>\n",
       "      <td>0.000563</td>\n",
       "      <td>-0.013536</td>\n",
       "      <td>-0.091617</td>\n",
       "      <td>0.986093</td>\n",
       "      <td>397.558125</td>\n",
       "    </tr>\n",
       "    <tr>\n",
       "      <th>4</th>\n",
       "      <td>constant</td>\n",
       "      <td>100000</td>\n",
       "      <td>squared_loss</td>\n",
       "      <td>0.01</td>\n",
       "      <td>None</td>\n",
       "      <td>4</td>\n",
       "      <td>4</td>\n",
       "      <td>0.000407</td>\n",
       "      <td>0.001359</td>\n",
       "      <td>0.000468</td>\n",
       "      <td>-0.013584</td>\n",
       "      <td>-0.091974</td>\n",
       "      <td>0.986044</td>\n",
       "      <td>209.449511</td>\n",
       "    </tr>\n",
       "    <tr>\n",
       "      <th>5</th>\n",
       "      <td>constant</td>\n",
       "      <td>100000</td>\n",
       "      <td>squared_loss</td>\n",
       "      <td>0.05</td>\n",
       "      <td>None</td>\n",
       "      <td>5</td>\n",
       "      <td>5</td>\n",
       "      <td>0.001060</td>\n",
       "      <td>0.003164</td>\n",
       "      <td>0.001077</td>\n",
       "      <td>-0.014770</td>\n",
       "      <td>-0.095160</td>\n",
       "      <td>0.984828</td>\n",
       "      <td>257.370240</td>\n",
       "    </tr>\n",
       "    <tr>\n",
       "      <th>6</th>\n",
       "      <td>constant</td>\n",
       "      <td>100000</td>\n",
       "      <td>squared_loss</td>\n",
       "      <td>0.1</td>\n",
       "      <td>None</td>\n",
       "      <td>6</td>\n",
       "      <td>6</td>\n",
       "      <td>0.006079</td>\n",
       "      <td>0.015979</td>\n",
       "      <td>0.006186</td>\n",
       "      <td>-0.025165</td>\n",
       "      <td>-0.124897</td>\n",
       "      <td>0.974170</td>\n",
       "      <td>260.817710</td>\n",
       "    </tr>\n",
       "  </tbody>\n",
       "</table>\n",
       "</div>"
      ],
      "text/plain": [
       "             param_learning_rate param_max_iter    param_loss param_eta0  \\\n",
       "rank_test_R2                                                               \n",
       "1                     invscaling         100000  squared_loss       0.05   \n",
       "2                     invscaling         100000  squared_loss        0.1   \n",
       "3                     invscaling         100000  squared_loss       0.01   \n",
       "4                       constant         100000  squared_loss       0.01   \n",
       "5                       constant         100000  squared_loss       0.05   \n",
       "6                       constant         100000  squared_loss        0.1   \n",
       "\n",
       "             param_penalty  rank_test_-MSE  rank_test_-MAE  std_test_-MSE  \\\n",
       "rank_test_R2                                                                \n",
       "1                     None               1               1       0.000483   \n",
       "2                     None               2               2       0.000491   \n",
       "3                     None               3               3       0.000495   \n",
       "4                     None               4               4       0.000407   \n",
       "5                     None               5               5       0.001060   \n",
       "6                     None               6               6       0.006079   \n",
       "\n",
       "              std_test_-MAE  std_test_R2  mean_test_-MSE  mean_test_-MAE  \\\n",
       "rank_test_R2                                                               \n",
       "1                  0.001480     0.000550       -0.013347       -0.091036   \n",
       "2                  0.001504     0.000558       -0.013357       -0.091042   \n",
       "3                  0.001434     0.000563       -0.013536       -0.091617   \n",
       "4                  0.001359     0.000468       -0.013584       -0.091974   \n",
       "5                  0.003164     0.001077       -0.014770       -0.095160   \n",
       "6                  0.015979     0.006186       -0.025165       -0.124897   \n",
       "\n",
       "              mean_test_R2  mean_fit_time  \n",
       "rank_test_R2                               \n",
       "1                 0.986287     419.791378  \n",
       "2                 0.986276     426.281453  \n",
       "3                 0.986093     397.558125  \n",
       "4                 0.986044     209.449511  \n",
       "5                 0.984828     257.370240  \n",
       "6                 0.974170     260.817710  "
      ]
     },
     "execution_count": 24,
     "metadata": {},
     "output_type": "execute_result"
    }
   ],
   "source": [
    "top10.sort_values(['rank_test_-MAE'])"
   ]
  },
  {
   "cell_type": "code",
   "execution_count": 25,
   "metadata": {
    "scrolled": true
   },
   "outputs": [
    {
     "data": {
      "text/html": [
       "<div>\n",
       "<style scoped>\n",
       "    .dataframe tbody tr th:only-of-type {\n",
       "        vertical-align: middle;\n",
       "    }\n",
       "\n",
       "    .dataframe tbody tr th {\n",
       "        vertical-align: top;\n",
       "    }\n",
       "\n",
       "    .dataframe thead th {\n",
       "        text-align: right;\n",
       "    }\n",
       "</style>\n",
       "<table border=\"1\" class=\"dataframe\">\n",
       "  <thead>\n",
       "    <tr style=\"text-align: right;\">\n",
       "      <th></th>\n",
       "      <th>param_learning_rate</th>\n",
       "      <th>param_max_iter</th>\n",
       "      <th>param_loss</th>\n",
       "      <th>param_eta0</th>\n",
       "      <th>param_penalty</th>\n",
       "      <th>rank_test_-MSE</th>\n",
       "      <th>rank_test_-MAE</th>\n",
       "      <th>std_test_-MSE</th>\n",
       "      <th>std_test_-MAE</th>\n",
       "      <th>std_test_R2</th>\n",
       "      <th>mean_test_-MSE</th>\n",
       "      <th>mean_test_-MAE</th>\n",
       "      <th>mean_test_R2</th>\n",
       "      <th>mean_fit_time</th>\n",
       "    </tr>\n",
       "    <tr>\n",
       "      <th>rank_test_R2</th>\n",
       "      <th></th>\n",
       "      <th></th>\n",
       "      <th></th>\n",
       "      <th></th>\n",
       "      <th></th>\n",
       "      <th></th>\n",
       "      <th></th>\n",
       "      <th></th>\n",
       "      <th></th>\n",
       "      <th></th>\n",
       "      <th></th>\n",
       "      <th></th>\n",
       "      <th></th>\n",
       "      <th></th>\n",
       "    </tr>\n",
       "  </thead>\n",
       "  <tbody>\n",
       "    <tr>\n",
       "      <th>1</th>\n",
       "      <td>invscaling</td>\n",
       "      <td>100000</td>\n",
       "      <td>squared_loss</td>\n",
       "      <td>0.05</td>\n",
       "      <td>None</td>\n",
       "      <td>1</td>\n",
       "      <td>1</td>\n",
       "      <td>0.000483</td>\n",
       "      <td>0.001480</td>\n",
       "      <td>0.000550</td>\n",
       "      <td>-0.013347</td>\n",
       "      <td>-0.091036</td>\n",
       "      <td>0.986287</td>\n",
       "      <td>419.791378</td>\n",
       "    </tr>\n",
       "    <tr>\n",
       "      <th>2</th>\n",
       "      <td>invscaling</td>\n",
       "      <td>100000</td>\n",
       "      <td>squared_loss</td>\n",
       "      <td>0.1</td>\n",
       "      <td>None</td>\n",
       "      <td>2</td>\n",
       "      <td>2</td>\n",
       "      <td>0.000491</td>\n",
       "      <td>0.001504</td>\n",
       "      <td>0.000558</td>\n",
       "      <td>-0.013357</td>\n",
       "      <td>-0.091042</td>\n",
       "      <td>0.986276</td>\n",
       "      <td>426.281453</td>\n",
       "    </tr>\n",
       "    <tr>\n",
       "      <th>3</th>\n",
       "      <td>invscaling</td>\n",
       "      <td>100000</td>\n",
       "      <td>squared_loss</td>\n",
       "      <td>0.01</td>\n",
       "      <td>None</td>\n",
       "      <td>3</td>\n",
       "      <td>3</td>\n",
       "      <td>0.000495</td>\n",
       "      <td>0.001434</td>\n",
       "      <td>0.000563</td>\n",
       "      <td>-0.013536</td>\n",
       "      <td>-0.091617</td>\n",
       "      <td>0.986093</td>\n",
       "      <td>397.558125</td>\n",
       "    </tr>\n",
       "    <tr>\n",
       "      <th>4</th>\n",
       "      <td>constant</td>\n",
       "      <td>100000</td>\n",
       "      <td>squared_loss</td>\n",
       "      <td>0.01</td>\n",
       "      <td>None</td>\n",
       "      <td>4</td>\n",
       "      <td>4</td>\n",
       "      <td>0.000407</td>\n",
       "      <td>0.001359</td>\n",
       "      <td>0.000468</td>\n",
       "      <td>-0.013584</td>\n",
       "      <td>-0.091974</td>\n",
       "      <td>0.986044</td>\n",
       "      <td>209.449511</td>\n",
       "    </tr>\n",
       "    <tr>\n",
       "      <th>5</th>\n",
       "      <td>constant</td>\n",
       "      <td>100000</td>\n",
       "      <td>squared_loss</td>\n",
       "      <td>0.05</td>\n",
       "      <td>None</td>\n",
       "      <td>5</td>\n",
       "      <td>5</td>\n",
       "      <td>0.001060</td>\n",
       "      <td>0.003164</td>\n",
       "      <td>0.001077</td>\n",
       "      <td>-0.014770</td>\n",
       "      <td>-0.095160</td>\n",
       "      <td>0.984828</td>\n",
       "      <td>257.370240</td>\n",
       "    </tr>\n",
       "    <tr>\n",
       "      <th>6</th>\n",
       "      <td>constant</td>\n",
       "      <td>100000</td>\n",
       "      <td>squared_loss</td>\n",
       "      <td>0.1</td>\n",
       "      <td>None</td>\n",
       "      <td>6</td>\n",
       "      <td>6</td>\n",
       "      <td>0.006079</td>\n",
       "      <td>0.015979</td>\n",
       "      <td>0.006186</td>\n",
       "      <td>-0.025165</td>\n",
       "      <td>-0.124897</td>\n",
       "      <td>0.974170</td>\n",
       "      <td>260.817710</td>\n",
       "    </tr>\n",
       "  </tbody>\n",
       "</table>\n",
       "</div>"
      ],
      "text/plain": [
       "             param_learning_rate param_max_iter    param_loss param_eta0  \\\n",
       "rank_test_R2                                                               \n",
       "1                     invscaling         100000  squared_loss       0.05   \n",
       "2                     invscaling         100000  squared_loss        0.1   \n",
       "3                     invscaling         100000  squared_loss       0.01   \n",
       "4                       constant         100000  squared_loss       0.01   \n",
       "5                       constant         100000  squared_loss       0.05   \n",
       "6                       constant         100000  squared_loss        0.1   \n",
       "\n",
       "             param_penalty  rank_test_-MSE  rank_test_-MAE  std_test_-MSE  \\\n",
       "rank_test_R2                                                                \n",
       "1                     None               1               1       0.000483   \n",
       "2                     None               2               2       0.000491   \n",
       "3                     None               3               3       0.000495   \n",
       "4                     None               4               4       0.000407   \n",
       "5                     None               5               5       0.001060   \n",
       "6                     None               6               6       0.006079   \n",
       "\n",
       "              std_test_-MAE  std_test_R2  mean_test_-MSE  mean_test_-MAE  \\\n",
       "rank_test_R2                                                               \n",
       "1                  0.001480     0.000550       -0.013347       -0.091036   \n",
       "2                  0.001504     0.000558       -0.013357       -0.091042   \n",
       "3                  0.001434     0.000563       -0.013536       -0.091617   \n",
       "4                  0.001359     0.000468       -0.013584       -0.091974   \n",
       "5                  0.003164     0.001077       -0.014770       -0.095160   \n",
       "6                  0.015979     0.006186       -0.025165       -0.124897   \n",
       "\n",
       "              mean_test_R2  mean_fit_time  \n",
       "rank_test_R2                               \n",
       "1                 0.986287     419.791378  \n",
       "2                 0.986276     426.281453  \n",
       "3                 0.986093     397.558125  \n",
       "4                 0.986044     209.449511  \n",
       "5                 0.984828     257.370240  \n",
       "6                 0.974170     260.817710  "
      ]
     },
     "execution_count": 25,
     "metadata": {},
     "output_type": "execute_result"
    }
   ],
   "source": [
    "top10.sort_values(['rank_test_-MSE'])"
   ]
  },
  {
   "cell_type": "markdown",
   "metadata": {},
   "source": [
    "## Best parameters found "
   ]
  },
  {
   "cell_type": "code",
   "execution_count": 26,
   "metadata": {},
   "outputs": [
    {
     "data": {
      "text/plain": [
       "{'eta0': 0.05,\n",
       " 'learning_rate': 'invscaling',\n",
       " 'loss': 'squared_loss',\n",
       " 'max_iter': 100000,\n",
       " 'penalty': None}"
      ]
     },
     "execution_count": 26,
     "metadata": {},
     "output_type": "execute_result"
    }
   ],
   "source": [
    "regr.best_params_"
   ]
  }
 ],
 "metadata": {
  "kernelspec": {
   "display_name": "Python 3",
   "language": "python",
   "name": "python3"
  },
  "language_info": {
   "codemirror_mode": {
    "name": "ipython",
    "version": 3
   },
   "file_extension": ".py",
   "mimetype": "text/x-python",
   "name": "python",
   "nbconvert_exporter": "python",
   "pygments_lexer": "ipython3",
   "version": "3.5.2"
  }
 },
 "nbformat": 4,
 "nbformat_minor": 2
}
